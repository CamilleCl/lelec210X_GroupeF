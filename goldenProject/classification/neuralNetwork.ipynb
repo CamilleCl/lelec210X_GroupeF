{
 "cells": [
  {
   "cell_type": "code",
   "execution_count": 3,
   "metadata": {},
   "outputs": [
    {
     "ename": "SyntaxError",
     "evalue": "invalid syntax (audio_student.py, line 1)",
     "output_type": "error",
     "traceback": [
      "Traceback \u001b[0;36m(most recent call last)\u001b[0m:\n",
      "\u001b[0m  File \u001b[1;32m~/.cache/pypoetry/virtualenvs/lelec210x-C4YOSB4N-py3.8/lib/python3.8/site-packages/IPython/core/interactiveshell.py:3508\u001b[0m in \u001b[1;35mrun_code\u001b[0m\n    exec(code_obj, self.user_global_ns, self.user_ns)\u001b[0m\n",
      "\u001b[0;36m  Cell \u001b[0;32mIn[3], line 12\u001b[0;36m\n\u001b[0;31m    from classification.utils.audio_student import AudioUtil, Feature_vector_DS\u001b[0;36m\n",
      "\u001b[0;36m  File \u001b[0;32m~/Documents/LELEC210X/lelec210X_GroupeF/classification/src/classification/utils/audio_student.py:1\u001b[0;36m\u001b[0m\n\u001b[0;31m    <<<<<<< HEAD\u001b[0m\n\u001b[0m    ^\u001b[0m\n\u001b[0;31mSyntaxError\u001b[0m\u001b[0;31m:\u001b[0m invalid syntax\n"
     ]
    }
   ],
   "source": [
    "import os\n",
    "import numpy as np\n",
    "import matplotlib.pyplot as plt\n",
    "\n",
    "\"Machine learning tools\"\n",
    "from sklearn.decomposition import PCA\n",
    "import pickle\n",
    "\n",
    "from classification.datasets import Dataset\n",
    "from classification.utils.plots import plot_specgram, show_confusion_matrix, plot_decision_boundaries\n",
    "from classification.utils.utils import accuracy\n",
    "from classification.utils.audio_student import AudioUtil, Feature_vector_DS"
   ]
  },
  {
   "cell_type": "code",
   "execution_count": null,
   "metadata": {},
   "outputs": [],
   "source": [
    "dataset = Dataset()\n",
    "classnames = dataset.list_classes()\n",
    "\n",
    "print(\"\\n\".join(classnames))"
   ]
  },
  {
   "cell_type": "code",
   "execution_count": null,
   "metadata": {},
   "outputs": [],
   "source": [
    "fm_dir = \"data/feature_matrices/\" # where to save the features matrices\n",
    "model_dir = \"data/models/\" # where to save the models\n",
    "os.makedirs(fm_dir, exist_ok=True)\n",
    "os.makedirs(model_dir, exist_ok=True)"
   ]
  },
  {
   "cell_type": "code",
   "execution_count": 2,
   "metadata": {},
   "outputs": [
    {
     "ename": "NameError",
     "evalue": "name 'Feature_vector_DS' is not defined",
     "output_type": "error",
     "traceback": [
      "\u001b[0;31m---------------------------------------------------------------------------\u001b[0m",
      "\u001b[0;31mNameError\u001b[0m                                 Traceback (most recent call last)",
      "Cell \u001b[0;32mIn[2], line 2\u001b[0m\n\u001b[1;32m      1\u001b[0m \u001b[38;5;124m\"\u001b[39m\u001b[38;5;124mCreation of the dataset\u001b[39m\u001b[38;5;124m\"\u001b[39m\n\u001b[0;32m----> 2\u001b[0m myds \u001b[38;5;241m=\u001b[39m \u001b[43mFeature_vector_DS\u001b[49m(dataset, Nft\u001b[38;5;241m=\u001b[39m\u001b[38;5;241m512\u001b[39m, nmel\u001b[38;5;241m=\u001b[39m\u001b[38;5;241m20\u001b[39m, duration\u001b[38;5;241m=\u001b[39m\u001b[38;5;241m950\u001b[39m, shift_pct\u001b[38;5;241m=\u001b[39m\u001b[38;5;241m0.0\u001b[39m)\n\u001b[1;32m      4\u001b[0m \u001b[38;5;124m\"\u001b[39m\u001b[38;5;124mSome attributes...\u001b[39m\u001b[38;5;124m\"\u001b[39m\n\u001b[1;32m      5\u001b[0m myds\u001b[38;5;241m.\u001b[39mnmel\n",
      "\u001b[0;31mNameError\u001b[0m: name 'Feature_vector_DS' is not defined"
     ]
    }
   ],
   "source": [
    "\"Creation of the dataset\"\n",
    "myds = Feature_vector_DS(dataset, Nft=512, nmel=20, duration=950, shift_pct=0.0)\n",
    "\n",
    "\"Some attributes...\"\n",
    "myds.nmel\n",
    "myds.duration\n",
    "myds.shift_pct\n",
    "myds.sr\n",
    "myds.data_aug\n",
    "myds.ncol"
   ]
  },
  {
   "cell_type": "markdown",
   "metadata": {},
   "source": [
    "<font size=5 color=#009999> Augmenting the data </font> <br>"
   ]
  },
  {
   "cell_type": "code",
   "execution_count": null,
   "metadata": {},
   "outputs": [],
   "source": [
    "myds.data_aug = None # Ensure\n",
    "\n",
    "cls_index = [\"birds\", 4]\n",
    "\n",
    "sound = dataset.__getitem__(cls_index)\n",
    "name = dataset.__getname__(cls_index)\n",
    "audio = AudioUtil.open(sound)\n",
    "\n",
    "AudioUtil.play(audio)\n",
    "audio2 = AudioUtil.resample(audio, 11025)\n",
    "audio2 = AudioUtil.pad_trunc(audio2, 5000)\n",
    "\n",
    "audio3 = AudioUtil.time_shift(audio2, 0.4)\n",
    "audio4 = AudioUtil.scaling(audio2) \n",
    "audio5 = AudioUtil.add_noise(audio2, sigma=1e-2)\n",
    "audio6 = AudioUtil.echo(audio2, 3)\n",
    "audio7 = AudioUtil.add_bg(audio2, dataset)\n",
    "\n",
    "melspec = AudioUtil.melspectrogram(audio2, fs2=11025)\n",
    "melspec2 = AudioUtil.spectro_aug_timefreq_masking(melspec, max_mask_pct=0.1)"
   ]
  },
  {
   "cell_type": "markdown",
   "metadata": {},
   "source": [
    "<font size=5 color=#009999> Split dataset </font> <br>"
   ]
  },
  {
   "cell_type": "code",
   "execution_count": null,
   "metadata": {},
   "outputs": [],
   "source": []
  }
 ],
 "metadata": {
  "kernelspec": {
   "display_name": "LELEC210X",
   "language": "python",
   "name": "lelec210x"
  },
  "language_info": {
   "codemirror_mode": {
    "name": "ipython",
    "version": 3
   },
   "file_extension": ".py",
   "mimetype": "text/x-python",
   "name": "python",
   "nbconvert_exporter": "python",
   "pygments_lexer": "ipython3",
   "version": "3.8.10"
  }
 },
 "nbformat": 4,
 "nbformat_minor": 4
}
