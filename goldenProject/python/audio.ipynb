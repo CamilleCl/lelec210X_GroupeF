{
 "cells": [
  {
   "cell_type": "code",
   "execution_count": 2,
   "id": "547dbe34-1d31-4be3-a5fc-ef49f9427422",
   "metadata": {},
   "outputs": [],
   "source": [
    "import librosa  # For audio signal computations as MFCC\n",
    "import matplotlib.pyplot as plt\n",
    "import numpy as np\n",
    "import sounddevice as sd\n",
    "import soundfile as sf\n",
    "from scipy import signal\n",
    "from scipy.fftpack import dct\n",
    "\n",
    "import time\n",
    "\n",
    "from classification.datasets import Dataset, get_cls_from_path\n",
    "from classification.utils.plots import plot_audio, plot_specgram"
   ]
  },
  {
   "cell_type": "code",
   "execution_count": 3,
   "id": "ae3f199c-e967-4ea8-b10d-0fe8067ed4d8",
   "metadata": {},
   "outputs": [
    {
     "name": "stdout",
     "output_type": "stream",
     "text": [
      "helicopter\n",
      "chainsaw\n",
      "birds\n",
      "handsaw\n",
      "fire\n"
     ]
    }
   ],
   "source": [
    "dataset = Dataset()\n",
    "\n",
    "print(\"\\n\".join(dataset.list_classes()))"
   ]
  },
  {
   "cell_type": "code",
   "execution_count": null,
   "id": "5ecca57d-ceb3-4eb0-9de7-59957116335e",
   "metadata": {},
   "outputs": [
    {
     "name": "stdout",
     "output_type": "stream",
     "text": [
      "Playing a \"birds\"\n",
      "Playing a \"birds\"\n",
      "Playing a \"birds\"\n",
      "Playing a \"birds\"\n",
      "Playing a \"birds\"\n",
      "Playing a \"birds\"\n",
      "Playing a \"birds\"\n",
      "Playing a \"birds\"\n",
      "Playing a \"birds\"\n",
      "Playing a \"birds\"\n",
      "Playing a \"birds\"\n",
      "Playing a \"birds\"\n",
      "Playing a \"birds\"\n",
      "Playing a \"birds\"\n",
      "Playing a \"birds\"\n"
     ]
    }
   ],
   "source": [
    "classes = dataset.list_classes()\n",
    "ground_class = []\n",
    "\n",
    "filename = \"ground_classes.csv\"\n",
    "\n",
    "# file = open(filename, \"w\")\n",
    "# file.close()\n",
    "\n",
    "# for classe in classes:\n",
    "#     for i in range(20):\n",
    "#         sound = dataset[classe, i]\n",
    "#         x, fs = sf.read(sound)\n",
    "#         # target_dB = 25\n",
    "#         # x /= np.linalg.norm(x) * 10 ** (-target_dB / 20)\n",
    "#         print(f'Playing a \"{get_cls_from_path(sound)}\"')\n",
    "#         sd.play(x, fs)\n",
    "\n",
    "#         ground_class.append(classe)\n",
    "\n",
    "#         file = open(filename, \"a\")\n",
    "#         file.write(f\"{classe}\\n\")\n",
    "#         file.close()\n",
    "        \n",
    "#         time.sleep(5)\n",
    "\n",
    "classe = 'birds'\n",
    "for i in range(20):\n",
    "        sound = dataset[classe, i]\n",
    "        x, fs = sf.read(sound)\n",
    "        # target_dB = 25\n",
    "        # x /= np.linalg.norm(x) * 10 ** (-target_dB / 20)\n",
    "        print(f'Playing a \"{get_cls_from_path(sound)}\"')\n",
    "        sd.play(x, fs)\n",
    "\n",
    "        ground_class.append(classe)\n",
    "\n",
    "        file = open(filename, \"a\")\n",
    "        file.write(f\"{classe}\\n\")\n",
    "        file.close()\n",
    "        \n",
    "        time.sleep(5)"
   ]
  },
  {
   "cell_type": "code",
   "execution_count": null,
   "id": "b62ee01c-b303-4a01-a792-0723729d608a",
   "metadata": {},
   "outputs": [],
   "source": []
  }
 ],
 "metadata": {
  "kernelspec": {
   "display_name": "LELEC210X",
   "language": "python",
   "name": "lelec210x"
  },
  "language_info": {
   "codemirror_mode": {
    "name": "ipython",
    "version": 3
   },
   "file_extension": ".py",
   "mimetype": "text/x-python",
   "name": "python",
   "nbconvert_exporter": "python",
   "pygments_lexer": "ipython3",
   "version": "3.8.10"
  }
 },
 "nbformat": 4,
 "nbformat_minor": 5
}
