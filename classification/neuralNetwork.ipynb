{
 "cells": [
  {
   "cell_type": "code",
   "execution_count": 1,
   "metadata": {},
   "outputs": [],
   "source": [
    "import os\n",
    "import numpy as np\n",
    "import matplotlib.pyplot as plt\n",
    "\n",
    "\"Machine learning tools\"\n",
    "from sklearn.neighbors import KNeighborsClassifier\n",
    "from sklearn.model_selection import train_test_split, StratifiedKFold\n",
    "from sklearn.decomposition import PCA\n",
    "import pickle\n",
    "from pathlib import Path\n",
    "from typing import List, Tuple\n",
    "import glob\n",
    "\n",
    "from classification.datasets import Dataset\n",
    "\n",
    "from classification.utils.plots import plot_specgram, show_confusion_matrix, plot_decision_boundaries\n",
    "from classification.utils.utils import accuracy\n",
    "from classification.utils.audio_student import AudioUtil, Feature_vector_DS"
   ]
  },
  {
   "cell_type": "markdown",
   "metadata": {},
   "source": [
    "<font size=5 color=#009999> 1. Our dataset </font> <br>"
   ]
  },
  {
   "cell_type": "markdown",
   "metadata": {},
   "source": [
    "<font size=4 color=#009999> 1.1 Training the model </font> <br>"
   ]
  },
  {
   "cell_type": "code",
   "execution_count": 2,
   "metadata": {},
   "outputs": [
    {
     "name": "stdout",
     "output_type": "stream",
     "text": [
      "../goldenProject/python/melvectors/birds_0.pickle\n",
      "birds\n",
      "../goldenProject/python/melvectors/birds_1.pickle\n",
      "birds\n",
      "../goldenProject/python/melvectors/birds_2.pickle\n",
      "birds\n",
      "../goldenProject/python/melvectors/birds_3.pickle\n",
      "birds\n",
      "../goldenProject/python/melvectors/birds_4.pickle\n",
      "birds\n",
      "../goldenProject/python/melvectors/chainsaw_0.pickle\n",
      "chainsaw\n",
      "../goldenProject/python/melvectors/chainsaw_1.pickle\n",
      "chainsaw\n",
      "../goldenProject/python/melvectors/chainsaw_2.pickle\n",
      "chainsaw\n",
      "../goldenProject/python/melvectors/chainsaw_3.pickle\n",
      "chainsaw\n",
      "../goldenProject/python/melvectors/chainsaw_4.pickle\n",
      "chainsaw\n",
      "../goldenProject/python/melvectors/fire_0.pickle\n",
      "fire\n",
      "../goldenProject/python/melvectors/fire_1.pickle\n",
      "fire\n",
      "../goldenProject/python/melvectors/fire_2.pickle\n",
      "fire\n",
      "../goldenProject/python/melvectors/fire_3.pickle\n",
      "fire\n",
      "../goldenProject/python/melvectors/fire_4.pickle\n",
      "fire\n",
      "../goldenProject/python/melvectors/handsaw_0.pickle\n",
      "handsaw\n",
      "../goldenProject/python/melvectors/handsaw_1.pickle\n",
      "handsaw\n",
      "../goldenProject/python/melvectors/handsaw_2.pickle\n",
      "handsaw\n",
      "../goldenProject/python/melvectors/handsaw_3.pickle\n",
      "handsaw\n",
      "../goldenProject/python/melvectors/handsaw_4.pickle\n",
      "handsaw\n",
      "../goldenProject/python/melvectors/helicopter_0.pickle\n",
      "helicopter\n",
      "../goldenProject/python/melvectors/helicopter_1.pickle\n",
      "helicopter\n",
      "../goldenProject/python/melvectors/helicopter_2.pickle\n",
      "helicopter\n",
      "../goldenProject/python/melvectors/helicopter_3.pickle\n",
      "helicopter\n",
      "../goldenProject/python/melvectors/helicopter_4.pickle\n",
      "helicopter\n",
      "{'birds': [PosixPath('../goldenProject/python/melvectors/birds_0.pickle'), PosixPath('../goldenProject/python/melvectors/birds_1.pickle'), PosixPath('../goldenProject/python/melvectors/birds_2.pickle'), PosixPath('../goldenProject/python/melvectors/birds_3.pickle'), PosixPath('../goldenProject/python/melvectors/birds_4.pickle')], 'chainsaw': [PosixPath('../goldenProject/python/melvectors/chainsaw_0.pickle'), PosixPath('../goldenProject/python/melvectors/chainsaw_1.pickle'), PosixPath('../goldenProject/python/melvectors/chainsaw_2.pickle'), PosixPath('../goldenProject/python/melvectors/chainsaw_3.pickle'), PosixPath('../goldenProject/python/melvectors/chainsaw_4.pickle')], 'fire': [PosixPath('../goldenProject/python/melvectors/fire_0.pickle'), PosixPath('../goldenProject/python/melvectors/fire_1.pickle'), PosixPath('../goldenProject/python/melvectors/fire_2.pickle'), PosixPath('../goldenProject/python/melvectors/fire_3.pickle'), PosixPath('../goldenProject/python/melvectors/fire_4.pickle')], 'handsaw': [PosixPath('../goldenProject/python/melvectors/handsaw_0.pickle'), PosixPath('../goldenProject/python/melvectors/handsaw_1.pickle'), PosixPath('../goldenProject/python/melvectors/handsaw_2.pickle'), PosixPath('../goldenProject/python/melvectors/handsaw_3.pickle'), PosixPath('../goldenProject/python/melvectors/handsaw_4.pickle')], 'helicopter': [PosixPath('../goldenProject/python/melvectors/helicopter_0.pickle'), PosixPath('../goldenProject/python/melvectors/helicopter_1.pickle'), PosixPath('../goldenProject/python/melvectors/helicopter_2.pickle'), PosixPath('../goldenProject/python/melvectors/helicopter_3.pickle'), PosixPath('../goldenProject/python/melvectors/helicopter_4.pickle')]}\n"
     ]
    },
    {
     "ename": "NameError",
     "evalue": "name 'self' is not defined",
     "output_type": "error",
     "traceback": [
      "\u001b[0;31m---------------------------------------------------------------------------\u001b[0m",
      "\u001b[0;31mNameError\u001b[0m                                 Traceback (most recent call last)",
      "Cell \u001b[0;32mIn[2], line 24\u001b[0m\n\u001b[1;32m     22\u001b[0m nclass \u001b[38;5;241m=\u001b[39m \u001b[38;5;28mlen\u001b[39m(files)\n\u001b[1;32m     23\u001b[0m naudio \u001b[38;5;241m=\u001b[39m \u001b[38;5;28mlen\u001b[39m(files[\u001b[38;5;28mlist\u001b[39m(files\u001b[38;5;241m.\u001b[39mkeys())[\u001b[38;5;241m0\u001b[39m]])\n\u001b[0;32m---> 24\u001b[0m size \u001b[38;5;241m=\u001b[39m \u001b[38;5;28;43mself\u001b[39;49m\u001b[38;5;241m.\u001b[39mnclass \u001b[38;5;241m*\u001b[39m \u001b[38;5;28mself\u001b[39m\u001b[38;5;241m.\u001b[39mnaudio\n\u001b[1;32m     28\u001b[0m \u001b[38;5;66;03m# plt.figure()\u001b[39;00m\n\u001b[1;32m     29\u001b[0m \u001b[38;5;66;03m# plot_specgram(fv.reshape((20, 20)).T, ax=plt.gca(), is_mel=True, title=\"MEL Spectrogram\", xlabel=\"Mel vector\")\u001b[39;00m\n\u001b[1;32m     30\u001b[0m \u001b[38;5;66;03m# plt.show()\u001b[39;00m\n",
      "\u001b[0;31mNameError\u001b[0m: name 'self' is not defined"
     ]
    }
   ],
   "source": [
    "def get_cls_from_path(file):\n",
    "    return file.stem.split(\"_\", maxsplit=1)[0]\n",
    "\n",
    "\n",
    "fv_dir = \"../goldenProject/python/melvectors/\" # where to save the models\n",
    "format = \"pickle\"\n",
    "classnames = ['birds','chainsaw','fire','handsaw','helicopter']\n",
    "\n",
    "#fv = pickle.load(open(fv_dir + filename, 'rb'))\n",
    "#print(fv)\n",
    "#print(fv.shape)\n",
    "\n",
    "files = {}\n",
    "for file in sorted((Path(fv_dir)).glob(\"**/*.\" + format)):\n",
    "    print(str(file))\n",
    "    fv = pickle.load(open(file, 'rb'))\n",
    "    cls = get_cls_from_path(file)\n",
    "    print(cls)\n",
    "    files.setdefault(cls, []).append(file)\n",
    "print(files)\n",
    "\n",
    "nclass = len(files)\n",
    "naudio = len(files[list(files.keys())[0]])\n",
    "size = self.nclass * self.naudio\n",
    "\n",
    "\n",
    "\n",
    "# plt.figure()\n",
    "# plot_specgram(fv.reshape((20, 20)).T, ax=plt.gca(), is_mel=True, title=\"MEL Spectrogram\", xlabel=\"Mel vector\")\n",
    "# plt.show()\n"
   ]
  },
  {
   "cell_type": "code",
   "execution_count": null,
   "metadata": {},
   "outputs": [],
   "source": [
    "### Features vectors build matrix ###\n",
    "\n",
    "train_pct = 0.7\n",
    "\n",
    "featveclen = len(myds[\"fire\",0]) # number of items in a feature vector\n",
    "nitems = len(myds) # number of sounds in the dataset\n",
    "naudio = dataset.naudio # number of audio files in each class\n",
    "nclass = dataset.nclass # number of classes\n",
    "nlearn = round(naudio * train_pct) # number of sounds among naudio for training\n",
    "\n",
    "data_aug_factor = 1\n",
    "class_ids_aug = np.repeat(classnames, naudio*data_aug_factor) #matrice avec les noms des classes x le nombre de sons (40 de base)\n",
    "\n",
    "\n",
    "X = np.zeros((data_aug_factor*nclass*naudio, featveclen)) #nombre de sons total x taille du feature vector\n",
    "for s in range(data_aug_factor):\n",
    "    for class_idx, classname in enumerate(classnames):\n",
    "        for idx in range(naudio):\n",
    "            featvec = myds[classname, idx] #melspec\n",
    "            X[s*nclass*naudio+class_idx*naudio+idx,:] = featvec       \n",
    "np.save(fm_dir+\"feature_matrix_2D.npy\", X)"
   ]
  },
  {
   "cell_type": "code",
   "execution_count": null,
   "metadata": {},
   "outputs": [],
   "source": [
    "# X = np.load(fm_dir+\"feature_matrix_2D.npy\")\n",
    "\n",
    "# \"Labels\"\n",
    "# y = class_ids_aug.copy() #noms des sons\n",
    "\n",
    "# print('Shape of the feature matrix : {}'.format(X.shape))\n",
    "# print('Number of labels : {}'.format(len(y)))\n",
    "\n",
    "### Training the simple KNN ###\n",
    "\n",
    "\n",
    "\n",
    "### Accuracy ###"
   ]
  },
  {
   "cell_type": "code",
   "execution_count": null,
   "metadata": {},
   "outputs": [],
   "source": []
  },
  {
   "cell_type": "markdown",
   "metadata": {},
   "source": [
    "<font size=5 color=#009999> 2. Basic dataset </font> <br>"
   ]
  },
  {
   "cell_type": "code",
   "execution_count": 5,
   "metadata": {},
   "outputs": [
    {
     "name": "stdout",
     "output_type": "stream",
     "text": [
      "birds\n",
      "chainsaw\n",
      "fire\n",
      "handsaw\n",
      "helicopter\n"
     ]
    }
   ],
   "source": [
    "dataset = Dataset()\n",
    "classnames = dataset.list_classes()\n",
    "\n",
    "print(\"\\n\".join(classnames))"
   ]
  },
  {
   "cell_type": "code",
   "execution_count": 6,
   "metadata": {},
   "outputs": [],
   "source": [
    "fm_dir = \"dataNN/feature_ma/\" # where to save the features matrices\n",
    "model_dir = \"dataNN/model/\" # where to save the models\n",
    "os.makedirs(fm_dir, exist_ok=True)\n",
    "os.makedirs(model_dir, exist_ok=True)"
   ]
  },
  {
   "cell_type": "code",
   "execution_count": 7,
   "metadata": {},
   "outputs": [
    {
     "data": {
      "text/plain": [
       "20"
      ]
     },
     "execution_count": 7,
     "metadata": {},
     "output_type": "execute_result"
    }
   ],
   "source": [
    "\"Creation of the dataset\"\n",
    "myds = Feature_vector_DS(dataset, Nft=512, nmel=20, duration=950, shift_pct=0.0)\n",
    "\n",
    "\"Some attributes...\"\n",
    "myds.nmel\n",
    "myds.duration\n",
    "myds.shift_pct\n",
    "myds.sr\n",
    "myds.data_aug\n",
    "myds.ncol"
   ]
  },
  {
   "cell_type": "code",
   "execution_count": 13,
   "metadata": {},
   "outputs": [
    {
     "name": "stdout",
     "output_type": "stream",
     "text": [
      "Shape of the feature matrix : (200, 400)\n",
      "Number of labels : 200\n"
     ]
    }
   ],
   "source": [
    "### TO RUN\n",
    "\"Random split of 70:30 between training and validation\"\n",
    "train_pct = 0.7\n",
    "\n",
    "featveclen = len(myds[\"fire\",0]) # number of items in a feature vector\n",
    "nitems = len(myds) # number of sounds in the dataset\n",
    "naudio = dataset.naudio # number of audio files in each class\n",
    "nclass = dataset.nclass # number of classes\n",
    "nlearn = round(naudio * train_pct) # number of sounds among naudio for training\n",
    "\n",
    "data_aug_factor = 1\n",
    "class_ids_aug = np.repeat(classnames, naudio*data_aug_factor)\n",
    "\n",
    "\"Compute the matrixed dataset, this takes some seconds, but you can then reload it by commenting this loop and decommenting the np.load below\"\n",
    "X = np.zeros((data_aug_factor*nclass*naudio, featveclen))\n",
    "for s in range(data_aug_factor):\n",
    "    for class_idx, classname in enumerate(classnames):\n",
    "        for idx in range(naudio):\n",
    "            featvec = myds[classname, idx]\n",
    "            X[s*nclass*naudio+class_idx*naudio+idx,:] = featvec       \n",
    "np.save(fm_dir+\"feature_matrix_2D.npy\", X)\n",
    "\n",
    "# X = np.load(fm_dir+\"feature_matrix_2D.npy\")\n",
    "\n",
    "\"Labels\"\n",
    "y = class_ids_aug.copy()\n",
    "\n",
    "print('Shape of the feature matrix : {}'.format(X.shape))\n",
    "print('Number of labels : {}'.format(len(y)))"
   ]
  },
  {
   "cell_type": "markdown",
   "metadata": {},
   "source": [
    "<font size=5 color=#009999> Augmentation data </font> <br>"
   ]
  },
  {
   "cell_type": "code",
   "execution_count": 62,
   "metadata": {},
   "outputs": [
    {
     "name": "stdout",
     "output_type": "stream",
     "text": [
      "0\n",
      "1\n",
      "2\n",
      "3\n",
      "4\n",
      "5\n",
      "6\n",
      "7\n",
      "8\n",
      "9\n",
      "600\n",
      "Shape of the feature matrix : (600, 400)\n",
      "Number of labels : 600\n"
     ]
    }
   ],
   "source": [
    "import time\n",
    "\n",
    "myds.data_aug = None # Ensure\n",
    "myds.data_aug_factor = 1\n",
    "\n",
    "### TO RUN\n",
    "# myds.mod_data_aug(['add_bg'])\n",
    "# myds.mod_data_aug(['echo'])\n",
    "# myds.mod_data_aug(['noise'])\n",
    "# myds.mod_data_aug(['scaling'])\n",
    "\n",
    "myds.mod_data_aug(['echo','add_bg'])\n",
    "y_aug = np.repeat(classnames, dataset.naudio*myds.data_aug_factor) # Labels\n",
    "\n",
    "for i in range (10):\n",
    "    print(i)\n",
    "    cls_index = [\"birds\",i]\n",
    "    sound = dataset.__getitem__(cls_index) \n",
    "    audio = AudioUtil.open(sound)\n",
    "    AudioUtil.play(audio)\n",
    "    time.sleep(5)\n",
    "    \n",
    "\n",
    "\"Compute the matrixed dataset, this takes some seconds, but you can then reload it by commenting this loop and decommenting the np.load below\"\n",
    "X_aug = np.zeros((myds.data_aug_factor*nclass*naudio, featveclen))\n",
    "for s in range(myds.data_aug_factor):\n",
    "    for idx in range(dataset.naudio):\n",
    "        for class_idx, classname in enumerate(classnames):\n",
    "            featvec = myds[classname, idx]  \n",
    "            X_aug[s*nclass*naudio+class_idx*naudio+idx,:] = featvec \n",
    "np.save(fm_dir+\"feature_matrix_2D_aug.npy\", X_aug)\n",
    "print(len(X_aug))\n",
    "#X_aug = np.load(fm_dir+\"feature_matrix_2D_aug.npy\")\n",
    "\n",
    "print('Shape of the feature matrix : {}'.format(X_aug.shape))\n",
    "print('Number of labels : {}'.format(len(y_aug)))"
   ]
  },
  {
   "cell_type": "code",
   "execution_count": 55,
   "metadata": {},
   "outputs": [
    {
     "name": "stdout",
     "output_type": "stream",
     "text": [
      "Accuracy of KNN with fixed train/validation sets : 10.6%\n"
     ]
    },
    {
     "data": {
      "image/png": "[encoded data removed]",
      "text/plain": [
       "<Figure size 300x300 with 1 Axes>"
      ]
     },
     "metadata": {},
     "output_type": "display_data"
    }
   ],
   "source": [
    "train_pct = 0.7\n",
    "X_train, X_test, y_train, y_test = train_test_split(X_aug, y_aug, test_size=0.3, stratify=y_aug)\n",
    "\n",
    "X_train_normalised = X_train / np.linalg.norm(X_train, axis=1, keepdims=True)\n",
    "X_test_normalised = X_test / np.linalg.norm(X_test, axis=1, keepdims=True)\n",
    "\n",
    "#-------------------------\n",
    "\n",
    "K = 15 # Number of neighbours for the KNN\n",
    "model = KNeighborsClassifier(n_neighbors=K, weights='distance', algorithm='auto', metric='minkowski') #We explicitly write the default parameters of this KNN classifier once so that you know they exist and can be changed\n",
    "\n",
    "model.fit(X_train_normalised,y_train)\n",
    "prediction = model.predict(X_test_normalised)\n",
    "\n",
    "accuracy_knn = accuracy(prediction , y_test)\n",
    "\n",
    "print('Accuracy of KNN with fixed train/validation sets : {:.1f}%'.format(100*accuracy_knn))\n",
    "show_confusion_matrix (prediction, y_test, classnames)"
   ]
  },
  {
   "cell_type": "markdown",
   "metadata": {},
   "source": [
    "<font size=5 color=#009999> Simple KNN - jouet </font> <br>"
   ]
  },
  {
   "cell_type": "code",
   "execution_count": 9,
   "metadata": {},
   "outputs": [
    {
     "name": "stdout",
     "output_type": "stream",
     "text": [
      "Accuracy of KNN with fixed train/validation sets : 46.7%\n"
     ]
    },
    {
     "data": {
      "image/png": "[encoded data removed]",
      "text/plain": [
       "<Figure size 300x300 with 1 Axes>"
      ]
     },
     "metadata": {},
     "output_type": "display_data"
    }
   ],
   "source": [
    "train_pct = 0.7\n",
    "X_train, X_test, y_train, y_test = train_test_split(X, y, test_size=0.3, stratify=y)\n",
    "\n",
    "X_train_normalised = X_train / np.linalg.norm(X_train, axis=1, keepdims=True)\n",
    "X_test_normalised = X_test / np.linalg.norm(X_test, axis=1, keepdims=True)\n",
    "\n",
    "#-------------------------\n",
    "\n",
    "K = 15 # Number of neighbours for the KNN\n",
    "model = KNeighborsClassifier(n_neighbors=K, weights='distance', algorithm='auto', metric='minkowski') #We explicitly write the default parameters of this KNN classifier once so that you know they exist and can be changed\n",
    "\n",
    "model.fit(X_train_normalised,y_train)\n",
    "prediction = model.predict(X_test_normalised)\n",
    "\n",
    "accuracy_knn = accuracy(prediction , y_test)\n",
    "\n",
    "print('Accuracy of KNN with fixed train/validation sets : {:.1f}%'.format(100*accuracy_knn))\n",
    "show_confusion_matrix (prediction, y_test, classnames)\n",
    "\n"
   ]
  },
  {
   "cell_type": "code",
   "execution_count": 10,
   "metadata": {},
   "outputs": [
    {
     "name": "stdout",
     "output_type": "stream",
     "text": [
      "Mean accuracy with 5-Fold CV: 41.4%\n",
      "Std deviation in accuracy with 5-Fold CV: 8.3%\n"
     ]
    },
    {
     "data": {
      "image/png": "[encoded data removed]",
      "text/plain": [
       "<Figure size 300x300 with 1 Axes>"
      ]
     },
     "metadata": {},
     "output_type": "display_data"
    }
   ],
   "source": [
    "K = 15 # Number of neighbours for the KNN\n",
    "model = KNeighborsClassifier(n_neighbors=K, weights='distance', algorithm='auto', metric='minkowski') #We explicitly write the default parameters of this KNN classifier once so that you know they exist and can be changed\n",
    "\n",
    "n_splits = 10\n",
    "kf = StratifiedKFold(n_splits=n_splits,shuffle=True)\n",
    "\n",
    "accuracy_KNN = np.zeros((n_splits,))\n",
    "for k, idx in enumerate(kf.split(X_train_normalised,y_train)):\n",
    "  (idx_train, idx_test) = idx\n",
    "  model.fit(X_train_normalised[idx_train], y_train[idx_train])\n",
    "  prediction_KNN = model.predict(X_train_normalised[idx_test])\n",
    "  accuracy_KNN[k] = accuracy(prediction_KNN, y_train[idx_test])\n",
    "\n",
    "print('Mean accuracy with 5-Fold CV: {:.1f}%'.format(100*accuracy_KNN.mean()))\n",
    "print('Std deviation in accuracy with 5-Fold CV: {:.1f}%'.format(100*accuracy_KNN.std()))\n",
    "show_confusion_matrix(prediction_KNN, y_train[idx_test], classnames)\n"
   ]
  },
  {
   "cell_type": "code",
   "execution_count": 11,
   "metadata": {},
   "outputs": [
    {
     "data": {
      "image/png": "[encoded data removed]",
      "text/plain": [
       "<Figure size 600x300 with 1 Axes>"
      ]
     },
     "metadata": {},
     "output_type": "display_data"
    }
   ],
   "source": [
    "### TO RUN\n",
    "Ks = np.arange(6,25, 1)\n",
    "accuracies_knn = np.zeros((len(Ks), n_splits))\n",
    "for i,K in enumerate(Ks):\n",
    "    model_knn = KNeighborsClassifier(n_neighbors=K, weights='distance') \n",
    "    for k, idx in enumerate(kf.split(X_train,y_train)):\n",
    "            (idx_learn, idx_val) = idx\n",
    "            model_knn.fit(X_train[idx_learn], y_train[idx_learn])\n",
    "            prediction_knn = model_knn.predict(X_train[idx_val])\n",
    "            accuracies_knn[i,k] = accuracy(prediction_knn, y_train[idx_val])\n",
    "means_knn = accuracies_knn.mean(axis=1)\n",
    "stds_knn = accuracies_knn.std(axis=1)\n",
    "\n",
    "\"Plot\"\n",
    "plt.figure(figsize=(6,3))\n",
    "plt.plot(Ks, means_knn, '.-b', label='KNN')\n",
    "plt.fill_between(Ks,means_knn-stds_knn,means_knn+stds_knn,alpha=0.2,color='b')\n",
    "plt.ylim(0,1)\n",
    "plt.xlabel('K')\n",
    "plt.ylabel('Accuracy')\n",
    "plt.legend()\n",
    "plt.show()"
   ]
  },
  {
   "cell_type": "code",
   "execution_count": null,
   "metadata": {},
   "outputs": [],
   "source": [
    "#Save the trained model, eventually the pca.\n",
    "#filename = 'model.pickle'\n",
    "#pickle.dump(model, open(model_dir+filename, 'wb'))"
   ]
  }
 ],
 "metadata": {
  "kernelspec": {
   "display_name": "LELEC210X",
   "language": "python",
   "name": "lelec210x"
  },
  "language_info": {
   "codemirror_mode": {
    "name": "ipython",
    "version": 3
   },
   "file_extension": ".py",
   "mimetype": "text/x-python",
   "name": "python",
   "nbconvert_exporter": "python",
   "pygments_lexer": "ipython3",
   "version": "3.8.10"
  }
 },
 "nbformat": 4,
 "nbformat_minor": 4
}
