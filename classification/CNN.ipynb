{
 "cells": [
  {
   "cell_type": "markdown",
   "metadata": {},
   "source": [
    "For this code, need to use python 3 kernel and not LELEC210X kernel!"
   ]
  },
  {
   "cell_type": "markdown",
   "metadata": {},
   "source": [
    "https://www.tensorflow.org/tutorials/audio/simple_audio\n",
    "https://github.com/nicknochnack/ImageClassification/blob/main/Getting%20Started.ipynb\n",
    "https://nmbu.brage.unit.no/nmbu-xmlui/bitstream/handle/11250/2611624/report-print1.pdf?sequence=3&isAllowed=y\n"
   ]
  },
  {
   "cell_type": "code",
   "execution_count": 1,
   "metadata": {},
   "outputs": [],
   "source": [
    "import os\n",
    "import numpy as np\n",
    "import matplotlib.pyplot as plt\n",
    "\n",
    "\"Machine learning tools\"\n",
    "from sklearn.neighbors import KNeighborsClassifier\n",
    "from sklearn.model_selection import train_test_split, StratifiedKFold\n",
    "from sklearn.neural_network import MLPClassifier\n",
    "from sklearn.preprocessing import StandardScaler\n",
    "from sklearn.ensemble import RandomForestClassifier as RFC\n",
    "from sklearn.decomposition import PCA\n",
    "import pickle\n",
    "from pathlib import Path\n",
    "from typing import List, Tuple\n",
    "import glob\n",
    "\n",
    "from classification.datasets import Dataset\n",
    "\n",
    "from classification.utils.plots import plot_specgram, show_confusion_matrix, plot_decision_boundaries\n",
    "from classification.utils.utils import accuracy\n",
    "from classification.utils.audio_student import AudioUtil, Feature_vector_DS"
   ]
  },
  {
   "cell_type": "code",
   "execution_count": 2,
   "metadata": {
    "scrolled": true
   },
   "outputs": [
    {
     "name": "stderr",
     "output_type": "stream",
     "text": [
      "2024-05-03 12:33:44.233832: I tensorflow/tsl/cuda/cudart_stub.cc:28] Could not find cuda drivers on your machine, GPU will not be used.\n",
      "2024-05-03 12:33:45.114802: I tensorflow/tsl/cuda/cudart_stub.cc:28] Could not find cuda drivers on your machine, GPU will not be used.\n",
      "2024-05-03 12:33:45.118516: I tensorflow/core/platform/cpu_feature_guard.cc:182] This TensorFlow binary is optimized to use available CPU instructions in performance-critical operations.\n",
      "To enable the following instructions: AVX2 FMA, in other operations, rebuild TensorFlow with the appropriate compiler flags.\n",
      "2024-05-03 12:33:46.193512: W tensorflow/compiler/tf2tensorrt/utils/py_utils.cc:38] TF-TRT Warning: Could not find TensorRT\n"
     ]
    }
   ],
   "source": [
    "import tensorflow as tf\n",
    "from tensorflow.keras.models import Sequential\n",
    "from tensorflow.keras.layers import Conv2D, MaxPooling2D, Dense, Flatten, Dropout, BatchNormalization\n",
    "from sklearn.preprocessing import OneHotEncoder\n",
    "from tensorflow.keras.callbacks import EarlyStopping, ReduceLROnPlateau"
   ]
  },
  {
   "cell_type": "code",
   "execution_count": 3,
   "metadata": {},
   "outputs": [],
   "source": [
    "#!pip install --upgrade pip # update pip if needed"
   ]
  },
  {
   "cell_type": "code",
   "execution_count": 4,
   "metadata": {},
   "outputs": [],
   "source": [
    "#!pip install tensorflow tensorflow-gpu opencv-python matplotlib"
   ]
  },
  {
   "cell_type": "code",
   "execution_count": 5,
   "metadata": {},
   "outputs": [],
   "source": [
    "#!pip list"
   ]
  },
  {
   "cell_type": "code",
   "execution_count": 6,
   "metadata": {},
   "outputs": [],
   "source": [
    "#pip install --upgrade tensorflow==2.13.0"
   ]
  },
  {
   "cell_type": "code",
   "execution_count": 7,
   "metadata": {},
   "outputs": [],
   "source": [
    "model_dir = \"../goldenProject/python/model/\"\n",
    "fv_dir = \"../goldenProject/python/datasetGloeAndPyth/\"\n",
    "#fv_dir = \"../goldenProject/python/datasetGloeAndPythAndBarb/\"\n",
    "#fv_dir = \"../goldenProject/python/datasetGloeAndPythAndGluAndBarb/\"\n",
    "fm_dir = \"data/fm_1000/\""
   ]
  },
  {
   "cell_type": "markdown",
   "metadata": {},
   "source": [
    "<font size=5 color=#009999> 1. Our dataset </font> <br>"
   ]
  },
  {
   "cell_type": "markdown",
   "metadata": {},
   "source": [
    "<font size=4 color=#009999> 1.1 Build matrix of fv </font> <br>"
   ]
  },
  {
   "cell_type": "code",
   "execution_count": 8,
   "metadata": {},
   "outputs": [
    {
     "name": "stdout",
     "output_type": "stream",
     "text": [
      "5\n",
      "850\n",
      "4250\n"
     ]
    }
   ],
   "source": [
    "def get_cls_from_path(file):\n",
    "    return file.stem.split(\"_\", maxsplit=1)[0]\n",
    "\n",
    "\n",
    "format = \"pickle\"\n",
    "classnames = ['birds','chainsaw','fire','handsaw','helicopter']\n",
    "\n",
    "#fv = pickle.load(open(fv_dir + filename, 'rb'))\n",
    "#print(fv)\n",
    "#print(fv.shape)\n",
    "\n",
    "dic_fv = {}\n",
    "for file in sorted((Path(fv_dir)).glob(\"**/*.\" + format)):\n",
    "    #print(str(file))\n",
    "    fv = pickle.load(open(file, 'rb'))\n",
    "    fv = np.squeeze(fv)\n",
    "    cls = get_cls_from_path(file)\n",
    "    #print(cls)\n",
    "    dic_fv.setdefault(cls, []).append(fv)\n",
    "#print(dic_fv)\n",
    "\n",
    "nclass = len(dic_fv)\n",
    "naudio = len(dic_fv[list(dic_fv.keys())[0]])\n",
    "size = nclass * naudio\n",
    "\n",
    "print(nclass)\n",
    "print(naudio)\n",
    "print(size)\n",
    "\n",
    "# plt.figure()\n",
    "# plot_specgram(fv.reshape((20, 20)).T, ax=plt.gca(), is_mel=True, title=\"MEL Spectrogram\", xlabel=\"Mel vector\")\n",
    "# plt.show()\n"
   ]
  },
  {
   "cell_type": "code",
   "execution_count": 9,
   "metadata": {},
   "outputs": [
    {
     "name": "stdout",
     "output_type": "stream",
     "text": [
      "400\n",
      "(4250, 400)\n"
     ]
    }
   ],
   "source": [
    "### Features vectors build matrix ###\n",
    "\n",
    "train_pct = 0.7\n",
    "print(len(dic_fv[\"birds\"][0]))\n",
    "featveclen = len(dic_fv[\"birds\"][0]) # number of items in a feature vector\n",
    "#nitems = size\n",
    "nlearn = round(naudio * train_pct) # number of sounds among naudio for training\n",
    "\n",
    "data_aug_factor = 1\n",
    "class_ids_aug = np.repeat(classnames, naudio*data_aug_factor) #matrice avec les noms des classes x le nombre de sons (40 de base)\n",
    "\n",
    "X = np.zeros((data_aug_factor*size, featveclen)) #nombre de sons total x taille du feature vector\n",
    "for s in range(data_aug_factor):\n",
    "    for class_idx, classname in enumerate(classnames):\n",
    "        for idx in range(naudio):\n",
    "            featvec = dic_fv[classname][idx] #melspec\n",
    "            #print(f'classename = {classname} and idx = {idx}')\n",
    "            #print(f'index = {s*nclass*naudio+class_idx*naudio+idx}')\n",
    "            X[s*nclass*naudio+class_idx*naudio+idx,:] = featvec       \n",
    "#np.save(fm_dir+\"feature_matrix.npy\", X)\n",
    "print(X.shape)"
   ]
  },
  {
   "cell_type": "code",
   "execution_count": 10,
   "metadata": {
    "scrolled": true
   },
   "outputs": [
    {
     "name": "stdout",
     "output_type": "stream",
     "text": [
      "['birds' 'birds' 'birds' ... 'helicopter' 'helicopter' 'helicopter']\n",
      "Shape of the feature matrix : (4250, 400)\n",
      "Number of labels : 4250\n",
      "\n"
     ]
    }
   ],
   "source": [
    "#X = np.load(fm_dir+\"feature_matrix.npy\")\n",
    "\n",
    "# \"Labels\"\n",
    "y = class_ids_aug.copy() #noms des sons\n",
    "print(y)\n",
    "\n",
    "print('Shape of the feature matrix : {}'.format(X.shape))\n",
    "print('Number of labels : {}'.format(len(y)))\n",
    "\n",
    "print()"
   ]
  },
  {
   "cell_type": "markdown",
   "metadata": {},
   "source": [
    "<font size=4 color=#009999> 1.3 Build data and split it </font> <br>"
   ]
  },
  {
   "cell_type": "code",
   "execution_count": 11,
   "metadata": {},
   "outputs": [
    {
     "name": "stdout",
     "output_type": "stream",
     "text": [
      "Shape of X_train:  (3060, 400)\n",
      "Shape of Y_train:  (3060,)\n",
      "Shape of X_val:  (340, 400)\n",
      "Shape of Y_val:  (340,)\n",
      "Shape of X_test:  (850, 400)\n",
      "Shape of Y_test:  (850,)\n"
     ]
    }
   ],
   "source": [
    "X_train, X_test, y_train, y_test = train_test_split(X, y, test_size=0.2, stratify=y, random_state=1, shuffle=True)\n",
    "X_train, X_val, y_train, y_val = train_test_split(X_train, y_train, test_size=0.1, stratify=y_train, random_state=1, shuffle=True)\n",
    "\n",
    "print(\"Shape of X_train: \", X_train.shape)\n",
    "print(\"Shape of Y_train: \", y_train.shape)\n",
    "print(\"Shape of X_val: \", X_val.shape)\n",
    "print(\"Shape of Y_val: \", y_val.shape)\n",
    "print(\"Shape of X_test: \", X_test.shape)\n",
    "print(\"Shape of Y_test: \", y_test.shape)"
   ]
  },
  {
   "cell_type": "code",
   "execution_count": 12,
   "metadata": {},
   "outputs": [
    {
     "name": "stdout",
     "output_type": "stream",
     "text": [
      "Shape of X_train:  (3060, 20, 20, 1)\n",
      "Shape of Y_train:  (3060,)\n",
      "Shape of X_val:  (340, 20, 20, 1)\n",
      "Shape of Y_val:  (340,)\n",
      "Shape of X_test:  (850, 20, 20, 1)\n",
      "Shape of Y_test:  (850,)\n"
     ]
    }
   ],
   "source": [
    "# [2] (optional) Data normalization\n",
    "\n",
    "# print(np.linalg.norm(X_train, axis=1, keepdims=True))\n",
    "# print((np.linalg.norm(X_train, axis=1, keepdims=True)).shape)\n",
    "X_train = X_train / np.linalg.norm(X_train, axis=1, keepdims=True)\n",
    "X_val = X_val / np.linalg.norm(X_val, axis=1, keepdims=True)\n",
    "X_test = X_test / np.linalg.norm(X_test, axis=1, keepdims=True)\n",
    "\n",
    "#  reshape by N_Melvec x Melvec_length x 1\n",
    "X_train = X_train.reshape(len(X_train), 20, 20, 1)\n",
    "y_train = y_train.reshape(len(y_train),)\n",
    "\n",
    "X_val = X_val.reshape(len(X_val), 20, 20, 1)\n",
    "y_val = y_val.reshape(len(y_val),)\n",
    "\n",
    "X_test = X_test.reshape(len(X_test), 20, 20, 1)\n",
    "y_test = y_test.reshape(len(y_test),)\n",
    "\n",
    "print(\"Shape of X_train: \", X_train.shape)\n",
    "print(\"Shape of Y_train: \", y_train.shape)\n",
    "print(\"Shape of X_val: \", X_val.shape)\n",
    "print(\"Shape of Y_val: \", y_val.shape)\n",
    "print(\"Shape of X_test: \", X_test.shape)\n",
    "print(\"Shape of Y_test: \", y_test.shape)"
   ]
  },
  {
   "cell_type": "code",
   "execution_count": 13,
   "metadata": {},
   "outputs": [],
   "source": [
    "# [3] (optional) dimensionality reduction."
   ]
  },
  {
   "cell_type": "code",
   "execution_count": 14,
   "metadata": {},
   "outputs": [],
   "source": [
    "input_shape = (20, 20, 1)\n",
    "\n",
    "model = Sequential()\n",
    "\n",
    "model.add(Conv2D(64, (3,3), activation = 'relu', strides=(2,2), input_shape = input_shape))\n",
    "model.add(Dropout(0.3))\n",
    "model.add(BatchNormalization()) # prevent overfitting\n",
    "#model.add(MaxPooling2D((2,2))) # activation layer, dimensionality reduction\n",
    "\n",
    "model.add(Conv2D(64, (3,3), activation = 'relu', strides=(2,2)))\n",
    "model.add(Dropout(0.3))\n",
    "model.add(BatchNormalization())\n",
    "#model.add(MaxPooling2D((2,2)))\n",
    "\n",
    "model.add(Conv2D(64, (3,3), activation = 'relu', strides=(2,2)))\n",
    "model.add(Dropout(0.3))\n",
    "model.add(BatchNormalization())\n",
    "#model.add(MaxPooling2D((2,2)))\n",
    "\n",
    "model.add(Flatten())\n",
    "model.add(Dense(128, activation = 'relu'))\n",
    "model.add(Dense(5, activation = 'softmax'))"
   ]
  },
  {
   "cell_type": "code",
   "execution_count": 15,
   "metadata": {},
   "outputs": [],
   "source": [
    "# [4] Model training and selection\n",
    "# input_shape = (20, 20, 1)\n",
    "# num_labels = 5\n",
    "# num_filters = 16\n",
    "# units = 32\n",
    "# drop_rate = 0.2\n",
    "\n",
    "# model = Sequential()\n",
    "\n",
    "# model.add(Conv2D(24, (3,3), activation = 'relu', input_shape = input_shape))\n",
    "# model.add(BatchNormalization()) # prevent overfitting\n",
    "# model.add(MaxPooling2D((2,2))) # activation layer, dimensionality reduction\n",
    "\n",
    "# model.add(Conv2D(48, (3,3), activation = 'relu'))\n",
    "# model.add(BatchNormalization())\n",
    "# model.add(MaxPooling2D((2,2)))\n",
    "\n",
    "# model.add(Conv2D(48, (3,3), activation = 'relu'))\n",
    "# model.add(BatchNormalization())\n",
    "# # model.add(MaxPooling2D((2,2)))\n",
    "\n",
    "# model.add(Flatten())\n",
    "# model.add(Dropout(drop_rate))\n",
    "\n",
    "# model.add(Dense(units, activation = 'relu'))\n",
    "\n",
    "# model.add(Dropout(drop_rate))\n",
    "\n",
    "# model.add(Dense(num_labels, activation = 'softmax'))"
   ]
  },
  {
   "cell_type": "code",
   "execution_count": 16,
   "metadata": {},
   "outputs": [],
   "source": [
    "# input_shape = (20, 20, 1)\n",
    "# num_labels = 5\n",
    "# num_filters = 16\n",
    "# units = 32\n",
    "# drop_rate = 0.2\n",
    "\n",
    "# model = Sequential()\n",
    "\n",
    "# model.add(BatchNormalization(input_shape = (20, 20, 1)))\n",
    "# model.add(Conv2D(32, 3, activation = 'relu'))\n",
    "# model.add(Conv2D(64, 3, activation = 'relu'))\n",
    "# model.add(Conv2D(32, 3, activation = 'relu'))\n",
    "# model.add(MaxPooling2D())\n",
    "# model.add(Dropout(0.25))\n",
    "# model.add(Flatten())\n",
    "# model.add(Dense(128, activation = 'relu'))\n",
    "# model.add(Dropout(0.25))\n",
    "# model.add(Dense(5, activation = 'softmax'))\n",
    "\n",
    "# model = Sequential([\n",
    "#     layers.Input(shape=input_shape),\n",
    "#     # Downsample the input.\n",
    "#     layers.Resizing(32, 32),\n",
    "#     # Normalize.\n",
    "#     norm_layer,\n",
    "#     layers.Conv2D(32, 3, activation='relu'),\n",
    "#     layers.Conv2D(64, 3, activation='relu'),\n",
    "#     layers.MaxPooling2D(),\n",
    "#     layers.Dropout(0.25),\n",
    "#     layers.Flatten(),\n",
    "#     layers.Dense(128, activation='relu'),\n",
    "#     layers.Dropout(0.5),\n",
    "#     layers.Dense(num_labels),\n",
    "# ])\n"
   ]
  },
  {
   "cell_type": "code",
   "execution_count": 17,
   "metadata": {},
   "outputs": [],
   "source": [
    "from tensorflow.keras.optimizers import Adam\n",
    "\n",
    "learning_rate = 0.001  \n",
    "\n",
    "optimizer = Adam(learning_rate=learning_rate)\n",
    "\n",
    "# sparse_categorical_crossentropy\n",
    "model.compile(optimizer=optimizer, loss='categorical_crossentropy', metrics=['accuracy'])\n",
    "\n",
    "\n",
    "#model.compile('adam', loss='sparse_categorical_crossentropy', metrics=['accuracy'])"
   ]
  },
  {
   "cell_type": "code",
   "execution_count": 18,
   "metadata": {
    "scrolled": true
   },
   "outputs": [
    {
     "name": "stdout",
     "output_type": "stream",
     "text": [
      "Model: \"sequential\"\n",
      "_________________________________________________________________\n",
      " Layer (type)                Output Shape              Param #   \n",
      "=================================================================\n",
      " conv2d (Conv2D)             (None, 9, 9, 64)          640       \n",
      "                                                                 \n",
      " dropout (Dropout)           (None, 9, 9, 64)          0         \n",
      "                                                                 \n",
      " batch_normalization (Batch  (None, 9, 9, 64)          256       \n",
      " Normalization)                                                  \n",
      "                                                                 \n",
      " conv2d_1 (Conv2D)           (None, 4, 4, 64)          36928     \n",
      "                                                                 \n",
      " dropout_1 (Dropout)         (None, 4, 4, 64)          0         \n",
      "                                                                 \n",
      " batch_normalization_1 (Bat  (None, 4, 4, 64)          256       \n",
      " chNormalization)                                                \n",
      "                                                                 \n",
      " conv2d_2 (Conv2D)           (None, 1, 1, 64)          36928     \n",
      "                                                                 \n",
      " dropout_2 (Dropout)         (None, 1, 1, 64)          0         \n",
      "                                                                 \n",
      " batch_normalization_2 (Bat  (None, 1, 1, 64)          256       \n",
      " chNormalization)                                                \n",
      "                                                                 \n",
      " flatten (Flatten)           (None, 64)                0         \n",
      "                                                                 \n",
      " dense (Dense)               (None, 128)               8320      \n",
      "                                                                 \n",
      " dense_1 (Dense)             (None, 5)                 645       \n",
      "                                                                 \n",
      "=================================================================\n",
      "Total params: 84229 (329.02 KB)\n",
      "Trainable params: 83845 (327.52 KB)\n",
      "Non-trainable params: 384 (1.50 KB)\n",
      "_________________________________________________________________\n"
     ]
    }
   ],
   "source": [
    "model.summary()"
   ]
  },
  {
   "cell_type": "code",
   "execution_count": 19,
   "metadata": {},
   "outputs": [
    {
     "name": "stderr",
     "output_type": "stream",
     "text": [
      "/home/lucie/.cache/pypoetry/virtualenvs/lelec210x-C4YOSB4N-py3.8/lib/python3.8/site-packages/sklearn/preprocessing/_encoders.py:975: FutureWarning: `sparse` was renamed to `sparse_output` in version 1.2 and will be removed in 1.4. `sparse_output` is ignored unless you leave `sparse` to its default value.\n",
      "  warnings.warn(\n"
     ]
    }
   ],
   "source": [
    "ohe = OneHotEncoder(categories='auto', sparse=False)\n",
    "#y_train = y_train.reshape(-1,) \n",
    "#print(y_train.shape)\n",
    "#oneHot.fit([['birds', 1], ['chainsaw','fire','handsaw','helicopter']])\n",
    "y_train_encoded = ohe.fit_transform(y_train.reshape(-1,1))#[:,np.newaxis]).reshape(1,-1)) # Reshape labels to (n_samples,)\n",
    "y_val_encoded = ohe.transform(y_val.reshape(-1,1)) # Reshape labels to (n_samples,)\n",
    "#print(y_train_encoded.shape)\n",
    "#print(X_train.shape)"
   ]
  },
  {
   "cell_type": "code",
   "execution_count": 20,
   "metadata": {},
   "outputs": [
    {
     "name": "stdout",
     "output_type": "stream",
     "text": [
      "Epoch 1/150\n",
      "192/192 [==============================] - 2s 5ms/step - loss: 1.2003 - accuracy: 0.4820 - val_loss: 1.9836 - val_accuracy: 0.2000 - lr: 0.0010\n",
      "Epoch 2/150\n",
      "192/192 [==============================] - 1s 4ms/step - loss: 1.0300 - accuracy: 0.5768 - val_loss: 2.0953 - val_accuracy: 0.2588 - lr: 0.0010\n",
      "Epoch 3/150\n",
      "192/192 [==============================] - 1s 4ms/step - loss: 0.9413 - accuracy: 0.6245 - val_loss: 1.1836 - val_accuracy: 0.5265 - lr: 0.0010\n",
      "Epoch 4/150\n",
      "192/192 [==============================] - 1s 4ms/step - loss: 0.8948 - accuracy: 0.6484 - val_loss: 0.8863 - val_accuracy: 0.6676 - lr: 0.0010\n",
      "Epoch 5/150\n",
      "192/192 [==============================] - 1s 4ms/step - loss: 0.8239 - accuracy: 0.6637 - val_loss: 0.7644 - val_accuracy: 0.7235 - lr: 0.0010\n",
      "Epoch 6/150\n",
      "192/192 [==============================] - 1s 4ms/step - loss: 0.8181 - accuracy: 0.6873 - val_loss: 0.8045 - val_accuracy: 0.6882 - lr: 0.0010\n",
      "Epoch 7/150\n",
      "192/192 [==============================] - 1s 4ms/step - loss: 0.8032 - accuracy: 0.6902 - val_loss: 0.8068 - val_accuracy: 0.6882 - lr: 0.0010\n",
      "Epoch 8/150\n",
      "192/192 [==============================] - 1s 4ms/step - loss: 0.7607 - accuracy: 0.7039 - val_loss: 0.7685 - val_accuracy: 0.7029 - lr: 0.0010\n",
      "Epoch 9/150\n",
      "192/192 [==============================] - 1s 4ms/step - loss: 0.7742 - accuracy: 0.6987 - val_loss: 0.6885 - val_accuracy: 0.7324 - lr: 0.0010\n",
      "Epoch 10/150\n",
      "192/192 [==============================] - 1s 4ms/step - loss: 0.7264 - accuracy: 0.7183 - val_loss: 0.6955 - val_accuracy: 0.7588 - lr: 0.0010\n",
      "Epoch 11/150\n",
      "192/192 [==============================] - 1s 4ms/step - loss: 0.7076 - accuracy: 0.7216 - val_loss: 0.7021 - val_accuracy: 0.7559 - lr: 0.0010\n",
      "Epoch 12/150\n",
      "192/192 [==============================] - 1s 4ms/step - loss: 0.7072 - accuracy: 0.7271 - val_loss: 0.6689 - val_accuracy: 0.7618 - lr: 0.0010\n",
      "Epoch 13/150\n",
      "192/192 [==============================] - 1s 4ms/step - loss: 0.7080 - accuracy: 0.7258 - val_loss: 0.6782 - val_accuracy: 0.7412 - lr: 0.0010\n",
      "Epoch 14/150\n",
      "192/192 [==============================] - 1s 4ms/step - loss: 0.6833 - accuracy: 0.7431 - val_loss: 0.7314 - val_accuracy: 0.7265 - lr: 0.0010\n",
      "Epoch 15/150\n",
      "192/192 [==============================] - 1s 4ms/step - loss: 0.6901 - accuracy: 0.7320 - val_loss: 0.6669 - val_accuracy: 0.7618 - lr: 0.0010\n",
      "Epoch 16/150\n",
      "192/192 [==============================] - 1s 4ms/step - loss: 0.6464 - accuracy: 0.7572 - val_loss: 0.6248 - val_accuracy: 0.7676 - lr: 0.0010\n",
      "Epoch 17/150\n",
      "192/192 [==============================] - 1s 4ms/step - loss: 0.6463 - accuracy: 0.7461 - val_loss: 0.7171 - val_accuracy: 0.7324 - lr: 0.0010\n",
      "Epoch 18/150\n",
      "192/192 [==============================] - 1s 4ms/step - loss: 0.6325 - accuracy: 0.7513 - val_loss: 0.6534 - val_accuracy: 0.7500 - lr: 0.0010\n",
      "Epoch 19/150\n",
      "192/192 [==============================] - 1s 4ms/step - loss: 0.6204 - accuracy: 0.7631 - val_loss: 0.6651 - val_accuracy: 0.7382 - lr: 0.0010\n",
      "Epoch 20/150\n",
      "192/192 [==============================] - 1s 4ms/step - loss: 0.6203 - accuracy: 0.7578 - val_loss: 0.6604 - val_accuracy: 0.7735 - lr: 0.0010\n",
      "Epoch 21/150\n",
      "192/192 [==============================] - 1s 4ms/step - loss: 0.6178 - accuracy: 0.7647 - val_loss: 0.6775 - val_accuracy: 0.7500 - lr: 0.0010\n",
      "Epoch 22/150\n",
      "192/192 [==============================] - 1s 4ms/step - loss: 0.5793 - accuracy: 0.7791 - val_loss: 0.6412 - val_accuracy: 0.7882 - lr: 0.0010\n",
      "Epoch 23/150\n",
      "192/192 [==============================] - 1s 4ms/step - loss: 0.5869 - accuracy: 0.7742 - val_loss: 0.7070 - val_accuracy: 0.7500 - lr: 0.0010\n",
      "Epoch 24/150\n",
      "192/192 [==============================] - 1s 4ms/step - loss: 0.6046 - accuracy: 0.7703 - val_loss: 0.6619 - val_accuracy: 0.7647 - lr: 0.0010\n",
      "Epoch 25/150\n",
      "192/192 [==============================] - 1s 4ms/step - loss: 0.5799 - accuracy: 0.7729 - val_loss: 0.7400 - val_accuracy: 0.7353 - lr: 0.0010\n",
      "Epoch 26/150\n",
      "192/192 [==============================] - 1s 4ms/step - loss: 0.5683 - accuracy: 0.7856 - val_loss: 0.6531 - val_accuracy: 0.7794 - lr: 0.0010\n",
      "Epoch 27/150\n",
      "192/192 [==============================] - 1s 4ms/step - loss: 0.5585 - accuracy: 0.7892 - val_loss: 0.7115 - val_accuracy: 0.7412 - lr: 0.0010\n",
      "Epoch 28/150\n",
      "192/192 [==============================] - 1s 4ms/step - loss: 0.5540 - accuracy: 0.7899 - val_loss: 0.6913 - val_accuracy: 0.7824 - lr: 0.0010\n",
      "Epoch 29/150\n",
      "192/192 [==============================] - 1s 4ms/step - loss: 0.5544 - accuracy: 0.7853 - val_loss: 0.8298 - val_accuracy: 0.7382 - lr: 0.0010\n",
      "Epoch 30/150\n",
      "192/192 [==============================] - 1s 4ms/step - loss: 0.5855 - accuracy: 0.7758 - val_loss: 0.6493 - val_accuracy: 0.7647 - lr: 0.0010\n",
      "Epoch 31/150\n",
      "192/192 [==============================] - 1s 4ms/step - loss: 0.5583 - accuracy: 0.7967 - val_loss: 0.6222 - val_accuracy: 0.7824 - lr: 0.0010\n",
      "Epoch 32/150\n",
      "192/192 [==============================] - 1s 4ms/step - loss: 0.5267 - accuracy: 0.8007 - val_loss: 0.6332 - val_accuracy: 0.7882 - lr: 0.0010\n",
      "Epoch 33/150\n",
      "192/192 [==============================] - 1s 4ms/step - loss: 0.4906 - accuracy: 0.8124 - val_loss: 0.6300 - val_accuracy: 0.7794 - lr: 1.0000e-04\n",
      "Epoch 34/150\n",
      "192/192 [==============================] - 1s 4ms/step - loss: 0.4912 - accuracy: 0.8105 - val_loss: 0.5984 - val_accuracy: 0.8000 - lr: 1.0000e-04\n",
      "Epoch 35/150\n",
      "192/192 [==============================] - 1s 4ms/step - loss: 0.4717 - accuracy: 0.8111 - val_loss: 0.5788 - val_accuracy: 0.8029 - lr: 1.0000e-04\n",
      "Epoch 36/150\n",
      "192/192 [==============================] - 1s 4ms/step - loss: 0.4823 - accuracy: 0.8121 - val_loss: 0.5957 - val_accuracy: 0.8088 - lr: 1.0000e-04\n",
      "Epoch 37/150\n",
      "192/192 [==============================] - 1s 4ms/step - loss: 0.4824 - accuracy: 0.8069 - val_loss: 0.5947 - val_accuracy: 0.8088 - lr: 1.0000e-04\n",
      "Epoch 38/150\n",
      "192/192 [==============================] - 1s 4ms/step - loss: 0.4697 - accuracy: 0.8176 - val_loss: 0.5915 - val_accuracy: 0.8088 - lr: 1.0000e-04\n",
      "Epoch 39/150\n",
      "192/192 [==============================] - 1s 4ms/step - loss: 0.4786 - accuracy: 0.8199 - val_loss: 0.5769 - val_accuracy: 0.8118 - lr: 1.0000e-04\n",
      "Epoch 40/150\n",
      "192/192 [==============================] - 1s 4ms/step - loss: 0.4468 - accuracy: 0.8261 - val_loss: 0.6008 - val_accuracy: 0.8118 - lr: 1.0000e-04\n",
      "Epoch 41/150\n",
      "192/192 [==============================] - 1s 4ms/step - loss: 0.4453 - accuracy: 0.8271 - val_loss: 0.5880 - val_accuracy: 0.8029 - lr: 1.0000e-04\n",
      "Epoch 42/150\n",
      "192/192 [==============================] - 1s 4ms/step - loss: 0.4640 - accuracy: 0.8222 - val_loss: 0.5967 - val_accuracy: 0.8000 - lr: 1.0000e-04\n",
      "Epoch 43/150\n",
      "192/192 [==============================] - 1s 4ms/step - loss: 0.4398 - accuracy: 0.8346 - val_loss: 0.5920 - val_accuracy: 0.8176 - lr: 1.0000e-04\n",
      "Epoch 44/150\n",
      "192/192 [==============================] - 1s 4ms/step - loss: 0.4436 - accuracy: 0.8294 - val_loss: 0.5825 - val_accuracy: 0.8147 - lr: 1.0000e-04\n",
      "Epoch 45/150\n",
      "192/192 [==============================] - 1s 4ms/step - loss: 0.4416 - accuracy: 0.8248 - val_loss: 0.5893 - val_accuracy: 0.8176 - lr: 1.0000e-04\n",
      "Epoch 46/150\n",
      "192/192 [==============================] - 1s 4ms/step - loss: 0.4501 - accuracy: 0.8222 - val_loss: 0.5890 - val_accuracy: 0.8088 - lr: 1.0000e-04\n",
      "Epoch 47/150\n",
      "192/192 [==============================] - 1s 4ms/step - loss: 0.4377 - accuracy: 0.8304 - val_loss: 0.5881 - val_accuracy: 0.8147 - lr: 1.0000e-04\n",
      "Epoch 48/150\n",
      "192/192 [==============================] - 1s 4ms/step - loss: 0.4432 - accuracy: 0.8369 - val_loss: 0.5814 - val_accuracy: 0.8059 - lr: 1.0000e-04\n",
      "Epoch 49/150\n",
      "192/192 [==============================] - 1s 4ms/step - loss: 0.4465 - accuracy: 0.8281 - val_loss: 0.5817 - val_accuracy: 0.8059 - lr: 1.0000e-04\n",
      "Epoch 50/150\n",
      "192/192 [==============================] - 1s 4ms/step - loss: 0.4449 - accuracy: 0.8235 - val_loss: 0.5894 - val_accuracy: 0.8088 - lr: 1.0000e-04\n",
      "Epoch 51/150\n",
      "192/192 [==============================] - 1s 4ms/step - loss: 0.4493 - accuracy: 0.8186 - val_loss: 0.5941 - val_accuracy: 0.8059 - lr: 1.0000e-04\n",
      "Epoch 52/150\n",
      "192/192 [==============================] - 1s 4ms/step - loss: 0.4333 - accuracy: 0.8265 - val_loss: 0.5791 - val_accuracy: 0.8059 - lr: 1.0000e-04\n",
      "Epoch 53/150\n",
      "192/192 [==============================] - 1s 4ms/step - loss: 0.4234 - accuracy: 0.8379 - val_loss: 0.5813 - val_accuracy: 0.8088 - lr: 1.0000e-04\n",
      "Epoch 54/150\n",
      "192/192 [==============================] - 1s 4ms/step - loss: 0.4401 - accuracy: 0.8258 - val_loss: 0.5778 - val_accuracy: 0.8147 - lr: 1.0000e-05\n",
      "Epoch 55/150\n",
      "192/192 [==============================] - 1s 4ms/step - loss: 0.4281 - accuracy: 0.8275 - val_loss: 0.5752 - val_accuracy: 0.8147 - lr: 1.0000e-05\n",
      "Epoch 56/150\n",
      "192/192 [==============================] - 1s 4ms/step - loss: 0.4292 - accuracy: 0.8399 - val_loss: 0.5763 - val_accuracy: 0.8147 - lr: 1.0000e-05\n",
      "Epoch 57/150\n",
      "192/192 [==============================] - 1s 4ms/step - loss: 0.4261 - accuracy: 0.8369 - val_loss: 0.5783 - val_accuracy: 0.8147 - lr: 1.0000e-05\n",
      "Epoch 58/150\n",
      "192/192 [==============================] - 1s 4ms/step - loss: 0.4220 - accuracy: 0.8356 - val_loss: 0.5765 - val_accuracy: 0.8147 - lr: 1.0000e-05\n",
      "Epoch 59/150\n",
      "192/192 [==============================] - 1s 4ms/step - loss: 0.4324 - accuracy: 0.8340 - val_loss: 0.5795 - val_accuracy: 0.8147 - lr: 1.0000e-05\n",
      "Epoch 60/150\n",
      "192/192 [==============================] - 1s 4ms/step - loss: 0.4268 - accuracy: 0.8278 - val_loss: 0.5807 - val_accuracy: 0.8147 - lr: 1.0000e-05\n",
      "Epoch 61/150\n",
      "192/192 [==============================] - 1s 4ms/step - loss: 0.4122 - accuracy: 0.8451 - val_loss: 0.5807 - val_accuracy: 0.8118 - lr: 1.0000e-05\n",
      "Epoch 62/150\n",
      "192/192 [==============================] - 1s 4ms/step - loss: 0.4165 - accuracy: 0.8428 - val_loss: 0.5817 - val_accuracy: 0.8147 - lr: 1.0000e-05\n",
      "Epoch 63/150\n",
      "192/192 [==============================] - 1s 4ms/step - loss: 0.4253 - accuracy: 0.8310 - val_loss: 0.5837 - val_accuracy: 0.8147 - lr: 1.0000e-05\n",
      "Epoch 64/150\n",
      "192/192 [==============================] - 1s 4ms/step - loss: 0.4352 - accuracy: 0.8314 - val_loss: 0.5812 - val_accuracy: 0.8118 - lr: 1.0000e-06\n",
      "Epoch 65/150\n",
      "192/192 [==============================] - 1s 4ms/step - loss: 0.4346 - accuracy: 0.8343 - val_loss: 0.5815 - val_accuracy: 0.8088 - lr: 1.0000e-06\n",
      "Epoch 66/150\n",
      "192/192 [==============================] - 1s 4ms/step - loss: 0.4275 - accuracy: 0.8301 - val_loss: 0.5810 - val_accuracy: 0.8118 - lr: 1.0000e-06\n",
      "Epoch 67/150\n",
      "192/192 [==============================] - 1s 4ms/step - loss: 0.4208 - accuracy: 0.8356 - val_loss: 0.5806 - val_accuracy: 0.8147 - lr: 1.0000e-06\n",
      "Epoch 68/150\n",
      "192/192 [==============================] - 1s 4ms/step - loss: 0.4453 - accuracy: 0.8190 - val_loss: 0.5802 - val_accuracy: 0.8118 - lr: 1.0000e-06\n",
      "Epoch 69/150\n",
      "192/192 [==============================] - 1s 4ms/step - loss: 0.4356 - accuracy: 0.8317 - val_loss: 0.5817 - val_accuracy: 0.8118 - lr: 1.0000e-06\n",
      "Epoch 70/150\n",
      "192/192 [==============================] - 1s 4ms/step - loss: 0.4485 - accuracy: 0.8209 - val_loss: 0.5822 - val_accuracy: 0.8147 - lr: 1.0000e-06\n",
      "Epoch 71/150\n",
      "192/192 [==============================] - 1s 4ms/step - loss: 0.4384 - accuracy: 0.8310 - val_loss: 0.5829 - val_accuracy: 0.8176 - lr: 1.0000e-06\n",
      "Epoch 72/150\n",
      "192/192 [==============================] - 1s 4ms/step - loss: 0.4210 - accuracy: 0.8382 - val_loss: 0.5835 - val_accuracy: 0.8176 - lr: 1.0000e-06\n",
      "Epoch 73/150\n",
      "192/192 [==============================] - 1s 4ms/step - loss: 0.4290 - accuracy: 0.8340 - val_loss: 0.5809 - val_accuracy: 0.8176 - lr: 1.0000e-06\n",
      "Epoch 74/150\n",
      "192/192 [==============================] - 1s 4ms/step - loss: 0.4303 - accuracy: 0.8382 - val_loss: 0.5817 - val_accuracy: 0.8176 - lr: 1.0000e-07\n",
      "Epoch 75/150\n",
      "192/192 [==============================] - 1s 4ms/step - loss: 0.4395 - accuracy: 0.8294 - val_loss: 0.5824 - val_accuracy: 0.8176 - lr: 1.0000e-07\n",
      "Epoch 76/150\n",
      "192/192 [==============================] - 1s 4ms/step - loss: 0.4245 - accuracy: 0.8369 - val_loss: 0.5815 - val_accuracy: 0.8118 - lr: 1.0000e-07\n",
      "Epoch 77/150\n",
      "192/192 [==============================] - 1s 4ms/step - loss: 0.4164 - accuracy: 0.8366 - val_loss: 0.5818 - val_accuracy: 0.8147 - lr: 1.0000e-07\n",
      "Epoch 78/150\n",
      "192/192 [==============================] - 1s 4ms/step - loss: 0.4325 - accuracy: 0.8363 - val_loss: 0.5831 - val_accuracy: 0.8176 - lr: 1.0000e-07\n"
     ]
    }
   ],
   "source": [
    "epochs = 150\n",
    "\n",
    "early_stopping = EarlyStopping(monitor='val_accuracy', patience=35, restore_best_weights=True)\n",
    "reduce_lr = ReduceLROnPlateau(monitor='val_accuracy', factor = 0.1, patience = 10)\n",
    "\n",
    "history = model.fit(X_train, y_train_encoded, epochs=epochs, batch_size = 16 , validation_data=(X_val, y_val_encoded),  callbacks=[early_stopping,reduce_lr])"
   ]
  },
  {
   "cell_type": "code",
   "execution_count": 26,
   "metadata": {},
   "outputs": [
    {
     "data": {
      "image/png": "[encoded data removed]",
      "text/plain": [
       "<Figure size 1600x600 with 2 Axes>"
      ]
     },
     "metadata": {},
     "output_type": "display_data"
    }
   ],
   "source": [
    "metrics = history.history\n",
    "#print(metrics)\n",
    "plt.figure(figsize=(16,6))\n",
    "plt.subplot(1,2,1)\n",
    "plt.plot(history.epoch, metrics['loss'], metrics['val_loss'])\n",
    "plt.legend(['loss', 'val_loss'])\n",
    "#plt.ylim([0, max(plt.ylim())])\n",
    "plt.xlabel('Epoch')\n",
    "plt.ylabel('Loss [CrossEntropy]')\n",
    "\n",
    "plt.subplot(1,2,2)\n",
    "plt.plot(history.epoch, 100*np.array(metrics['accuracy']), 100*np.array(metrics['val_accuracy']))\n",
    "plt.legend(['accuracy', 'val_accuracy'])\n",
    "plt.ylim([0, 100])\n",
    "plt.xlabel('Epoch')\n",
    "plt.ylabel('Accuracy [%]')\n",
    "\n",
    "#plt.savefig('Loss-Acc-CM-Simu-CNN-DatasetGloPyth.pdf')"
   ]
  },
  {
   "cell_type": "code",
   "execution_count": 22,
   "metadata": {},
   "outputs": [
    {
     "name": "stdout",
     "output_type": "stream",
     "text": [
      "27/27 [==============================] - 0s 2ms/step - loss: 0.4535 - accuracy: 0.8153\n"
     ]
    },
    {
     "data": {
      "text/plain": [
       "[0.4535224735736847, 0.8152941465377808]"
      ]
     },
     "execution_count": 22,
     "metadata": {},
     "output_type": "execute_result"
    }
   ],
   "source": [
    "y_test_encoded = ohe.transform(y_test.reshape(-1,1))\n",
    "\n",
    "model.evaluate(X_test, y_test_encoded)"
   ]
  },
  {
   "cell_type": "code",
   "execution_count": 23,
   "metadata": {},
   "outputs": [],
   "source": [
    "# [5] Save the trained model, eventually the pca.\n",
    "filename = 'CNN-DatasetGlPyth.pickle'\n",
    "file_ohe_encoder = 'ohe.pickle'\n",
    "\n",
    "pickle.dump(model, open(model_dir+filename, 'wb'))\n",
    "pickle.dump(ohe, open(model_dir+file_ohe_encoder, 'wb'))"
   ]
  },
  {
   "cell_type": "code",
   "execution_count": 24,
   "metadata": {},
   "outputs": [],
   "source": [
    "import matplotlib.pyplot as plt\n",
    "import numpy as np\n",
    "\n",
    "\"For confusion matrix plot\"\n",
    "from seaborn import heatmap\n",
    "from sklearn.metrics import confusion_matrix\n",
    "\n",
    "# -----------------------------------------------------------------------------\n",
    "\"\"\"\n",
    "Synthesis of the functions in :\n",
    "\n",
    "- show_confusion_matrix : plot confusion matrix.\n",
    "- plot_audio : Plot an audiosignal in time and frequency\n",
    "- plot_specgram : Plot a spectrogram (2D matrix)\n",
    "- plot_decision_boundary : Plot decision boundary of a classifier.\n",
    "\"\"\"\n",
    "# -----------------------------------------------------------------------------\n",
    "\n",
    "\n",
    "def show_confusion_matrix(y_predict, y_true, classnames, title=\"\", saveFig = False, saveAs=''):\n",
    "    \"\"\"\n",
    "    From target labels and prediction arrays, sort them appropriately and plot confusion matrix.\n",
    "    The arrays can contain either ints or str quantities, as long as classnames contains all the elements present in them.\n",
    "    \"\"\"\n",
    "    # # Reorder the prediction array\n",
    "    # labels = np.zeros_like(y_predict)\n",
    "    # for i in np.arange(len(classnames)):\n",
    "    #     mask = [None]*len(y_predict)\n",
    "    #     for j in np.arange(len(mask)):\n",
    "    #         mask[j] = (y_predict[j] == classnames[i])\n",
    "    #     labels[mask] = mode(y_true2[mask])[0]\n",
    "    \n",
    "\n",
    "    plt.figure(figsize=(5, 5))\n",
    "    confmat = confusion_matrix(y_true, y_predict)\n",
    "    heatmap(\n",
    "        confmat.T,\n",
    "        square=True,\n",
    "        annot=True,\n",
    "        fmt=\"d\",\n",
    "        cbar=False,\n",
    "        xticklabels=classnames,\n",
    "        yticklabels=classnames,\n",
    "        ax=plt.gca(),\n",
    "    )\n",
    "    plt.xlabel(\"True label\")\n",
    "    plt.ylabel(\"Predicted label\")\n",
    "    plt.title(title)\n",
    "\n",
    "    if(saveFig):\n",
    "        plt.savefig(saveAs)\n",
    "    \n",
    "    plt.show()\n",
    "    return None"
   ]
  },
  {
   "cell_type": "code",
   "execution_count": 25,
   "metadata": {},
   "outputs": [
    {
     "name": "stdout",
     "output_type": "stream",
     "text": [
      "27/27 [==============================] - 0s 2ms/step\n",
      "(850, 5)\n",
      "Accuracy of CNN with fixed train/validation sets : 81.5%\n"
     ]
    },
    {
     "data": {
      "image/png": "[encoded data removed]",
      "text/plain": [
       "<Figure size 500x500 with 1 Axes>"
      ]
     },
     "metadata": {},
     "output_type": "display_data"
    }
   ],
   "source": [
    "# [6] Evaluate the model.\n",
    "prediction_CNN = model.predict(X_test) # all the proba for each class\n",
    "\n",
    "def binarizer(prediction_CNN): \n",
    "    pred = np.zeros(prediction_CNN.shape)\n",
    "    print(pred.shape)\n",
    "    for i, line in enumerate(prediction_CNN): \n",
    "        idx = np.argmax(line)\n",
    "        pred[i,idx] = 1\n",
    "    return pred\n",
    "    \n",
    "\n",
    "out = binarizer(prediction_CNN)\n",
    "\n",
    "predicted_classes = np.argmax(prediction_CNN, axis=1) # the most probable class\n",
    "predicted_classes = ohe.inverse_transform(out)\n",
    "\n",
    "\n",
    "accuracy_CNN = accuracy(predicted_classes.squeeze(), y_test)\n",
    "\n",
    "print('Accuracy of CNN with fixed train/validation sets : {:.1f}%'.format(100*accuracy_CNN))\n",
    "show_confusion_matrix (predicted_classes, y_test, classnames, saveFig = False, saveAs='CM-Simu-CNN-DatasetGloPyth.pdf')"
   ]
  },
  {
   "cell_type": "code",
   "execution_count": null,
   "metadata": {},
   "outputs": [],
   "source": []
  },
  {
   "cell_type": "code",
   "execution_count": null,
   "metadata": {},
   "outputs": [],
   "source": []
  }
 ],
 "metadata": {
  "kernelspec": {
   "display_name": "Python 3 (ipykernel)",
   "language": "python",
   "name": "python3"
  },
  "language_info": {
   "codemirror_mode": {
    "name": "ipython",
    "version": 3
   },
   "file_extension": ".py",
   "mimetype": "text/x-python",
   "name": "python",
   "nbconvert_exporter": "python",
   "pygments_lexer": "ipython3",
   "version": "3.8.10"
  }
 },
 "nbformat": 4,
 "nbformat_minor": 4
}
