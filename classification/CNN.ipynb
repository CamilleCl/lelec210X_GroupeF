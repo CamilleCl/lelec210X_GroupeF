{
 "cells": [
  {
   "cell_type": "markdown",
   "metadata": {},
   "source": [
    "For this code, need to use python 3 kernel and not LELEC210X kernel!"
   ]
  },
  {
   "cell_type": "markdown",
   "metadata": {},
   "source": [
    "https://www.tensorflow.org/tutorials/audio/simple_audio\n",
    "https://github.com/nicknochnack/ImageClassification/blob/main/Getting%20Started.ipynb\n",
    "https://nmbu.brage.unit.no/nmbu-xmlui/bitstream/handle/11250/2611624/report-print1.pdf?sequence=3&isAllowed=y\n"
   ]
  },
  {
   "cell_type": "code",
   "execution_count": 1,
   "metadata": {},
   "outputs": [],
   "source": [
    "import os\n",
    "import numpy as np\n",
    "import matplotlib.pyplot as plt\n",
    "\n",
    "\"Machine learning tools\"\n",
    "from sklearn.neighbors import KNeighborsClassifier\n",
    "from sklearn.model_selection import train_test_split, StratifiedKFold\n",
    "from sklearn.neural_network import MLPClassifier\n",
    "from sklearn.preprocessing import StandardScaler\n",
    "from sklearn.ensemble import RandomForestClassifier as RFC\n",
    "from sklearn.decomposition import PCA\n",
    "import pickle\n",
    "from pathlib import Path\n",
    "from typing import List, Tuple\n",
    "import glob\n",
    "\n",
    "from classification.datasets import Dataset\n",
    "\n",
    "from classification.utils.plots import plot_specgram, show_confusion_matrix, plot_decision_boundaries\n",
    "from classification.utils.utils import accuracy\n",
    "from classification.utils.audio_student import AudioUtil, Feature_vector_DS"
   ]
  },
  {
   "cell_type": "code",
   "execution_count": 2,
   "metadata": {
    "scrolled": true
   },
   "outputs": [
    {
     "name": "stderr",
     "output_type": "stream",
     "text": [
      "2024-05-02 15:46:45.814008: I tensorflow/tsl/cuda/cudart_stub.cc:28] Could not find cuda drivers on your machine, GPU will not be used.\n",
      "2024-05-02 15:46:45.859213: I tensorflow/tsl/cuda/cudart_stub.cc:28] Could not find cuda drivers on your machine, GPU will not be used.\n",
      "2024-05-02 15:46:45.860138: I tensorflow/core/platform/cpu_feature_guard.cc:182] This TensorFlow binary is optimized to use available CPU instructions in performance-critical operations.\n",
      "To enable the following instructions: AVX2 FMA, in other operations, rebuild TensorFlow with the appropriate compiler flags.\n",
      "2024-05-02 15:46:46.703376: W tensorflow/compiler/tf2tensorrt/utils/py_utils.cc:38] TF-TRT Warning: Could not find TensorRT\n"
     ]
    }
   ],
   "source": [
    "import tensorflow as tf\n",
    "from tensorflow.keras.models import Sequential\n",
    "from tensorflow.keras.layers import Conv2D, MaxPooling2D, Dense, Flatten, Dropout, BatchNormalization\n",
    "from sklearn.preprocessing import OneHotEncoder\n",
    "from tensorflow.keras.callbacks import EarlyStopping, ReduceLROnPlateau"
   ]
  },
  {
   "cell_type": "code",
   "execution_count": 3,
   "metadata": {},
   "outputs": [],
   "source": [
    "#!pip install --upgrade pip # update pip if needed"
   ]
  },
  {
   "cell_type": "code",
   "execution_count": 4,
   "metadata": {},
   "outputs": [],
   "source": [
    "#!pip install tensorflow tensorflow-gpu opencv-python matplotlib"
   ]
  },
  {
   "cell_type": "code",
   "execution_count": 5,
   "metadata": {},
   "outputs": [],
   "source": [
    "#!pip list"
   ]
  },
  {
   "cell_type": "code",
   "execution_count": 6,
   "metadata": {},
   "outputs": [],
   "source": [
    "#pip install --upgrade tensorflow==2.13.0"
   ]
  },
  {
   "cell_type": "code",
   "execution_count": 7,
   "metadata": {},
   "outputs": [],
   "source": [
    "model_dir = \"../goldenProject/python/model/\"\n",
    "fv_dir = \"../goldenProject/python/datasetGloeAndPyth/\"\n",
    "#fv_dir = \"../goldenProject/python/datasetGloeAndPythAndBarb/\"\n",
    "#fv_dir = \"../goldenProject/python/datasetGloeAndPythAndGluAndBarb/\"\n",
    "fm_dir = \"data/fm_1000/\""
   ]
  },
  {
   "cell_type": "markdown",
   "metadata": {},
   "source": [
    "<font size=5 color=#009999> 1. Our dataset </font> <br>"
   ]
  },
  {
   "cell_type": "markdown",
   "metadata": {},
   "source": [
    "<font size=4 color=#009999> 1.1 Build matrix of fv </font> <br>"
   ]
  },
  {
   "cell_type": "code",
   "execution_count": 8,
   "metadata": {},
   "outputs": [
    {
     "name": "stdout",
     "output_type": "stream",
     "text": [
      "5\n",
      "850\n",
      "4250\n"
     ]
    }
   ],
   "source": [
    "def get_cls_from_path(file):\n",
    "    return file.stem.split(\"_\", maxsplit=1)[0]\n",
    "\n",
    "\n",
    "format = \"pickle\"\n",
    "classnames = ['birds','chainsaw','fire','handsaw','helicopter']\n",
    "\n",
    "#fv = pickle.load(open(fv_dir + filename, 'rb'))\n",
    "#print(fv)\n",
    "#print(fv.shape)\n",
    "\n",
    "dic_fv = {}\n",
    "for file in sorted((Path(fv_dir)).glob(\"**/*.\" + format)):\n",
    "    #print(str(file))\n",
    "    fv = pickle.load(open(file, 'rb'))\n",
    "    fv = np.squeeze(fv)\n",
    "    cls = get_cls_from_path(file)\n",
    "    #print(cls)\n",
    "    dic_fv.setdefault(cls, []).append(fv)\n",
    "#print(dic_fv)\n",
    "\n",
    "nclass = len(dic_fv)\n",
    "naudio = len(dic_fv[list(dic_fv.keys())[0]])\n",
    "size = nclass * naudio\n",
    "\n",
    "print(nclass)\n",
    "print(naudio)\n",
    "print(size)\n",
    "\n",
    "# plt.figure()\n",
    "# plot_specgram(fv.reshape((20, 20)).T, ax=plt.gca(), is_mel=True, title=\"MEL Spectrogram\", xlabel=\"Mel vector\")\n",
    "# plt.show()\n"
   ]
  },
  {
   "cell_type": "code",
   "execution_count": 9,
   "metadata": {},
   "outputs": [
    {
     "name": "stdout",
     "output_type": "stream",
     "text": [
      "400\n",
      "(4250, 400)\n"
     ]
    }
   ],
   "source": [
    "### Features vectors build matrix ###\n",
    "\n",
    "train_pct = 0.7\n",
    "print(len(dic_fv[\"birds\"][0]))\n",
    "featveclen = len(dic_fv[\"birds\"][0]) # number of items in a feature vector\n",
    "#nitems = size\n",
    "nlearn = round(naudio * train_pct) # number of sounds among naudio for training\n",
    "\n",
    "data_aug_factor = 1\n",
    "class_ids_aug = np.repeat(classnames, naudio*data_aug_factor) #matrice avec les noms des classes x le nombre de sons (40 de base)\n",
    "\n",
    "X = np.zeros((data_aug_factor*size, featveclen)) #nombre de sons total x taille du feature vector\n",
    "for s in range(data_aug_factor):\n",
    "    for class_idx, classname in enumerate(classnames):\n",
    "        for idx in range(naudio):\n",
    "            featvec = dic_fv[classname][idx] #melspec\n",
    "            #print(f'classename = {classname} and idx = {idx}')\n",
    "            #print(f'index = {s*nclass*naudio+class_idx*naudio+idx}')\n",
    "            X[s*nclass*naudio+class_idx*naudio+idx,:] = featvec       \n",
    "#np.save(fm_dir+\"feature_matrix.npy\", X)\n",
    "print(X.shape)"
   ]
  },
  {
   "cell_type": "code",
   "execution_count": 10,
   "metadata": {
    "scrolled": true
   },
   "outputs": [
    {
     "name": "stdout",
     "output_type": "stream",
     "text": [
      "['birds' 'birds' 'birds' ... 'helicopter' 'helicopter' 'helicopter']\n",
      "Shape of the feature matrix : (4250, 400)\n",
      "Number of labels : 4250\n",
      "\n"
     ]
    }
   ],
   "source": [
    "#X = np.load(fm_dir+\"feature_matrix.npy\")\n",
    "\n",
    "# \"Labels\"\n",
    "y = class_ids_aug.copy() #noms des sons\n",
    "print(y)\n",
    "\n",
    "print('Shape of the feature matrix : {}'.format(X.shape))\n",
    "print('Number of labels : {}'.format(len(y)))\n",
    "\n",
    "print()"
   ]
  },
  {
   "cell_type": "markdown",
   "metadata": {},
   "source": [
    "<font size=4 color=#009999> 1.3 Build data and split it </font> <br>"
   ]
  },
  {
   "cell_type": "code",
   "execution_count": 11,
   "metadata": {},
   "outputs": [
    {
     "name": "stdout",
     "output_type": "stream",
     "text": [
      "Shape of X_train:  (3060, 400)\n",
      "Shape of Y_train:  (3060,)\n",
      "Shape of X_val:  (340, 400)\n",
      "Shape of Y_val:  (340,)\n",
      "Shape of X_test:  (850, 400)\n",
      "Shape of Y_test:  (850,)\n"
     ]
    }
   ],
   "source": [
    "X_train, X_test, y_train, y_test = train_test_split(X, y, test_size=0.2, stratify=y, random_state=1, shuffle=True)\n",
    "X_train, X_val, y_train, y_val = train_test_split(X_train, y_train, test_size=0.1, stratify=y_train, random_state=1, shuffle=True)\n",
    "\n",
    "print(\"Shape of X_train: \", X_train.shape)\n",
    "print(\"Shape of Y_train: \", y_train.shape)\n",
    "print(\"Shape of X_val: \", X_val.shape)\n",
    "print(\"Shape of Y_val: \", y_val.shape)\n",
    "print(\"Shape of X_test: \", X_test.shape)\n",
    "print(\"Shape of Y_test: \", y_test.shape)"
   ]
  },
  {
   "cell_type": "code",
   "execution_count": 12,
   "metadata": {},
   "outputs": [
    {
     "name": "stdout",
     "output_type": "stream",
     "text": [
      "Shape of X_train:  (3060, 20, 20, 1)\n",
      "Shape of Y_train:  (3060,)\n",
      "Shape of X_val:  (340, 20, 20, 1)\n",
      "Shape of Y_val:  (340,)\n",
      "Shape of X_test:  (850, 20, 20, 1)\n",
      "Shape of Y_test:  (850,)\n"
     ]
    }
   ],
   "source": [
    "# [2] (optional) Data normalization\n",
    "\n",
    "# print(np.linalg.norm(X_train, axis=1, keepdims=True))\n",
    "# print((np.linalg.norm(X_train, axis=1, keepdims=True)).shape)\n",
    "X_train = X_train / np.linalg.norm(X_train, axis=1, keepdims=True)\n",
    "X_val = X_val / np.linalg.norm(X_val, axis=1, keepdims=True)\n",
    "X_test = X_test / np.linalg.norm(X_test, axis=1, keepdims=True)\n",
    "\n",
    "#  reshape by N_Melvec x Melvec_length x 1\n",
    "X_train = X_train.reshape(len(X_train), 20, 20, 1)\n",
    "y_train = y_train.reshape(len(y_train),)\n",
    "\n",
    "X_val = X_val.reshape(len(X_val), 20, 20, 1)\n",
    "y_val = y_val.reshape(len(y_val),)\n",
    "\n",
    "X_test = X_test.reshape(len(X_test), 20, 20, 1)\n",
    "y_test = y_test.reshape(len(y_test),)\n",
    "\n",
    "print(\"Shape of X_train: \", X_train.shape)\n",
    "print(\"Shape of Y_train: \", y_train.shape)\n",
    "print(\"Shape of X_val: \", X_val.shape)\n",
    "print(\"Shape of Y_val: \", y_val.shape)\n",
    "print(\"Shape of X_test: \", X_test.shape)\n",
    "print(\"Shape of Y_test: \", y_test.shape)"
   ]
  },
  {
   "cell_type": "code",
   "execution_count": 13,
   "metadata": {},
   "outputs": [],
   "source": [
    "# [3] (optional) dimensionality reduction."
   ]
  },
  {
   "cell_type": "code",
   "execution_count": 13,
   "metadata": {},
   "outputs": [],
   "source": [
    "input_shape = (20, 20, 1)\n",
    "\n",
    "model = Sequential()\n",
    "\n",
    "model.add(Conv2D(64, (3,3), activation = 'relu', strides=(2,2), input_shape = input_shape))\n",
    "model.add(Dropout(0.25))\n",
    "model.add(BatchNormalization()) # prevent overfitting\n",
    "#model.add(MaxPooling2D((2,2))) # activation layer, dimensionality reduction\n",
    "\n",
    "model.add(Conv2D(64, (3,3), activation = 'relu', strides=(2,2)))\n",
    "model.add(Dropout(0.25))\n",
    "model.add(BatchNormalization())\n",
    "#model.add(MaxPooling2D((2,2)))\n",
    "\n",
    "model.add(Conv2D(64, (3,3), activation = 'relu', strides=(2,2)))\n",
    "model.add(Dropout(0.25))\n",
    "model.add(BatchNormalization())\n",
    "#model.add(MaxPooling2D((2,2)))\n",
    "\n",
    "model.add(Flatten())\n",
    "model.add(Dense(128, activation = 'relu'))\n",
    "model.add(Dense(5, activation = 'softmax'))"
   ]
  },
  {
   "cell_type": "code",
   "execution_count": 15,
   "metadata": {},
   "outputs": [],
   "source": [
    "# [4] Model training and selection\n",
    "# input_shape = (20, 20, 1)\n",
    "# num_labels = 5\n",
    "# num_filters = 16\n",
    "# units = 32\n",
    "# drop_rate = 0.2\n",
    "\n",
    "# model = Sequential()\n",
    "\n",
    "# model.add(Conv2D(24, (3,3), activation = 'relu', input_shape = input_shape))\n",
    "# model.add(BatchNormalization()) # prevent overfitting\n",
    "# model.add(MaxPooling2D((2,2))) # activation layer, dimensionality reduction\n",
    "\n",
    "# model.add(Conv2D(48, (3,3), activation = 'relu'))\n",
    "# model.add(BatchNormalization())\n",
    "# model.add(MaxPooling2D((2,2)))\n",
    "\n",
    "# model.add(Conv2D(48, (3,3), activation = 'relu'))\n",
    "# model.add(BatchNormalization())\n",
    "# # model.add(MaxPooling2D((2,2)))\n",
    "\n",
    "# model.add(Flatten())\n",
    "# model.add(Dropout(drop_rate))\n",
    "\n",
    "# model.add(Dense(units, activation = 'relu'))\n",
    "\n",
    "# model.add(Dropout(drop_rate))\n",
    "\n",
    "# model.add(Dense(num_labels, activation = 'softmax'))"
   ]
  },
  {
   "cell_type": "code",
   "execution_count": 14,
   "metadata": {},
   "outputs": [],
   "source": [
    "# input_shape = (20, 20, 1)\n",
    "# num_labels = 5\n",
    "# num_filters = 16\n",
    "# units = 32\n",
    "# drop_rate = 0.2\n",
    "\n",
    "# model = Sequential()\n",
    "\n",
    "# model.add(BatchNormalization(input_shape = (20, 20, 1)))\n",
    "# model.add(Conv2D(32, 3, activation = 'relu'))\n",
    "# model.add(Conv2D(64, 3, activation = 'relu'))\n",
    "# model.add(Conv2D(32, 3, activation = 'relu'))\n",
    "# model.add(MaxPooling2D())\n",
    "# model.add(Dropout(0.25))\n",
    "# model.add(Flatten())\n",
    "# model.add(Dense(128, activation = 'relu'))\n",
    "# model.add(Dropout(0.25))\n",
    "# model.add(Dense(5, activation = 'softmax'))\n",
    "\n",
    "# model = Sequential([\n",
    "#     layers.Input(shape=input_shape),\n",
    "#     # Downsample the input.\n",
    "#     layers.Resizing(32, 32),\n",
    "#     # Normalize.\n",
    "#     norm_layer,\n",
    "#     layers.Conv2D(32, 3, activation='relu'),\n",
    "#     layers.Conv2D(64, 3, activation='relu'),\n",
    "#     layers.MaxPooling2D(),\n",
    "#     layers.Dropout(0.25),\n",
    "#     layers.Flatten(),\n",
    "#     layers.Dense(128, activation='relu'),\n",
    "#     layers.Dropout(0.5),\n",
    "#     layers.Dense(num_labels),\n",
    "# ])\n"
   ]
  },
  {
   "cell_type": "code",
   "execution_count": 15,
   "metadata": {},
   "outputs": [],
   "source": [
    "from tensorflow.keras.optimizers import Adam\n",
    "\n",
    "learning_rate = 0.001  \n",
    "\n",
    "optimizer = Adam(learning_rate=learning_rate)\n",
    "\n",
    "# sparse_categorical_crossentropy\n",
    "model.compile(optimizer=optimizer, loss='categorical_crossentropy', metrics=['accuracy'])\n",
    "\n",
    "\n",
    "#model.compile('adam', loss='sparse_categorical_crossentropy', metrics=['accuracy'])"
   ]
  },
  {
   "cell_type": "code",
   "execution_count": 16,
   "metadata": {
    "scrolled": true
   },
   "outputs": [
    {
     "name": "stdout",
     "output_type": "stream",
     "text": [
      "Model: \"sequential\"\n",
      "_________________________________________________________________\n",
      " Layer (type)                Output Shape              Param #   \n",
      "=================================================================\n",
      " conv2d (Conv2D)             (None, 9, 9, 64)          640       \n",
      "                                                                 \n",
      " dropout (Dropout)           (None, 9, 9, 64)          0         \n",
      "                                                                 \n",
      " batch_normalization (Batch  (None, 9, 9, 64)          256       \n",
      " Normalization)                                                  \n",
      "                                                                 \n",
      " conv2d_1 (Conv2D)           (None, 4, 4, 64)          36928     \n",
      "                                                                 \n",
      " dropout_1 (Dropout)         (None, 4, 4, 64)          0         \n",
      "                                                                 \n",
      " batch_normalization_1 (Bat  (None, 4, 4, 64)          256       \n",
      " chNormalization)                                                \n",
      "                                                                 \n",
      " conv2d_2 (Conv2D)           (None, 1, 1, 64)          36928     \n",
      "                                                                 \n",
      " dropout_2 (Dropout)         (None, 1, 1, 64)          0         \n",
      "                                                                 \n",
      " batch_normalization_2 (Bat  (None, 1, 1, 64)          256       \n",
      " chNormalization)                                                \n",
      "                                                                 \n",
      " flatten (Flatten)           (None, 64)                0         \n",
      "                                                                 \n",
      " dense (Dense)               (None, 128)               8320      \n",
      "                                                                 \n",
      " dense_1 (Dense)             (None, 5)                 645       \n",
      "                                                                 \n",
      "=================================================================\n",
      "Total params: 84229 (329.02 KB)\n",
      "Trainable params: 83845 (327.52 KB)\n",
      "Non-trainable params: 384 (1.50 KB)\n",
      "_________________________________________________________________\n"
     ]
    }
   ],
   "source": [
    "model.summary()"
   ]
  },
  {
   "cell_type": "code",
   "execution_count": 17,
   "metadata": {},
   "outputs": [
    {
     "name": "stderr",
     "output_type": "stream",
     "text": [
      "/home/lucie/.cache/pypoetry/virtualenvs/lelec210x-C4YOSB4N-py3.8/lib/python3.8/site-packages/sklearn/preprocessing/_encoders.py:975: FutureWarning: `sparse` was renamed to `sparse_output` in version 1.2 and will be removed in 1.4. `sparse_output` is ignored unless you leave `sparse` to its default value.\n",
      "  warnings.warn(\n"
     ]
    }
   ],
   "source": [
    "ohe = OneHotEncoder(categories='auto', sparse=False)\n",
    "#y_train = y_train.reshape(-1,) \n",
    "#print(y_train.shape)\n",
    "#oneHot.fit([['birds', 1], ['chainsaw','fire','handsaw','helicopter']])\n",
    "y_train_encoded = ohe.fit_transform(y_train.reshape(-1,1))#[:,np.newaxis]).reshape(1,-1)) # Reshape labels to (n_samples,)\n",
    "y_val_encoded = ohe.transform(y_val.reshape(-1,1)) # Reshape labels to (n_samples,)\n",
    "#print(y_train_encoded.shape)\n",
    "#print(X_train.shape)"
   ]
  },
  {
   "cell_type": "code",
   "execution_count": 18,
   "metadata": {},
   "outputs": [
    {
     "name": "stdout",
     "output_type": "stream",
     "text": [
      "Epoch 1/150\n",
      "192/192 [==============================] - 2s 5ms/step - loss: 1.2056 - accuracy: 0.4964 - val_loss: 1.9099 - val_accuracy: 0.2000 - lr: 0.0010\n",
      "Epoch 2/150\n",
      "192/192 [==============================] - 1s 4ms/step - loss: 0.9629 - accuracy: 0.6078 - val_loss: 2.3938 - val_accuracy: 0.2647 - lr: 0.0010\n",
      "Epoch 3/150\n",
      "192/192 [==============================] - 1s 4ms/step - loss: 0.8672 - accuracy: 0.6529 - val_loss: 0.9897 - val_accuracy: 0.6265 - lr: 0.0010\n",
      "Epoch 4/150\n",
      "192/192 [==============================] - 1s 4ms/step - loss: 0.8146 - accuracy: 0.6833 - val_loss: 0.8823 - val_accuracy: 0.6559 - lr: 0.0010\n",
      "Epoch 5/150\n",
      "192/192 [==============================] - 1s 4ms/step - loss: 0.8011 - accuracy: 0.6922 - val_loss: 0.7999 - val_accuracy: 0.7029 - lr: 0.0010\n",
      "Epoch 6/150\n",
      "192/192 [==============================] - 1s 4ms/step - loss: 0.7590 - accuracy: 0.7049 - val_loss: 0.7528 - val_accuracy: 0.7147 - lr: 0.0010\n",
      "Epoch 7/150\n",
      "192/192 [==============================] - 1s 4ms/step - loss: 0.7562 - accuracy: 0.7062 - val_loss: 0.7615 - val_accuracy: 0.7059 - lr: 0.0010\n",
      "Epoch 8/150\n",
      "192/192 [==============================] - 1s 4ms/step - loss: 0.7395 - accuracy: 0.7141 - val_loss: 0.7184 - val_accuracy: 0.7353 - lr: 0.0010\n",
      "Epoch 9/150\n",
      "192/192 [==============================] - 1s 4ms/step - loss: 0.6921 - accuracy: 0.7435 - val_loss: 0.7659 - val_accuracy: 0.7206 - lr: 0.0010\n",
      "Epoch 10/150\n",
      "192/192 [==============================] - 1s 4ms/step - loss: 0.6913 - accuracy: 0.7461 - val_loss: 0.7841 - val_accuracy: 0.6882 - lr: 0.0010\n",
      "Epoch 11/150\n",
      "192/192 [==============================] - 1s 4ms/step - loss: 0.6730 - accuracy: 0.7516 - val_loss: 0.7315 - val_accuracy: 0.7324 - lr: 0.0010\n",
      "Epoch 12/150\n",
      "192/192 [==============================] - 1s 4ms/step - loss: 0.6719 - accuracy: 0.7392 - val_loss: 0.7110 - val_accuracy: 0.7412 - lr: 0.0010\n",
      "Epoch 13/150\n",
      "192/192 [==============================] - 1s 4ms/step - loss: 0.6493 - accuracy: 0.7484 - val_loss: 0.6434 - val_accuracy: 0.7647 - lr: 0.0010\n",
      "Epoch 14/150\n",
      "192/192 [==============================] - 1s 4ms/step - loss: 0.6227 - accuracy: 0.7644 - val_loss: 0.7206 - val_accuracy: 0.7324 - lr: 0.0010\n",
      "Epoch 15/150\n",
      "192/192 [==============================] - 1s 4ms/step - loss: 0.6069 - accuracy: 0.7725 - val_loss: 0.6177 - val_accuracy: 0.7618 - lr: 0.0010\n",
      "Epoch 16/150\n",
      "192/192 [==============================] - 1s 4ms/step - loss: 0.5911 - accuracy: 0.7752 - val_loss: 0.6467 - val_accuracy: 0.7647 - lr: 0.0010\n",
      "Epoch 17/150\n",
      "192/192 [==============================] - 1s 4ms/step - loss: 0.6076 - accuracy: 0.7690 - val_loss: 0.6764 - val_accuracy: 0.7382 - lr: 0.0010\n",
      "Epoch 18/150\n",
      "192/192 [==============================] - 1s 4ms/step - loss: 0.5741 - accuracy: 0.7690 - val_loss: 0.6268 - val_accuracy: 0.7618 - lr: 0.0010\n",
      "Epoch 19/150\n",
      "192/192 [==============================] - 1s 4ms/step - loss: 0.5441 - accuracy: 0.7882 - val_loss: 0.6239 - val_accuracy: 0.7706 - lr: 0.0010\n",
      "Epoch 20/150\n",
      "192/192 [==============================] - 1s 4ms/step - loss: 0.5612 - accuracy: 0.7837 - val_loss: 0.5998 - val_accuracy: 0.7735 - lr: 0.0010\n",
      "Epoch 21/150\n",
      "192/192 [==============================] - 1s 4ms/step - loss: 0.5438 - accuracy: 0.7928 - val_loss: 0.8686 - val_accuracy: 0.6853 - lr: 0.0010\n",
      "Epoch 22/150\n",
      "192/192 [==============================] - 1s 4ms/step - loss: 0.5498 - accuracy: 0.7908 - val_loss: 0.6332 - val_accuracy: 0.7588 - lr: 0.0010\n",
      "Epoch 23/150\n",
      "192/192 [==============================] - 1s 4ms/step - loss: 0.5564 - accuracy: 0.7778 - val_loss: 1.1042 - val_accuracy: 0.6294 - lr: 0.0010\n",
      "Epoch 24/150\n",
      "192/192 [==============================] - 1s 4ms/step - loss: 0.5953 - accuracy: 0.7709 - val_loss: 0.6188 - val_accuracy: 0.7853 - lr: 0.0010\n",
      "Epoch 25/150\n",
      "192/192 [==============================] - 1s 4ms/step - loss: 0.5285 - accuracy: 0.7941 - val_loss: 0.6186 - val_accuracy: 0.7706 - lr: 0.0010\n",
      "Epoch 26/150\n",
      "192/192 [==============================] - 1s 4ms/step - loss: 0.4904 - accuracy: 0.8042 - val_loss: 0.5862 - val_accuracy: 0.7706 - lr: 0.0010\n",
      "Epoch 27/150\n",
      "192/192 [==============================] - 1s 4ms/step - loss: 0.5043 - accuracy: 0.8046 - val_loss: 0.6470 - val_accuracy: 0.7853 - lr: 0.0010\n",
      "Epoch 28/150\n",
      "192/192 [==============================] - 1s 4ms/step - loss: 0.4906 - accuracy: 0.8072 - val_loss: 0.6210 - val_accuracy: 0.7471 - lr: 0.0010\n",
      "Epoch 29/150\n",
      "192/192 [==============================] - 1s 4ms/step - loss: 0.5029 - accuracy: 0.8098 - val_loss: 0.5737 - val_accuracy: 0.7971 - lr: 0.0010\n",
      "Epoch 30/150\n",
      "192/192 [==============================] - 1s 4ms/step - loss: 0.4846 - accuracy: 0.8075 - val_loss: 0.6111 - val_accuracy: 0.7882 - lr: 0.0010\n",
      "Epoch 31/150\n",
      "192/192 [==============================] - 1s 4ms/step - loss: 0.4900 - accuracy: 0.8131 - val_loss: 0.6215 - val_accuracy: 0.7735 - lr: 0.0010\n",
      "Epoch 32/150\n",
      "192/192 [==============================] - 1s 4ms/step - loss: 0.4933 - accuracy: 0.8020 - val_loss: 0.6307 - val_accuracy: 0.7941 - lr: 0.0010\n",
      "Epoch 33/150\n",
      "192/192 [==============================] - 1s 4ms/step - loss: 0.4726 - accuracy: 0.8137 - val_loss: 0.6152 - val_accuracy: 0.7618 - lr: 0.0010\n",
      "Epoch 34/150\n",
      "192/192 [==============================] - 1s 4ms/step - loss: 0.4844 - accuracy: 0.8098 - val_loss: 0.6404 - val_accuracy: 0.7676 - lr: 0.0010\n",
      "Epoch 35/150\n",
      "192/192 [==============================] - 1s 4ms/step - loss: 0.4653 - accuracy: 0.8199 - val_loss: 0.5522 - val_accuracy: 0.8059 - lr: 0.0010\n",
      "Epoch 36/150\n",
      "192/192 [==============================] - 1s 4ms/step - loss: 0.4328 - accuracy: 0.8304 - val_loss: 0.6988 - val_accuracy: 0.7853 - lr: 0.0010\n",
      "Epoch 37/150\n",
      "192/192 [==============================] - 1s 4ms/step - loss: 0.4450 - accuracy: 0.8258 - val_loss: 0.7014 - val_accuracy: 0.7706 - lr: 0.0010\n",
      "Epoch 38/150\n",
      "192/192 [==============================] - 1s 4ms/step - loss: 0.4627 - accuracy: 0.8209 - val_loss: 0.6397 - val_accuracy: 0.7794 - lr: 0.0010\n",
      "Epoch 39/150\n",
      "192/192 [==============================] - 1s 4ms/step - loss: 0.4710 - accuracy: 0.8209 - val_loss: 0.6394 - val_accuracy: 0.7647 - lr: 0.0010\n",
      "Epoch 40/150\n",
      "192/192 [==============================] - 1s 4ms/step - loss: 0.6011 - accuracy: 0.7608 - val_loss: 0.6193 - val_accuracy: 0.7735 - lr: 0.0010\n",
      "Epoch 41/150\n",
      "192/192 [==============================] - 1s 4ms/step - loss: 0.4925 - accuracy: 0.8105 - val_loss: 0.5898 - val_accuracy: 0.7882 - lr: 0.0010\n",
      "Epoch 42/150\n",
      "192/192 [==============================] - 1s 4ms/step - loss: 0.4791 - accuracy: 0.8212 - val_loss: 0.6281 - val_accuracy: 0.7882 - lr: 0.0010\n",
      "Epoch 43/150\n",
      "192/192 [==============================] - 1s 4ms/step - loss: 0.4747 - accuracy: 0.8092 - val_loss: 0.5656 - val_accuracy: 0.7941 - lr: 0.0010\n",
      "Epoch 44/150\n",
      "192/192 [==============================] - 1s 4ms/step - loss: 0.4513 - accuracy: 0.8278 - val_loss: 0.5668 - val_accuracy: 0.7794 - lr: 0.0010\n",
      "Epoch 45/150\n",
      "192/192 [==============================] - 1s 4ms/step - loss: 0.4623 - accuracy: 0.8206 - val_loss: 0.5793 - val_accuracy: 0.8059 - lr: 0.0010\n",
      "Epoch 46/150\n",
      "192/192 [==============================] - 1s 4ms/step - loss: 0.4091 - accuracy: 0.8438 - val_loss: 0.5599 - val_accuracy: 0.8176 - lr: 1.0000e-04\n",
      "Epoch 47/150\n",
      "192/192 [==============================] - 1s 4ms/step - loss: 0.4191 - accuracy: 0.8356 - val_loss: 0.5626 - val_accuracy: 0.8176 - lr: 1.0000e-04\n",
      "Epoch 48/150\n",
      "192/192 [==============================] - 1s 4ms/step - loss: 0.4028 - accuracy: 0.8431 - val_loss: 0.5530 - val_accuracy: 0.8147 - lr: 1.0000e-04\n",
      "Epoch 49/150\n",
      "192/192 [==============================] - 1s 4ms/step - loss: 0.3977 - accuracy: 0.8458 - val_loss: 0.5481 - val_accuracy: 0.8147 - lr: 1.0000e-04\n",
      "Epoch 50/150\n",
      "192/192 [==============================] - 1s 4ms/step - loss: 0.3980 - accuracy: 0.8487 - val_loss: 0.5516 - val_accuracy: 0.8147 - lr: 1.0000e-04\n",
      "Epoch 51/150\n",
      "192/192 [==============================] - 1s 4ms/step - loss: 0.3942 - accuracy: 0.8435 - val_loss: 0.5443 - val_accuracy: 0.8265 - lr: 1.0000e-04\n",
      "Epoch 52/150\n",
      "192/192 [==============================] - 1s 4ms/step - loss: 0.3631 - accuracy: 0.8546 - val_loss: 0.5401 - val_accuracy: 0.8265 - lr: 1.0000e-04\n",
      "Epoch 53/150\n",
      "192/192 [==============================] - 1s 4ms/step - loss: 0.3840 - accuracy: 0.8513 - val_loss: 0.5415 - val_accuracy: 0.8265 - lr: 1.0000e-04\n",
      "Epoch 54/150\n",
      "192/192 [==============================] - 1s 4ms/step - loss: 0.3744 - accuracy: 0.8510 - val_loss: 0.5465 - val_accuracy: 0.8235 - lr: 1.0000e-04\n",
      "Epoch 55/150\n",
      "192/192 [==============================] - 1s 4ms/step - loss: 0.3911 - accuracy: 0.8458 - val_loss: 0.5587 - val_accuracy: 0.8265 - lr: 1.0000e-04\n",
      "Epoch 56/150\n",
      "192/192 [==============================] - 1s 4ms/step - loss: 0.3746 - accuracy: 0.8480 - val_loss: 0.5385 - val_accuracy: 0.8294 - lr: 1.0000e-04\n",
      "Epoch 57/150\n",
      "192/192 [==============================] - 1s 4ms/step - loss: 0.3779 - accuracy: 0.8510 - val_loss: 0.5407 - val_accuracy: 0.8265 - lr: 1.0000e-04\n",
      "Epoch 58/150\n",
      "192/192 [==============================] - 1s 4ms/step - loss: 0.3694 - accuracy: 0.8565 - val_loss: 0.5367 - val_accuracy: 0.8294 - lr: 1.0000e-04\n",
      "Epoch 59/150\n",
      "192/192 [==============================] - 1s 4ms/step - loss: 0.3548 - accuracy: 0.8575 - val_loss: 0.5460 - val_accuracy: 0.8294 - lr: 1.0000e-04\n",
      "Epoch 60/150\n",
      "192/192 [==============================] - 1s 4ms/step - loss: 0.3738 - accuracy: 0.8533 - val_loss: 0.5627 - val_accuracy: 0.8324 - lr: 1.0000e-04\n",
      "Epoch 61/150\n",
      "192/192 [==============================] - 1s 4ms/step - loss: 0.3728 - accuracy: 0.8575 - val_loss: 0.5556 - val_accuracy: 0.8324 - lr: 1.0000e-04\n",
      "Epoch 62/150\n",
      "192/192 [==============================] - 1s 4ms/step - loss: 0.3497 - accuracy: 0.8611 - val_loss: 0.5661 - val_accuracy: 0.8294 - lr: 1.0000e-04\n",
      "Epoch 63/150\n",
      "192/192 [==============================] - 1s 4ms/step - loss: 0.3501 - accuracy: 0.8634 - val_loss: 0.5370 - val_accuracy: 0.8353 - lr: 1.0000e-04\n",
      "Epoch 64/150\n",
      "192/192 [==============================] - 1s 4ms/step - loss: 0.3637 - accuracy: 0.8601 - val_loss: 0.5495 - val_accuracy: 0.8382 - lr: 1.0000e-04\n",
      "Epoch 65/150\n",
      "192/192 [==============================] - 1s 4ms/step - loss: 0.3623 - accuracy: 0.8578 - val_loss: 0.5426 - val_accuracy: 0.8353 - lr: 1.0000e-04\n",
      "Epoch 66/150\n",
      "192/192 [==============================] - 1s 4ms/step - loss: 0.3571 - accuracy: 0.8595 - val_loss: 0.5558 - val_accuracy: 0.8353 - lr: 1.0000e-04\n",
      "Epoch 67/150\n",
      "192/192 [==============================] - 1s 4ms/step - loss: 0.3389 - accuracy: 0.8660 - val_loss: 0.5392 - val_accuracy: 0.8324 - lr: 1.0000e-04\n",
      "Epoch 68/150\n",
      "192/192 [==============================] - 1s 4ms/step - loss: 0.3403 - accuracy: 0.8611 - val_loss: 0.5536 - val_accuracy: 0.8324 - lr: 1.0000e-04\n",
      "Epoch 69/150\n",
      "192/192 [==============================] - 1s 4ms/step - loss: 0.3441 - accuracy: 0.8647 - val_loss: 0.5416 - val_accuracy: 0.8294 - lr: 1.0000e-04\n",
      "Epoch 70/150\n",
      "192/192 [==============================] - 1s 4ms/step - loss: 0.3445 - accuracy: 0.8647 - val_loss: 0.5597 - val_accuracy: 0.8265 - lr: 1.0000e-04\n",
      "Epoch 71/150\n",
      "192/192 [==============================] - 1s 4ms/step - loss: 0.3553 - accuracy: 0.8572 - val_loss: 0.5468 - val_accuracy: 0.8265 - lr: 1.0000e-04\n",
      "Epoch 72/150\n",
      "192/192 [==============================] - 1s 4ms/step - loss: 0.3430 - accuracy: 0.8663 - val_loss: 0.5192 - val_accuracy: 0.8294 - lr: 1.0000e-04\n",
      "Epoch 73/150\n",
      "192/192 [==============================] - 1s 4ms/step - loss: 0.3416 - accuracy: 0.8631 - val_loss: 0.5438 - val_accuracy: 0.8235 - lr: 1.0000e-04\n",
      "Epoch 74/150\n",
      "192/192 [==============================] - 1s 4ms/step - loss: 0.3337 - accuracy: 0.8755 - val_loss: 0.5361 - val_accuracy: 0.8265 - lr: 1.0000e-04\n",
      "Epoch 75/150\n",
      "192/192 [==============================] - 1s 4ms/step - loss: 0.3334 - accuracy: 0.8709 - val_loss: 0.5432 - val_accuracy: 0.8265 - lr: 1.0000e-05\n",
      "Epoch 76/150\n",
      "192/192 [==============================] - 1s 4ms/step - loss: 0.3458 - accuracy: 0.8627 - val_loss: 0.5473 - val_accuracy: 0.8294 - lr: 1.0000e-05\n",
      "Epoch 77/150\n",
      "192/192 [==============================] - 1s 4ms/step - loss: 0.3387 - accuracy: 0.8680 - val_loss: 0.5470 - val_accuracy: 0.8265 - lr: 1.0000e-05\n",
      "Epoch 78/150\n",
      "192/192 [==============================] - 1s 4ms/step - loss: 0.3273 - accuracy: 0.8784 - val_loss: 0.5481 - val_accuracy: 0.8324 - lr: 1.0000e-05\n",
      "Epoch 79/150\n",
      "192/192 [==============================] - 1s 4ms/step - loss: 0.3248 - accuracy: 0.8690 - val_loss: 0.5475 - val_accuracy: 0.8324 - lr: 1.0000e-05\n",
      "Epoch 80/150\n",
      "192/192 [==============================] - 1s 4ms/step - loss: 0.3403 - accuracy: 0.8673 - val_loss: 0.5452 - val_accuracy: 0.8294 - lr: 1.0000e-05\n",
      "Epoch 81/150\n",
      "192/192 [==============================] - 1s 4ms/step - loss: 0.3367 - accuracy: 0.8676 - val_loss: 0.5482 - val_accuracy: 0.8324 - lr: 1.0000e-05\n",
      "Epoch 82/150\n",
      "192/192 [==============================] - 1s 4ms/step - loss: 0.3245 - accuracy: 0.8735 - val_loss: 0.5473 - val_accuracy: 0.8324 - lr: 1.0000e-05\n",
      "Epoch 83/150\n",
      "192/192 [==============================] - 1s 4ms/step - loss: 0.3336 - accuracy: 0.8693 - val_loss: 0.5482 - val_accuracy: 0.8324 - lr: 1.0000e-05\n",
      "Epoch 84/150\n",
      "192/192 [==============================] - 1s 4ms/step - loss: 0.3205 - accuracy: 0.8752 - val_loss: 0.5488 - val_accuracy: 0.8324 - lr: 1.0000e-05\n",
      "Epoch 85/150\n",
      "192/192 [==============================] - 1s 4ms/step - loss: 0.3492 - accuracy: 0.8578 - val_loss: 0.5450 - val_accuracy: 0.8324 - lr: 1.0000e-06\n",
      "Epoch 86/150\n",
      "192/192 [==============================] - 1s 4ms/step - loss: 0.3439 - accuracy: 0.8676 - val_loss: 0.5454 - val_accuracy: 0.8324 - lr: 1.0000e-06\n",
      "Epoch 87/150\n",
      "192/192 [==============================] - 1s 4ms/step - loss: 0.3311 - accuracy: 0.8693 - val_loss: 0.5468 - val_accuracy: 0.8324 - lr: 1.0000e-06\n",
      "Epoch 88/150\n",
      "192/192 [==============================] - 1s 4ms/step - loss: 0.3226 - accuracy: 0.8732 - val_loss: 0.5448 - val_accuracy: 0.8324 - lr: 1.0000e-06\n",
      "Epoch 89/150\n",
      "192/192 [==============================] - 1s 4ms/step - loss: 0.3318 - accuracy: 0.8670 - val_loss: 0.5456 - val_accuracy: 0.8324 - lr: 1.0000e-06\n",
      "Epoch 90/150\n",
      "192/192 [==============================] - 1s 4ms/step - loss: 0.3302 - accuracy: 0.8696 - val_loss: 0.5472 - val_accuracy: 0.8324 - lr: 1.0000e-06\n",
      "Epoch 91/150\n",
      "192/192 [==============================] - 1s 4ms/step - loss: 0.3406 - accuracy: 0.8683 - val_loss: 0.5476 - val_accuracy: 0.8324 - lr: 1.0000e-06\n",
      "Epoch 92/150\n",
      "192/192 [==============================] - 1s 4ms/step - loss: 0.3244 - accuracy: 0.8739 - val_loss: 0.5466 - val_accuracy: 0.8324 - lr: 1.0000e-06\n",
      "Epoch 93/150\n",
      "192/192 [==============================] - 1s 4ms/step - loss: 0.3292 - accuracy: 0.8725 - val_loss: 0.5499 - val_accuracy: 0.8324 - lr: 1.0000e-06\n",
      "Epoch 94/150\n",
      "192/192 [==============================] - 1s 4ms/step - loss: 0.3475 - accuracy: 0.8605 - val_loss: 0.5479 - val_accuracy: 0.8324 - lr: 1.0000e-06\n",
      "Epoch 95/150\n",
      "192/192 [==============================] - 1s 4ms/step - loss: 0.3214 - accuracy: 0.8778 - val_loss: 0.5467 - val_accuracy: 0.8324 - lr: 1.0000e-07\n",
      "Epoch 96/150\n",
      "192/192 [==============================] - 1s 4ms/step - loss: 0.3524 - accuracy: 0.8533 - val_loss: 0.5462 - val_accuracy: 0.8324 - lr: 1.0000e-07\n",
      "Epoch 97/150\n",
      "192/192 [==============================] - 1s 4ms/step - loss: 0.3312 - accuracy: 0.8637 - val_loss: 0.5467 - val_accuracy: 0.8324 - lr: 1.0000e-07\n",
      "Epoch 98/150\n",
      "192/192 [==============================] - 1s 4ms/step - loss: 0.3351 - accuracy: 0.8703 - val_loss: 0.5473 - val_accuracy: 0.8324 - lr: 1.0000e-07\n",
      "Epoch 99/150\n",
      "192/192 [==============================] - 1s 4ms/step - loss: 0.3414 - accuracy: 0.8676 - val_loss: 0.5463 - val_accuracy: 0.8324 - lr: 1.0000e-07\n"
     ]
    }
   ],
   "source": [
    "epochs = 150\n",
    "\n",
    "early_stopping = EarlyStopping(monitor='val_accuracy', patience=35, restore_best_weights=True)\n",
    "reduce_lr = ReduceLROnPlateau(monitor='val_accuracy', factor = 0.1, patience = 10)\n",
    "\n",
    "history = model.fit(X_train, y_train_encoded, epochs=epochs, batch_size = 16 , validation_data=(X_val, y_val_encoded),  callbacks=[early_stopping,reduce_lr])"
   ]
  },
  {
   "cell_type": "code",
   "execution_count": 19,
   "metadata": {},
   "outputs": [
    {
     "data": {
      "text/plain": [
       "Text(0, 0.5, 'Accuracy [%]')"
      ]
     },
     "execution_count": 19,
     "metadata": {},
     "output_type": "execute_result"
    },
    {
     "data": {
      "image/png": "[encoded data removed]",
      "text/plain": [
       "<Figure size 1600x600 with 2 Axes>"
      ]
     },
     "metadata": {},
     "output_type": "display_data"
    }
   ],
   "source": [
    "metrics = history.history\n",
    "#print(metrics)\n",
    "plt.figure(figsize=(16,6))\n",
    "plt.subplot(1,2,1)\n",
    "plt.plot(history.epoch, np.log(metrics['loss']), np.log(metrics['val_loss']))\n",
    "plt.legend(['loss', 'val_loss'])\n",
    "#plt.ylim([0, max(plt.ylim())])\n",
    "plt.xlabel('Epoch')\n",
    "plt.ylabel('log(Loss) [CrossEntropy]')\n",
    "\n",
    "plt.subplot(1,2,2)\n",
    "plt.plot(history.epoch, 100*np.array(metrics['accuracy']), 100*np.array(metrics['val_accuracy']))\n",
    "plt.legend(['accuracy', 'val_accuracy'])\n",
    "plt.ylim([0, 100])\n",
    "plt.xlabel('Epoch')\n",
    "plt.ylabel('Accuracy [%]')\n",
    "\n",
    "#plt.savefig('Loss-Acc-epochs=40-batch_size=16-FV=1000.pdf')"
   ]
  },
  {
   "cell_type": "code",
   "execution_count": 20,
   "metadata": {},
   "outputs": [
    {
     "name": "stdout",
     "output_type": "stream",
     "text": [
      "27/27 [==============================] - 0s 2ms/step - loss: 0.4303 - accuracy: 0.8412\n"
     ]
    },
    {
     "data": {
      "text/plain": [
       "[0.4302620589733124, 0.841176450252533]"
      ]
     },
     "execution_count": 20,
     "metadata": {},
     "output_type": "execute_result"
    }
   ],
   "source": [
    "y_test_encoded = ohe.transform(y_test.reshape(-1,1))\n",
    "\n",
    "model.evaluate(X_test, y_test_encoded)"
   ]
  },
  {
   "cell_type": "code",
   "execution_count": 21,
   "metadata": {},
   "outputs": [],
   "source": [
    "# [5] Save the trained model, eventually the pca.\n",
    "filename = 'CNN-DatasetGlPyth.pickle'\n",
    "file_ohe_encoder = 'ohe.pickle'\n",
    "\n",
    "pickle.dump(model, open(model_dir+filename, 'wb'))\n",
    "pickle.dump(ohe, open(model_dir+file_ohe_encoder, 'wb'))"
   ]
  },
  {
   "cell_type": "code",
   "execution_count": 22,
   "metadata": {},
   "outputs": [],
   "source": [
    "import matplotlib.pyplot as plt\n",
    "import numpy as np\n",
    "\n",
    "\"For confusion matrix plot\"\n",
    "from seaborn import heatmap\n",
    "from sklearn.metrics import confusion_matrix\n",
    "\n",
    "# -----------------------------------------------------------------------------\n",
    "\"\"\"\n",
    "Synthesis of the functions in :\n",
    "\n",
    "- show_confusion_matrix : plot confusion matrix.\n",
    "- plot_audio : Plot an audiosignal in time and frequency\n",
    "- plot_specgram : Plot a spectrogram (2D matrix)\n",
    "- plot_decision_boundary : Plot decision boundary of a classifier.\n",
    "\"\"\"\n",
    "# -----------------------------------------------------------------------------\n",
    "\n",
    "\n",
    "def show_confusion_matrix(y_predict, y_true, classnames, title=\"\", saveFig = False, saveAs=''):\n",
    "    \"\"\"\n",
    "    From target labels and prediction arrays, sort them appropriately and plot confusion matrix.\n",
    "    The arrays can contain either ints or str quantities, as long as classnames contains all the elements present in them.\n",
    "    \"\"\"\n",
    "    # # Reorder the prediction array\n",
    "    # labels = np.zeros_like(y_predict)\n",
    "    # for i in np.arange(len(classnames)):\n",
    "    #     mask = [None]*len(y_predict)\n",
    "    #     for j in np.arange(len(mask)):\n",
    "    #         mask[j] = (y_predict[j] == classnames[i])\n",
    "    #     labels[mask] = mode(y_true2[mask])[0]\n",
    "    \n",
    "\n",
    "    plt.figure(figsize=(5, 5))\n",
    "    confmat = confusion_matrix(y_true, y_predict)\n",
    "    heatmap(\n",
    "        confmat.T,\n",
    "        square=True,\n",
    "        annot=True,\n",
    "        fmt=\"d\",\n",
    "        cbar=False,\n",
    "        xticklabels=classnames,\n",
    "        yticklabels=classnames,\n",
    "        ax=plt.gca(),\n",
    "    )\n",
    "    plt.xlabel(\"True label\")\n",
    "    plt.ylabel(\"Predicted label\")\n",
    "    plt.title(title)\n",
    "\n",
    "    if(saveFig):\n",
    "        plt.savefig(saveAs)\n",
    "    \n",
    "    plt.show()\n",
    "    return None"
   ]
  },
  {
   "cell_type": "code",
   "execution_count": 23,
   "metadata": {},
   "outputs": [
    {
     "name": "stdout",
     "output_type": "stream",
     "text": [
      "27/27 [==============================] - 0s 2ms/step\n",
      "(850, 5)\n",
      "Accuracy of CNN with fixed train/validation sets : 84.1%\n"
     ]
    },
    {
     "data": {
      "image/png": "[encoded data removed]",
      "text/plain": [
       "<Figure size 500x500 with 1 Axes>"
      ]
     },
     "metadata": {},
     "output_type": "display_data"
    }
   ],
   "source": [
    "# [6] Evaluate the model.\n",
    "prediction_CNN = model.predict(X_test) # all the proba for each class\n",
    "\n",
    "def binarizer(prediction_CNN): \n",
    "    pred = np.zeros(prediction_CNN.shape)\n",
    "    print(pred.shape)\n",
    "    for i, line in enumerate(prediction_CNN): \n",
    "        idx = np.argmax(line)\n",
    "        pred[i,idx] = 1\n",
    "    return pred\n",
    "    \n",
    "\n",
    "out = binarizer(prediction_CNN)\n",
    "\n",
    "predicted_classes = np.argmax(prediction_CNN, axis=1) # the most probable class\n",
    "predicted_classes = ohe.inverse_transform(out)\n",
    "\n",
    "\n",
    "accuracy_CNN = accuracy(predicted_classes.squeeze(), y_test)\n",
    "\n",
    "print('Accuracy of CNN with fixed train/validation sets : {:.1f}%'.format(100*accuracy_CNN))\n",
    "show_confusion_matrix (predicted_classes, y_test, classnames, saveFig = True, saveAs='CNNfinalPyth.pdf')"
   ]
  },
  {
   "cell_type": "code",
   "execution_count": null,
   "metadata": {},
   "outputs": [],
   "source": []
  },
  {
   "cell_type": "code",
   "execution_count": null,
   "metadata": {},
   "outputs": [],
   "source": []
  }
 ],
 "metadata": {
  "kernelspec": {
   "display_name": "Python 3 (ipykernel)",
   "language": "python",
   "name": "python3"
  },
  "language_info": {
   "codemirror_mode": {
    "name": "ipython",
    "version": 3
   },
   "file_extension": ".py",
   "mimetype": "text/x-python",
   "name": "python",
   "nbconvert_exporter": "python",
   "pygments_lexer": "ipython3",
   "version": "3.8.10"
  }
 },
 "nbformat": 4,
 "nbformat_minor": 4
}
