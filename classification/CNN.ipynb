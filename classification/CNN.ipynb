{
 "cells": [
  {
   "cell_type": "markdown",
   "metadata": {},
   "source": [
    "For this code, need to use python 3 kernel and not LELEC210X kernel!"
   ]
  },
  {
   "cell_type": "markdown",
   "metadata": {},
   "source": [
    "https://www.tensorflow.org/tutorials/audio/simple_audio\n",
    "https://github.com/nicknochnack/ImageClassification/blob/main/Getting%20Started.ipynb\n",
    "https://nmbu.brage.unit.no/nmbu-xmlui/bitstream/handle/11250/2611624/report-print1.pdf?sequence=3&isAllowed=y\n"
   ]
  },
  {
   "cell_type": "code",
   "execution_count": 1,
   "metadata": {},
   "outputs": [],
   "source": [
    "import os\n",
    "import numpy as np\n",
    "import matplotlib.pyplot as plt\n",
    "\n",
    "\"Machine learning tools\"\n",
    "from sklearn.neighbors import KNeighborsClassifier\n",
    "from sklearn.model_selection import train_test_split, StratifiedKFold\n",
    "from sklearn.neural_network import MLPClassifier\n",
    "from sklearn.preprocessing import StandardScaler\n",
    "from sklearn.ensemble import RandomForestClassifier as RFC\n",
    "from sklearn.decomposition import PCA\n",
    "import pickle\n",
    "from pathlib import Path\n",
    "from typing import List, Tuple\n",
    "import glob\n",
    "\n",
    "from classification.datasets import Dataset\n",
    "\n",
    "from classification.utils.plots import plot_specgram, show_confusion_matrix, plot_decision_boundaries\n",
    "from classification.utils.utils import accuracy\n",
    "from classification.utils.audio_student import AudioUtil, Feature_vector_DS"
   ]
  },
  {
   "cell_type": "code",
   "execution_count": 2,
   "metadata": {
    "scrolled": true
   },
   "outputs": [
    {
     "name": "stderr",
     "output_type": "stream",
     "text": [
      "2024-04-23 16:38:09.736015: I tensorflow/tsl/cuda/cudart_stub.cc:28] Could not find cuda drivers on your machine, GPU will not be used.\n",
      "2024-04-23 16:38:10.053821: I tensorflow/tsl/cuda/cudart_stub.cc:28] Could not find cuda drivers on your machine, GPU will not be used.\n",
      "2024-04-23 16:38:10.055653: I tensorflow/core/platform/cpu_feature_guard.cc:182] This TensorFlow binary is optimized to use available CPU instructions in performance-critical operations.\n",
      "To enable the following instructions: AVX2 FMA, in other operations, rebuild TensorFlow with the appropriate compiler flags.\n",
      "2024-04-23 16:38:11.094044: W tensorflow/compiler/tf2tensorrt/utils/py_utils.cc:38] TF-TRT Warning: Could not find TensorRT\n"
     ]
    }
   ],
   "source": [
    "import tensorflow as tf\n",
    "from tensorflow.keras.models import Sequential\n",
    "from tensorflow.keras.layers import Conv2D, MaxPooling2D, Dense, Flatten, Dropout, BatchNormalization\n",
    "from sklearn.preprocessing import LabelEncoder\n",
    "from tensorflow.keras.callbacks import EarlyStopping"
   ]
  },
  {
   "cell_type": "code",
   "execution_count": 3,
   "metadata": {},
   "outputs": [],
   "source": [
    "#!pip install --upgrade pip # update pip if needed"
   ]
  },
  {
   "cell_type": "code",
   "execution_count": 4,
   "metadata": {},
   "outputs": [],
   "source": [
    "#!pip install tensorflow tensorflow-gpu opencv-python matplotlib"
   ]
  },
  {
   "cell_type": "code",
   "execution_count": 5,
   "metadata": {},
   "outputs": [],
   "source": [
    "#!pip list"
   ]
  },
  {
   "cell_type": "code",
   "execution_count": 6,
   "metadata": {},
   "outputs": [],
   "source": [
    "model_dir = \"../goldenProject/python/modelCNN/\"\n",
    "fv_dir = \"../goldenProject/python/bigbigbigDataset/\"\n",
    "fm_dir = \"data/fm_1000/\""
   ]
  },
  {
   "cell_type": "markdown",
   "metadata": {},
   "source": [
    "<font size=5 color=#009999> 1. Our dataset </font> <br>"
   ]
  },
  {
   "cell_type": "markdown",
   "metadata": {},
   "source": [
    "<font size=4 color=#009999> 1.1 Build matrix of fv </font> <br>"
   ]
  },
  {
   "cell_type": "code",
   "execution_count": 44,
   "metadata": {},
   "outputs": [
    {
     "name": "stdout",
     "output_type": "stream",
     "text": [
      "5\n",
      "400\n",
      "2000\n"
     ]
    }
   ],
   "source": [
    "def get_cls_from_path(file):\n",
    "    return file.stem.split(\"_\", maxsplit=1)[0]\n",
    "\n",
    "\n",
    "format = \"pickle\"\n",
    "classnames = ['birds','chainsaw','fire','handsaw','helicopter']\n",
    "\n",
    "#fv = pickle.load(open(fv_dir + filename, 'rb'))\n",
    "#print(fv)\n",
    "#print(fv.shape)\n",
    "\n",
    "dic_fv = {}\n",
    "for file in sorted((Path(fv_dir)).glob(\"**/*.\" + format)):\n",
    "    #print(str(file))\n",
    "    fv = pickle.load(open(file, 'rb'))\n",
    "    fv = np.squeeze(fv)\n",
    "    cls = get_cls_from_path(file)\n",
    "    #print(cls)\n",
    "    dic_fv.setdefault(cls, []).append(fv)\n",
    "#print(dic_fv)\n",
    "\n",
    "nclass = len(dic_fv)\n",
    "naudio = len(dic_fv[list(dic_fv.keys())[0]])\n",
    "size = nclass * naudio\n",
    "\n",
    "print(nclass)\n",
    "print(naudio)\n",
    "print(size)\n",
    "\n",
    "# plt.figure()\n",
    "# plot_specgram(fv.reshape((20, 20)).T, ax=plt.gca(), is_mel=True, title=\"MEL Spectrogram\", xlabel=\"Mel vector\")\n",
    "# plt.show()\n"
   ]
  },
  {
   "cell_type": "code",
   "execution_count": 8,
   "metadata": {},
   "outputs": [
    {
     "name": "stdout",
     "output_type": "stream",
     "text": [
      "400\n"
     ]
    }
   ],
   "source": [
    "### Features vectors build matrix ###\n",
    "\n",
    "train_pct = 0.7\n",
    "print(len(dic_fv[\"birds\"][0]))\n",
    "featveclen = len(dic_fv[\"birds\"][0]) # number of items in a feature vector\n",
    "#nitems = size\n",
    "nlearn = round(naudio * train_pct) # number of sounds among naudio for training\n",
    "\n",
    "data_aug_factor = 1\n",
    "class_ids_aug = np.repeat(classnames, naudio*data_aug_factor) #matrice avec les noms des classes x le nombre de sons (40 de base)\n",
    "\n",
    "X = np.zeros((data_aug_factor*size, featveclen)) #nombre de sons total x taille du feature vector\n",
    "for s in range(data_aug_factor):\n",
    "    for class_idx, classname in enumerate(classnames):\n",
    "        for idx in range(naudio):\n",
    "            featvec = dic_fv[classname][idx] #melspec\n",
    "            X[s*nclass*naudio+class_idx*naudio+idx,:] = featvec       \n",
    "#np.save(fm_dir+\"feature_matrix.npy\", X)\n"
   ]
  },
  {
   "cell_type": "code",
   "execution_count": 9,
   "metadata": {
    "scrolled": true
   },
   "outputs": [
    {
     "name": "stdout",
     "output_type": "stream",
     "text": [
      "Shape of the feature matrix : (2000, 400)\n",
      "Number of labels : 2000\n",
      "\n"
     ]
    }
   ],
   "source": [
    "#X = np.load(fm_dir+\"feature_matrix.npy\")\n",
    "\n",
    "# \"Labels\"\n",
    "y = class_ids_aug.copy() #noms des sons\n",
    "\n",
    "print('Shape of the feature matrix : {}'.format(X.shape))\n",
    "print('Number of labels : {}'.format(len(y)))\n",
    "\n",
    "print()"
   ]
  },
  {
   "cell_type": "markdown",
   "metadata": {},
   "source": [
    "<font size=4 color=#009999> 1.3 Build data and split it </font> <br>"
   ]
  },
  {
   "cell_type": "code",
   "execution_count": 31,
   "metadata": {},
   "outputs": [
    {
     "name": "stdout",
     "output_type": "stream",
     "text": [
      "Shape of X_train:  (840, 400)\n",
      "Shape of Y_train:  (840,)\n",
      "Shape of X_val:  (560, 400)\n",
      "Shape of Y_val:  (560,)\n",
      "Shape of X_test:  (600, 400)\n",
      "Shape of Y_test:  (600,)\n"
     ]
    }
   ],
   "source": [
    "X_train, X_test, y_train, y_test = train_test_split(X, y, test_size=0.3, stratify=y) # random_state=1\n",
    "X_train, X_val, y_train, y_val = train_test_split(X_train, y_train, test_size=0.4, stratify=y_train, random_state=1)\n",
    "\n",
    "print(\"Shape of X_train: \", X_train.shape)\n",
    "print(\"Shape of Y_train: \", y_train.shape)\n",
    "print(\"Shape of X_val: \", X_val.shape)\n",
    "print(\"Shape of Y_val: \", y_val.shape)\n",
    "print(\"Shape of X_test: \", X_test.shape)\n",
    "print(\"Shape of Y_test: \", y_test.shape)"
   ]
  },
  {
   "cell_type": "code",
   "execution_count": 32,
   "metadata": {},
   "outputs": [
    {
     "name": "stdout",
     "output_type": "stream",
     "text": [
      "Shape of X_train:  (840, 20, 20, 1)\n",
      "Shape of Y_train:  (840,)\n",
      "Shape of X_val:  (560, 20, 20, 1)\n",
      "Shape of Y_val:  (560,)\n",
      "Shape of X_test:  (600, 20, 20, 1)\n",
      "Shape of Y_test:  (600,)\n"
     ]
    }
   ],
   "source": [
    "# [2] (optional) Data normalization\n",
    "X_train = X_train / np.linalg.norm(X_train, axis=1, keepdims=True)\n",
    "X_val = X_val / np.linalg.norm(X_val, axis=1, keepdims=True)\n",
    "X_test = X_test / np.linalg.norm(X_test, axis=1, keepdims=True)\n",
    "\n",
    "#  reshape by N_Melvec x Melvec_length x 1\n",
    "X_train = X_train.reshape(len(X_train), 20, 20, 1)\n",
    "y_train = y_train.reshape(len(y_train),)\n",
    "\n",
    "X_val = X_val.reshape(len(X_val), 20, 20, 1)\n",
    "y_val = y_val.reshape(len(y_val),)\n",
    "\n",
    "X_test = X_test.reshape(len(X_test), 20, 20, 1)\n",
    "y_test = y_test.reshape(len(y_test),)\n",
    "\n",
    "print(\"Shape of X_train: \", X_train.shape)\n",
    "print(\"Shape of Y_train: \", y_train.shape)\n",
    "print(\"Shape of X_val: \", X_val.shape)\n",
    "print(\"Shape of Y_val: \", y_val.shape)\n",
    "print(\"Shape of X_test: \", X_test.shape)\n",
    "print(\"Shape of Y_test: \", y_test.shape)"
   ]
  },
  {
   "cell_type": "code",
   "execution_count": 33,
   "metadata": {},
   "outputs": [],
   "source": [
    "# [3] (optional) dimensionality reduction."
   ]
  },
  {
   "cell_type": "code",
   "execution_count": 34,
   "metadata": {},
   "outputs": [],
   "source": [
    "# [4] Model training and selection\n",
    "input_shape = (20, 20, 1)\n",
    "num_labels = 5\n",
    "num_filters = 32\n",
    "units = 32\n",
    "drop_rate = 0.2\n",
    "\n",
    "model = Sequential()\n",
    "\n",
    "model.add(Conv2D(num_filters, (3,3), activation = 'relu', input_shape = input_shape))\n",
    "model.add(BatchNormalization()) # prevent overfitting\n",
    "model.add(MaxPooling2D((2,2))) # activation layer, dimensionality reduction\n",
    "\n",
    "# model.add(Conv2D(num_filters, (3,3), activation = 'relu'))\n",
    "# model.add(BatchNormalization())\n",
    "# model.add(MaxPooling2D((2,2)))\n",
    "\n",
    "model.add(Flatten())\n",
    "model.add(Dense(32, activation = 'relu'))\n",
    "\n",
    "model.add(Dropout(drop_rate))\n",
    "\n",
    "model.add(Dense(num_labels, activation = 'softmax'))"
   ]
  },
  {
   "cell_type": "code",
   "execution_count": 35,
   "metadata": {},
   "outputs": [],
   "source": [
    "from tensorflow.keras.optimizers import Adam\n",
    "\n",
    "learning_rate = 0.001  \n",
    "\n",
    "optimizer = Adam(learning_rate=learning_rate)\n",
    "\n",
    "model.compile(optimizer=optimizer, loss='sparse_categorical_crossentropy', metrics=['accuracy'])\n",
    "\n",
    "\n",
    "#model.compile('adam', loss='sparse_categorical_crossentropy', metrics=['accuracy'])"
   ]
  },
  {
   "cell_type": "code",
   "execution_count": 36,
   "metadata": {},
   "outputs": [
    {
     "name": "stdout",
     "output_type": "stream",
     "text": [
      "Model: \"sequential_3\"\n",
      "_________________________________________________________________\n",
      " Layer (type)                Output Shape              Param #   \n",
      "=================================================================\n",
      " conv2d_4 (Conv2D)           (None, 18, 18, 32)        320       \n",
      "                                                                 \n",
      " batch_normalization_4 (Bat  (None, 18, 18, 32)        128       \n",
      " chNormalization)                                                \n",
      "                                                                 \n",
      " max_pooling2d_4 (MaxPoolin  (None, 9, 9, 32)          0         \n",
      " g2D)                                                            \n",
      "                                                                 \n",
      " flatten_3 (Flatten)         (None, 2592)              0         \n",
      "                                                                 \n",
      " dense_6 (Dense)             (None, 32)                82976     \n",
      "                                                                 \n",
      " dropout_3 (Dropout)         (None, 32)                0         \n",
      "                                                                 \n",
      " dense_7 (Dense)             (None, 5)                 165       \n",
      "                                                                 \n",
      "=================================================================\n",
      "Total params: 83589 (326.52 KB)\n",
      "Trainable params: 83525 (326.27 KB)\n",
      "Non-trainable params: 64 (256.00 Byte)\n",
      "_________________________________________________________________\n"
     ]
    }
   ],
   "source": [
    "model.summary()"
   ]
  },
  {
   "cell_type": "code",
   "execution_count": 37,
   "metadata": {},
   "outputs": [
    {
     "name": "stdout",
     "output_type": "stream",
     "text": [
      "(840,)\n",
      "['chainsaw' 'chainsaw' 'fire' 'handsaw' 'helicopter' 'fire' 'helicopter'\n",
      " 'chainsaw' 'helicopter' 'birds' 'helicopter' 'fire' 'fire' 'chainsaw'\n",
      " 'birds' 'helicopter' 'chainsaw' 'birds' 'fire' 'helicopter' 'fire'\n",
      " 'handsaw' 'fire' 'fire' 'handsaw' 'birds' 'handsaw' 'birds' 'birds'\n",
      " 'fire' 'chainsaw' 'handsaw' 'handsaw' 'fire' 'birds' 'chainsaw'\n",
      " 'helicopter' 'fire' 'birds' 'handsaw' 'birds' 'chainsaw' 'fire'\n",
      " 'helicopter' 'handsaw' 'birds' 'fire' 'chainsaw' 'chainsaw' 'fire'\n",
      " 'chainsaw' 'handsaw' 'chainsaw' 'chainsaw' 'handsaw' 'handsaw' 'chainsaw'\n",
      " 'handsaw' 'handsaw' 'helicopter' 'chainsaw' 'birds' 'helicopter'\n",
      " 'helicopter' 'helicopter' 'birds' 'helicopter' 'chainsaw' 'birds' 'birds'\n",
      " 'helicopter' 'fire' 'helicopter' 'fire' 'helicopter' 'helicopter'\n",
      " 'chainsaw' 'fire' 'birds' 'handsaw' 'helicopter' 'fire' 'helicopter'\n",
      " 'handsaw' 'chainsaw' 'birds' 'chainsaw' 'birds' 'birds' 'helicopter'\n",
      " 'fire' 'handsaw' 'helicopter' 'fire' 'birds' 'handsaw' 'helicopter'\n",
      " 'birds' 'fire' 'helicopter' 'handsaw' 'handsaw' 'chainsaw' 'helicopter'\n",
      " 'handsaw' 'chainsaw' 'helicopter' 'chainsaw' 'birds' 'chainsaw' 'fire'\n",
      " 'birds' 'handsaw' 'helicopter' 'birds' 'helicopter' 'fire' 'handsaw'\n",
      " 'fire' 'helicopter' 'chainsaw' 'helicopter' 'fire' 'birds' 'birds'\n",
      " 'chainsaw' 'handsaw' 'handsaw' 'chainsaw' 'birds' 'fire' 'chainsaw'\n",
      " 'chainsaw' 'fire' 'helicopter' 'handsaw' 'birds' 'fire' 'birds'\n",
      " 'helicopter' 'fire' 'birds' 'chainsaw' 'fire' 'birds' 'helicopter'\n",
      " 'chainsaw' 'chainsaw' 'fire' 'handsaw' 'handsaw' 'helicopter' 'birds'\n",
      " 'helicopter' 'fire' 'handsaw' 'handsaw' 'handsaw' 'helicopter' 'handsaw'\n",
      " 'helicopter' 'fire' 'handsaw' 'handsaw' 'chainsaw' 'fire' 'chainsaw'\n",
      " 'handsaw' 'handsaw' 'birds' 'handsaw' 'birds' 'fire' 'handsaw'\n",
      " 'helicopter' 'birds' 'helicopter' 'helicopter' 'birds' 'chainsaw'\n",
      " 'handsaw' 'fire' 'birds' 'birds' 'helicopter' 'helicopter' 'helicopter'\n",
      " 'handsaw' 'birds' 'chainsaw' 'fire' 'chainsaw' 'chainsaw' 'chainsaw'\n",
      " 'handsaw' 'helicopter' 'fire' 'fire' 'birds' 'handsaw' 'fire' 'fire'\n",
      " 'helicopter' 'chainsaw' 'birds' 'chainsaw' 'fire' 'fire' 'chainsaw'\n",
      " 'helicopter' 'birds' 'handsaw' 'helicopter' 'handsaw' 'birds' 'fire'\n",
      " 'handsaw' 'birds' 'helicopter' 'chainsaw' 'chainsaw' 'handsaw' 'handsaw'\n",
      " 'helicopter' 'birds' 'handsaw' 'handsaw' 'birds' 'birds' 'fire' 'birds'\n",
      " 'handsaw' 'handsaw' 'birds' 'chainsaw' 'birds' 'fire' 'chainsaw'\n",
      " 'helicopter' 'helicopter' 'helicopter' 'helicopter' 'handsaw' 'chainsaw'\n",
      " 'birds' 'chainsaw' 'helicopter' 'birds' 'birds' 'fire' 'fire' 'fire'\n",
      " 'helicopter' 'fire' 'birds' 'helicopter' 'helicopter' 'chainsaw'\n",
      " 'chainsaw' 'chainsaw' 'fire' 'helicopter' 'fire' 'fire' 'chainsaw'\n",
      " 'handsaw' 'fire' 'chainsaw' 'fire' 'helicopter' 'handsaw' 'chainsaw'\n",
      " 'chainsaw' 'chainsaw' 'chainsaw' 'handsaw' 'chainsaw' 'birds' 'fire'\n",
      " 'chainsaw' 'helicopter' 'fire' 'birds' 'helicopter' 'fire' 'chainsaw'\n",
      " 'birds' 'birds' 'fire' 'fire' 'birds' 'helicopter' 'birds' 'handsaw'\n",
      " 'birds' 'helicopter' 'fire' 'birds' 'chainsaw' 'chainsaw' 'helicopter'\n",
      " 'helicopter' 'helicopter' 'fire' 'fire' 'helicopter' 'helicopter'\n",
      " 'handsaw' 'helicopter' 'birds' 'helicopter' 'birds' 'handsaw'\n",
      " 'helicopter' 'birds' 'handsaw' 'fire' 'handsaw' 'handsaw' 'fire' 'fire'\n",
      " 'birds' 'chainsaw' 'handsaw' 'fire' 'birds' 'helicopter' 'fire' 'handsaw'\n",
      " 'birds' 'fire' 'helicopter' 'birds' 'handsaw' 'helicopter' 'chainsaw'\n",
      " 'handsaw' 'chainsaw' 'chainsaw' 'chainsaw' 'birds' 'helicopter' 'birds'\n",
      " 'birds' 'handsaw' 'birds' 'handsaw' 'handsaw' 'chainsaw' 'birds'\n",
      " 'chainsaw' 'birds' 'helicopter' 'birds' 'chainsaw' 'chainsaw'\n",
      " 'helicopter' 'handsaw' 'birds' 'fire' 'chainsaw' 'handsaw' 'handsaw'\n",
      " 'handsaw' 'helicopter' 'helicopter' 'chainsaw' 'helicopter' 'helicopter'\n",
      " 'fire' 'chainsaw' 'handsaw' 'chainsaw' 'birds' 'handsaw' 'birds'\n",
      " 'chainsaw' 'fire' 'handsaw' 'chainsaw' 'birds' 'helicopter' 'handsaw'\n",
      " 'helicopter' 'chainsaw' 'handsaw' 'chainsaw' 'fire' 'chainsaw' 'handsaw'\n",
      " 'fire' 'fire' 'birds' 'handsaw' 'chainsaw' 'handsaw' 'handsaw' 'handsaw'\n",
      " 'fire' 'handsaw' 'handsaw' 'fire' 'chainsaw' 'chainsaw' 'chainsaw' 'fire'\n",
      " 'handsaw' 'handsaw' 'fire' 'handsaw' 'fire' 'chainsaw' 'handsaw'\n",
      " 'helicopter' 'fire' 'helicopter' 'fire' 'chainsaw' 'fire' 'handsaw'\n",
      " 'birds' 'birds' 'chainsaw' 'helicopter' 'handsaw' 'handsaw' 'birds'\n",
      " 'birds' 'fire' 'chainsaw' 'helicopter' 'fire' 'birds' 'chainsaw' 'fire'\n",
      " 'handsaw' 'birds' 'chainsaw' 'chainsaw' 'handsaw' 'handsaw' 'helicopter'\n",
      " 'chainsaw' 'chainsaw' 'birds' 'birds' 'fire' 'helicopter' 'chainsaw'\n",
      " 'handsaw' 'fire' 'birds' 'helicopter' 'fire' 'chainsaw' 'fire' 'birds'\n",
      " 'birds' 'helicopter' 'fire' 'birds' 'chainsaw' 'birds' 'chainsaw'\n",
      " 'chainsaw' 'chainsaw' 'helicopter' 'handsaw' 'helicopter' 'handsaw'\n",
      " 'handsaw' 'chainsaw' 'helicopter' 'helicopter' 'fire' 'handsaw'\n",
      " 'helicopter' 'birds' 'fire' 'helicopter' 'helicopter' 'fire' 'chainsaw'\n",
      " 'fire' 'chainsaw' 'birds' 'birds' 'birds' 'helicopter' 'birds' 'birds'\n",
      " 'handsaw' 'handsaw' 'handsaw' 'fire' 'helicopter' 'birds' 'chainsaw'\n",
      " 'handsaw' 'fire' 'handsaw' 'handsaw' 'handsaw' 'helicopter' 'birds'\n",
      " 'helicopter' 'fire' 'birds' 'handsaw' 'handsaw' 'handsaw' 'fire'\n",
      " 'handsaw' 'chainsaw' 'chainsaw' 'chainsaw' 'chainsaw' 'helicopter'\n",
      " 'birds' 'handsaw' 'fire' 'fire' 'chainsaw' 'chainsaw' 'fire' 'fire'\n",
      " 'handsaw' 'handsaw' 'birds' 'chainsaw' 'birds' 'fire' 'fire' 'helicopter'\n",
      " 'fire' 'chainsaw' 'helicopter' 'chainsaw' 'birds' 'helicopter' 'birds'\n",
      " 'chainsaw' 'chainsaw' 'birds' 'birds' 'helicopter' 'helicopter'\n",
      " 'helicopter' 'helicopter' 'helicopter' 'birds' 'birds' 'helicopter'\n",
      " 'birds' 'chainsaw' 'fire' 'fire' 'fire' 'birds' 'fire' 'fire'\n",
      " 'helicopter' 'chainsaw' 'chainsaw' 'helicopter' 'helicopter' 'handsaw'\n",
      " 'birds' 'handsaw' 'fire' 'helicopter' 'helicopter' 'chainsaw'\n",
      " 'helicopter' 'birds' 'birds' 'birds' 'fire' 'fire' 'handsaw' 'fire'\n",
      " 'chainsaw' 'fire' 'birds' 'fire' 'handsaw' 'fire' 'fire' 'fire' 'birds'\n",
      " 'chainsaw' 'birds' 'fire' 'fire' 'birds' 'birds' 'helicopter' 'fire'\n",
      " 'helicopter' 'handsaw' 'handsaw' 'helicopter' 'birds' 'helicopter'\n",
      " 'handsaw' 'helicopter' 'birds' 'handsaw' 'helicopter' 'fire' 'handsaw'\n",
      " 'handsaw' 'birds' 'fire' 'helicopter' 'handsaw' 'chainsaw' 'helicopter'\n",
      " 'handsaw' 'chainsaw' 'helicopter' 'birds' 'helicopter' 'helicopter'\n",
      " 'chainsaw' 'helicopter' 'chainsaw' 'handsaw' 'birds' 'fire' 'helicopter'\n",
      " 'birds' 'chainsaw' 'fire' 'fire' 'chainsaw' 'helicopter' 'helicopter'\n",
      " 'chainsaw' 'chainsaw' 'helicopter' 'handsaw' 'handsaw' 'handsaw'\n",
      " 'handsaw' 'birds' 'birds' 'handsaw' 'helicopter' 'handsaw' 'helicopter'\n",
      " 'fire' 'chainsaw' 'birds' 'fire' 'fire' 'handsaw' 'birds' 'helicopter'\n",
      " 'fire' 'fire' 'fire' 'chainsaw' 'chainsaw' 'helicopter' 'handsaw'\n",
      " 'handsaw' 'chainsaw' 'fire' 'fire' 'chainsaw' 'birds' 'helicopter' 'fire'\n",
      " 'chainsaw' 'fire' 'helicopter' 'birds' 'helicopter' 'helicopter'\n",
      " 'handsaw' 'fire' 'chainsaw' 'chainsaw' 'chainsaw' 'handsaw' 'chainsaw'\n",
      " 'chainsaw' 'handsaw' 'birds' 'fire' 'helicopter' 'chainsaw' 'handsaw'\n",
      " 'handsaw' 'fire' 'helicopter' 'birds' 'fire' 'handsaw' 'handsaw' 'birds'\n",
      " 'birds' 'fire' 'chainsaw' 'birds' 'birds' 'birds' 'birds' 'handsaw'\n",
      " 'birds' 'chainsaw' 'chainsaw' 'helicopter' 'helicopter' 'helicopter'\n",
      " 'handsaw' 'fire' 'handsaw' 'birds' 'chainsaw' 'fire' 'birds' 'chainsaw'\n",
      " 'handsaw' 'fire' 'chainsaw' 'chainsaw' 'fire' 'helicopter' 'helicopter'\n",
      " 'fire' 'fire' 'handsaw' 'helicopter' 'handsaw' 'fire' 'chainsaw' 'fire'\n",
      " 'birds' 'handsaw' 'chainsaw' 'handsaw' 'birds' 'birds' 'handsaw'\n",
      " 'chainsaw' 'handsaw' 'fire' 'helicopter' 'helicopter' 'fire' 'fire'\n",
      " 'chainsaw' 'handsaw' 'helicopter' 'helicopter' 'chainsaw' 'fire'\n",
      " 'handsaw' 'birds' 'birds' 'chainsaw' 'fire' 'birds' 'helicopter'\n",
      " 'helicopter' 'handsaw' 'birds' 'handsaw' 'fire' 'chainsaw' 'birds'\n",
      " 'birds' 'birds' 'helicopter' 'fire' 'birds' 'chainsaw' 'chainsaw'\n",
      " 'chainsaw' 'handsaw' 'fire' 'helicopter' 'chainsaw' 'fire' 'birds'\n",
      " 'birds' 'chainsaw' 'chainsaw' 'helicopter' 'fire' 'handsaw' 'handsaw'\n",
      " 'chainsaw' 'fire' 'handsaw' 'helicopter' 'chainsaw' 'handsaw' 'chainsaw'\n",
      " 'birds' 'helicopter' 'fire' 'birds' 'helicopter' 'handsaw' 'helicopter'\n",
      " 'handsaw' 'fire' 'birds' 'birds' 'birds' 'helicopter' 'handsaw' 'birds'\n",
      " 'chainsaw' 'helicopter' 'helicopter' 'handsaw' 'fire' 'fire' 'fire'\n",
      " 'handsaw' 'birds' 'helicopter' 'chainsaw' 'chainsaw' 'handsaw' 'handsaw'\n",
      " 'helicopter' 'chainsaw' 'birds' 'chainsaw' 'birds' 'chainsaw'\n",
      " 'helicopter' 'birds' 'fire' 'handsaw']\n",
      "(840,)\n",
      "(840, 20, 20, 1)\n"
     ]
    }
   ],
   "source": [
    "label_encoder = LabelEncoder()\n",
    "\n",
    "#y_train = y_train.reshape(-1,) \n",
    "print(y_train.shape)\n",
    "print(y_train)\n",
    "y_train_encoded = label_encoder.fit_transform(y_train) # Reshape labels to (n_samples,)\n",
    "y_val_encoded = label_encoder.fit_transform(y_val) # Reshape labels to (n_samples,)\n",
    "print(y_train_encoded.shape)\n",
    "print(X_train.shape)"
   ]
  },
  {
   "cell_type": "code",
   "execution_count": 38,
   "metadata": {},
   "outputs": [
    {
     "name": "stdout",
     "output_type": "stream",
     "text": [
      "Epoch 1/100\n",
      "53/53 [==============================] - 1s 6ms/step - loss: 0.9132 - accuracy: 0.6548 - val_loss: 1.4873 - val_accuracy: 0.6143\n",
      "Epoch 2/100\n",
      "53/53 [==============================] - 0s 5ms/step - loss: 0.6489 - accuracy: 0.7631 - val_loss: 1.4513 - val_accuracy: 0.5607\n",
      "Epoch 3/100\n",
      "53/53 [==============================] - 0s 4ms/step - loss: 0.5319 - accuracy: 0.8119 - val_loss: 1.4034 - val_accuracy: 0.4786\n",
      "Epoch 4/100\n",
      "53/53 [==============================] - 0s 4ms/step - loss: 0.4252 - accuracy: 0.8548 - val_loss: 1.2874 - val_accuracy: 0.7232\n",
      "Epoch 5/100\n",
      "53/53 [==============================] - 0s 4ms/step - loss: 0.3806 - accuracy: 0.8583 - val_loss: 1.2357 - val_accuracy: 0.5911\n",
      "Epoch 6/100\n",
      "53/53 [==============================] - 0s 4ms/step - loss: 0.3310 - accuracy: 0.8881 - val_loss: 1.0765 - val_accuracy: 0.7679\n",
      "Epoch 7/100\n",
      "53/53 [==============================] - 0s 5ms/step - loss: 0.2780 - accuracy: 0.9012 - val_loss: 0.9116 - val_accuracy: 0.8214\n",
      "Epoch 8/100\n",
      "53/53 [==============================] - 0s 4ms/step - loss: 0.2247 - accuracy: 0.9250 - val_loss: 0.8222 - val_accuracy: 0.7893\n",
      "Epoch 9/100\n",
      "53/53 [==============================] - 0s 4ms/step - loss: 0.2082 - accuracy: 0.9321 - val_loss: 0.7593 - val_accuracy: 0.7071\n",
      "Epoch 10/100\n",
      "53/53 [==============================] - 0s 4ms/step - loss: 0.1774 - accuracy: 0.9440 - val_loss: 0.5858 - val_accuracy: 0.8107\n",
      "Epoch 11/100\n",
      "53/53 [==============================] - 0s 4ms/step - loss: 0.1441 - accuracy: 0.9583 - val_loss: 0.6210 - val_accuracy: 0.7768\n",
      "Epoch 12/100\n",
      "53/53 [==============================] - 0s 4ms/step - loss: 0.1320 - accuracy: 0.9560 - val_loss: 0.5670 - val_accuracy: 0.8071\n",
      "Epoch 13/100\n",
      "53/53 [==============================] - 0s 4ms/step - loss: 0.0942 - accuracy: 0.9714 - val_loss: 0.5690 - val_accuracy: 0.8143\n",
      "Epoch 14/100\n",
      "53/53 [==============================] - 0s 4ms/step - loss: 0.0896 - accuracy: 0.9726 - val_loss: 0.5869 - val_accuracy: 0.8500\n",
      "Epoch 15/100\n",
      "53/53 [==============================] - 0s 5ms/step - loss: 0.1273 - accuracy: 0.9536 - val_loss: 0.9582 - val_accuracy: 0.6857\n",
      "Epoch 16/100\n",
      "53/53 [==============================] - 0s 5ms/step - loss: 0.0907 - accuracy: 0.9714 - val_loss: 0.7735 - val_accuracy: 0.7732\n",
      "Epoch 17/100\n",
      "53/53 [==============================] - 0s 4ms/step - loss: 0.0893 - accuracy: 0.9750 - val_loss: 0.6590 - val_accuracy: 0.8357\n"
     ]
    }
   ],
   "source": [
    "epochs = 100\n",
    "\n",
    "early_stopping = EarlyStopping(monitor='val_loss', patience=5, restore_best_weights=True)\n",
    "\n",
    "history = model.fit(X_train, y_train_encoded, epochs=epochs, batch_size = 16 , validation_data=(X_val, y_val_encoded),  callbacks=[early_stopping])"
   ]
  },
  {
   "cell_type": "code",
   "execution_count": 39,
   "metadata": {},
   "outputs": [
    {
     "name": "stdout",
     "output_type": "stream",
     "text": [
      "{'loss': [0.9131565690040588, 0.6488876342773438, 0.5319341421127319, 0.4251973330974579, 0.38060057163238525, 0.33095863461494446, 0.27801457047462463, 0.22470854222774506, 0.20820966362953186, 0.17741885781288147, 0.144083634018898, 0.13199909031391144, 0.09417649358510971, 0.08955809473991394, 0.12733489274978638, 0.09070079773664474, 0.08933474123477936], 'accuracy': [0.6547619104385376, 0.7630952596664429, 0.811904788017273, 0.8547618985176086, 0.8583333492279053, 0.8880952596664429, 0.901190459728241, 0.925000011920929, 0.9321428537368774, 0.9440476298332214, 0.9583333134651184, 0.9559524059295654, 0.9714285731315613, 0.9726190567016602, 0.9535714387893677, 0.9714285731315613, 0.9750000238418579], 'val_loss': [1.487330675125122, 1.4512912034988403, 1.4034135341644287, 1.2873923778533936, 1.2356613874435425, 1.0764721632003784, 0.9116230607032776, 0.8221641778945923, 0.7593357563018799, 0.5857687592506409, 0.6209700107574463, 0.5669976472854614, 0.569014847278595, 0.5868557691574097, 0.9582234025001526, 0.7734977006912231, 0.6590455770492554], 'val_accuracy': [0.6142857074737549, 0.5607143044471741, 0.47857141494750977, 0.7232142686843872, 0.5910714268684387, 0.7678571343421936, 0.8214285969734192, 0.7892857193946838, 0.7071428298950195, 0.8107143044471741, 0.7767857313156128, 0.8071428537368774, 0.8142856955528259, 0.8500000238418579, 0.6857143044471741, 0.7732142806053162, 0.8357142806053162]}\n"
     ]
    },
    {
     "data": {
      "text/plain": [
       "Text(0, 0.5, 'Accuracy [%]')"
      ]
     },
     "execution_count": 39,
     "metadata": {},
     "output_type": "execute_result"
    },
    {
     "data": {
      "image/png": "[encoded data removed]",
      "text/plain": [
       "<Figure size 1600x600 with 2 Axes>"
      ]
     },
     "metadata": {},
     "output_type": "display_data"
    }
   ],
   "source": [
    "metrics = history.history\n",
    "print(metrics)\n",
    "plt.figure(figsize=(16,6))\n",
    "plt.subplot(1,2,1)\n",
    "plt.plot(history.epoch, metrics['loss'], metrics['val_loss'])\n",
    "plt.legend(['loss', 'val_loss'])\n",
    "plt.ylim([0, max(plt.ylim())])\n",
    "plt.xlabel('Epoch')\n",
    "plt.ylabel('Loss [CrossEntropy]')\n",
    "\n",
    "plt.subplot(1,2,2)\n",
    "plt.plot(history.epoch, 100*np.array(metrics['accuracy']), 100*np.array(metrics['val_accuracy']))\n",
    "plt.legend(['accuracy', 'val_accuracy'])\n",
    "plt.ylim([0, 100])\n",
    "plt.xlabel('Epoch')\n",
    "plt.ylabel('Accuracy [%]')\n",
    "\n",
    "#plt.savefig('Loss-Acc-epochs=40-batch_size=16-FV=1000.pdf')"
   ]
  },
  {
   "cell_type": "code",
   "execution_count": 40,
   "metadata": {},
   "outputs": [
    {
     "name": "stdout",
     "output_type": "stream",
     "text": [
      "19/19 [==============================] - 0s 2ms/step - loss: 0.4586 - accuracy: 0.8517\n"
     ]
    },
    {
     "data": {
      "text/plain": [
       "[0.4585556983947754, 0.8516666889190674]"
      ]
     },
     "execution_count": 40,
     "metadata": {},
     "output_type": "execute_result"
    }
   ],
   "source": [
    "y_test_encoded = label_encoder.fit_transform(y_test)\n",
    "\n",
    "model.evaluate(X_test, y_test_encoded)"
   ]
  },
  {
   "cell_type": "code",
   "execution_count": 41,
   "metadata": {},
   "outputs": [],
   "source": [
    "# [5] Save the trained model, eventually the pca.\n",
    "filename = 'CNN.pickle'\n",
    "file_label_encoder = 'label_encoder.pickle'\n",
    "\n",
    "pickle.dump(model, open(model_dir+filename, 'wb'))\n",
    "pickle.dump(model, open(model_dir+file_label_encoder, 'wb'))"
   ]
  },
  {
   "cell_type": "code",
   "execution_count": 42,
   "metadata": {},
   "outputs": [],
   "source": [
    "import matplotlib.pyplot as plt\n",
    "import numpy as np\n",
    "\n",
    "\"For confusion matrix plot\"\n",
    "from seaborn import heatmap\n",
    "from sklearn.metrics import confusion_matrix\n",
    "\n",
    "# -----------------------------------------------------------------------------\n",
    "\"\"\"\n",
    "Synthesis of the functions in :\n",
    "\n",
    "- show_confusion_matrix : plot confusion matrix.\n",
    "- plot_audio : Plot an audiosignal in time and frequency\n",
    "- plot_specgram : Plot a spectrogram (2D matrix)\n",
    "- plot_decision_boundary : Plot decision boundary of a classifier.\n",
    "\"\"\"\n",
    "# -----------------------------------------------------------------------------\n",
    "\n",
    "\n",
    "def show_confusion_matrix(y_predict, y_true, classnames, title=\"\", saveFig = False, saveAs=''):\n",
    "    \"\"\"\n",
    "    From target labels and prediction arrays, sort them appropriately and plot confusion matrix.\n",
    "    The arrays can contain either ints or str quantities, as long as classnames contains all the elements present in them.\n",
    "    \"\"\"\n",
    "    # # Reorder the prediction array\n",
    "    # labels = np.zeros_like(y_predict)\n",
    "    # for i in np.arange(len(classnames)):\n",
    "    #     mask = [None]*len(y_predict)\n",
    "    #     for j in np.arange(len(mask)):\n",
    "    #         mask[j] = (y_predict[j] == classnames[i])\n",
    "    #     labels[mask] = mode(y_true2[mask])[0]\n",
    "    \n",
    "\n",
    "    plt.figure(figsize=(5, 5))\n",
    "    confmat = confusion_matrix(y_true, y_predict)\n",
    "    heatmap(\n",
    "        confmat.T,\n",
    "        square=True,\n",
    "        annot=True,\n",
    "        fmt=\"d\",\n",
    "        cbar=False,\n",
    "        xticklabels=classnames,\n",
    "        yticklabels=classnames,\n",
    "        ax=plt.gca(),\n",
    "    )\n",
    "    plt.xlabel(\"True label\")\n",
    "    plt.ylabel(\"Predicted label\")\n",
    "    plt.title(title)\n",
    "\n",
    "    if(saveFig):\n",
    "        plt.savefig(saveAs)\n",
    "    \n",
    "    plt.show()\n",
    "    return None"
   ]
  },
  {
   "cell_type": "code",
   "execution_count": 43,
   "metadata": {},
   "outputs": [
    {
     "name": "stdout",
     "output_type": "stream",
     "text": [
      "19/19 [==============================] - 0s 2ms/step\n",
      "[4 0 1 4 2 3 1 4 0 2 2 1 0 0 3 2 1 2 1 0 3 3 2 1 1 0 2 0 4 3 1 1 2 4 2 1 3\n",
      " 1 1 1 3 2 2 0 3 0 3 4 0 4 3 3 1 4 3 2 4 4 1 4 0 3 4 2 1 2 2 4 3 3 4 0 2 1\n",
      " 3 2 2 1 0 3 0 2 2 4 1 2 4 4 2 4 2 4 0 1 4 0 1 2 3 3 2 2 1 0 3 3 2 2 1 0 1\n",
      " 4 1 0 4 1 4 0 1 1 2 4 1 2 3 4 0 0 2 2 1 1 3 4 0 1 4 0 2 1 4 1 0 1 2 1 1 1\n",
      " 3 0 1 1 1 3 2 3 0 2 1 1 1 1 4 3 1 2 1 2 0 1 3 4 2 0 0 2 2 4 4 0 2 4 0 1 1\n",
      " 1 4 3 3 4 2 2 2 1 1 3 4 4 0 0 1 3 4 3 1 1 1 1 0 1 1 2 3 1 2 1 3 4 1 3 3 1\n",
      " 1 4 1 4 2 0 1 4 1 0 3 4 4 1 4 3 0 4 0 0 2 0 4 4 0 0 3 4 1 4 3 1 2 1 1 0 2\n",
      " 0 0 2 4 0 1 0 4 0 4 4 1 3 2 1 2 0 2 0 4 4 0 2 4 2 2 3 0 1 1 1 2 3 3 4 4 2\n",
      " 0 0 3 2 0 3 2 0 0 0 4 1 3 3 0 0 2 3 1 4 3 1 4 4 4 2 0 1 2 1 4 3 3 4 0 1 0\n",
      " 0 0 1 1 0 0 1 1 2 2 4 0 3 4 3 2 0 3 1 1 1 4 2 2 1 2 1 4 0 1 3 0 4 0 2 2 0\n",
      " 1 1 4 4 4 2 2 0 3 4 0 3 2 2 4 2 0 0 3 2 4 1 4 4 0 1 0 2 3 3 1 0 0 0 3 1 4\n",
      " 4 1 1 0 1 2 1 1 0 2 2 3 2 0 4 2 1 1 1 3 0 4 3 2 0 3 3 1 4 3 1 4 3 4 3 0 1\n",
      " 3 4 0 2 3 1 2 1 0 1 0 1 0 2 4 1 3 2 2 2 1 2 4 3 4 2 4 2 1 2 4 1 4 0 0 2 2\n",
      " 2 1 0 0 0 4 4 1 2 2 1 0 2 1 2 3 0 4 2 3 3 3 4 0 1 1 0 4 2 2 2 3 4 4 3 1 4\n",
      " 4 4 0 4 0 0 0 2 4 0 4 2 3 2 3 3 2 0 3 4 4 2 3 3 1 3 3 0 1 2 1 0 4 0 4 2 4\n",
      " 3 3 1 0 0 2 1 1 1 0 1 3 4 2 3 0 4 1 2 0 1 1 1 2 3 1 1 1 1 4 1 3 1 2 3 3 1\n",
      " 2 1 2 1 2 1 2 0]\n",
      "['helicopter' 'birds' 'chainsaw' 'helicopter' 'fire' 'handsaw' 'chainsaw'\n",
      " 'helicopter' 'birds' 'fire' 'fire' 'chainsaw' 'birds' 'birds' 'handsaw'\n",
      " 'fire' 'chainsaw' 'fire' 'chainsaw' 'birds' 'handsaw' 'handsaw' 'fire'\n",
      " 'chainsaw' 'chainsaw' 'birds' 'fire' 'birds' 'helicopter' 'handsaw'\n",
      " 'chainsaw' 'chainsaw' 'fire' 'helicopter' 'fire' 'chainsaw' 'handsaw'\n",
      " 'chainsaw' 'chainsaw' 'chainsaw' 'handsaw' 'fire' 'fire' 'birds'\n",
      " 'handsaw' 'birds' 'handsaw' 'helicopter' 'birds' 'helicopter' 'handsaw'\n",
      " 'handsaw' 'chainsaw' 'helicopter' 'handsaw' 'fire' 'helicopter'\n",
      " 'helicopter' 'chainsaw' 'helicopter' 'birds' 'handsaw' 'helicopter'\n",
      " 'fire' 'chainsaw' 'fire' 'fire' 'helicopter' 'handsaw' 'handsaw'\n",
      " 'helicopter' 'birds' 'fire' 'chainsaw' 'handsaw' 'fire' 'fire' 'chainsaw'\n",
      " 'birds' 'handsaw' 'birds' 'fire' 'fire' 'helicopter' 'chainsaw' 'fire'\n",
      " 'helicopter' 'helicopter' 'fire' 'helicopter' 'fire' 'helicopter' 'birds'\n",
      " 'chainsaw' 'helicopter' 'birds' 'chainsaw' 'fire' 'handsaw' 'handsaw'\n",
      " 'fire' 'fire' 'chainsaw' 'birds' 'handsaw' 'handsaw' 'fire' 'fire'\n",
      " 'chainsaw' 'birds' 'chainsaw' 'helicopter' 'chainsaw' 'birds'\n",
      " 'helicopter' 'chainsaw' 'helicopter' 'birds' 'chainsaw' 'chainsaw' 'fire'\n",
      " 'helicopter' 'chainsaw' 'fire' 'handsaw' 'helicopter' 'birds' 'birds'\n",
      " 'fire' 'fire' 'chainsaw' 'chainsaw' 'handsaw' 'helicopter' 'birds'\n",
      " 'chainsaw' 'helicopter' 'birds' 'fire' 'chainsaw' 'helicopter' 'chainsaw'\n",
      " 'birds' 'chainsaw' 'fire' 'chainsaw' 'chainsaw' 'chainsaw' 'handsaw'\n",
      " 'birds' 'chainsaw' 'chainsaw' 'chainsaw' 'handsaw' 'fire' 'handsaw'\n",
      " 'birds' 'fire' 'chainsaw' 'chainsaw' 'chainsaw' 'chainsaw' 'helicopter'\n",
      " 'handsaw' 'chainsaw' 'fire' 'chainsaw' 'fire' 'birds' 'chainsaw'\n",
      " 'handsaw' 'helicopter' 'fire' 'birds' 'birds' 'fire' 'fire' 'helicopter'\n",
      " 'helicopter' 'birds' 'fire' 'helicopter' 'birds' 'chainsaw' 'chainsaw'\n",
      " 'chainsaw' 'helicopter' 'handsaw' 'handsaw' 'helicopter' 'fire' 'fire'\n",
      " 'fire' 'chainsaw' 'chainsaw' 'handsaw' 'helicopter' 'helicopter' 'birds'\n",
      " 'birds' 'chainsaw' 'handsaw' 'helicopter' 'handsaw' 'chainsaw' 'chainsaw'\n",
      " 'chainsaw' 'chainsaw' 'birds' 'chainsaw' 'chainsaw' 'fire' 'handsaw'\n",
      " 'chainsaw' 'fire' 'chainsaw' 'handsaw' 'helicopter' 'chainsaw' 'handsaw'\n",
      " 'handsaw' 'chainsaw' 'chainsaw' 'helicopter' 'chainsaw' 'helicopter'\n",
      " 'fire' 'birds' 'chainsaw' 'helicopter' 'chainsaw' 'birds' 'handsaw'\n",
      " 'helicopter' 'helicopter' 'chainsaw' 'helicopter' 'handsaw' 'birds'\n",
      " 'helicopter' 'birds' 'birds' 'fire' 'birds' 'helicopter' 'helicopter'\n",
      " 'birds' 'birds' 'handsaw' 'helicopter' 'chainsaw' 'helicopter' 'handsaw'\n",
      " 'chainsaw' 'fire' 'chainsaw' 'chainsaw' 'birds' 'fire' 'birds' 'birds'\n",
      " 'fire' 'helicopter' 'birds' 'chainsaw' 'birds' 'helicopter' 'birds'\n",
      " 'helicopter' 'helicopter' 'chainsaw' 'handsaw' 'fire' 'chainsaw' 'fire'\n",
      " 'birds' 'fire' 'birds' 'helicopter' 'helicopter' 'birds' 'fire'\n",
      " 'helicopter' 'fire' 'fire' 'handsaw' 'birds' 'chainsaw' 'chainsaw'\n",
      " 'chainsaw' 'fire' 'handsaw' 'handsaw' 'helicopter' 'helicopter' 'fire'\n",
      " 'birds' 'birds' 'handsaw' 'fire' 'birds' 'handsaw' 'fire' 'birds' 'birds'\n",
      " 'birds' 'helicopter' 'chainsaw' 'handsaw' 'handsaw' 'birds' 'birds'\n",
      " 'fire' 'handsaw' 'chainsaw' 'helicopter' 'handsaw' 'chainsaw'\n",
      " 'helicopter' 'helicopter' 'helicopter' 'fire' 'birds' 'chainsaw' 'fire'\n",
      " 'chainsaw' 'helicopter' 'handsaw' 'handsaw' 'helicopter' 'birds'\n",
      " 'chainsaw' 'birds' 'birds' 'birds' 'chainsaw' 'chainsaw' 'birds' 'birds'\n",
      " 'chainsaw' 'chainsaw' 'fire' 'fire' 'helicopter' 'birds' 'handsaw'\n",
      " 'helicopter' 'handsaw' 'fire' 'birds' 'handsaw' 'chainsaw' 'chainsaw'\n",
      " 'chainsaw' 'helicopter' 'fire' 'fire' 'chainsaw' 'fire' 'chainsaw'\n",
      " 'helicopter' 'birds' 'chainsaw' 'handsaw' 'birds' 'helicopter' 'birds'\n",
      " 'fire' 'fire' 'birds' 'chainsaw' 'chainsaw' 'helicopter' 'helicopter'\n",
      " 'helicopter' 'fire' 'fire' 'birds' 'handsaw' 'helicopter' 'birds'\n",
      " 'handsaw' 'fire' 'fire' 'helicopter' 'fire' 'birds' 'birds' 'handsaw'\n",
      " 'fire' 'helicopter' 'chainsaw' 'helicopter' 'helicopter' 'birds'\n",
      " 'chainsaw' 'birds' 'fire' 'handsaw' 'handsaw' 'chainsaw' 'birds' 'birds'\n",
      " 'birds' 'handsaw' 'chainsaw' 'helicopter' 'helicopter' 'chainsaw'\n",
      " 'chainsaw' 'birds' 'chainsaw' 'fire' 'chainsaw' 'chainsaw' 'birds' 'fire'\n",
      " 'fire' 'handsaw' 'fire' 'birds' 'helicopter' 'fire' 'chainsaw' 'chainsaw'\n",
      " 'chainsaw' 'handsaw' 'birds' 'helicopter' 'handsaw' 'fire' 'birds'\n",
      " 'handsaw' 'handsaw' 'chainsaw' 'helicopter' 'handsaw' 'chainsaw'\n",
      " 'helicopter' 'handsaw' 'helicopter' 'handsaw' 'birds' 'chainsaw'\n",
      " 'handsaw' 'helicopter' 'birds' 'fire' 'handsaw' 'chainsaw' 'fire'\n",
      " 'chainsaw' 'birds' 'chainsaw' 'birds' 'chainsaw' 'birds' 'fire'\n",
      " 'helicopter' 'chainsaw' 'handsaw' 'fire' 'fire' 'fire' 'chainsaw' 'fire'\n",
      " 'helicopter' 'handsaw' 'helicopter' 'fire' 'helicopter' 'fire' 'chainsaw'\n",
      " 'fire' 'helicopter' 'chainsaw' 'helicopter' 'birds' 'birds' 'fire' 'fire'\n",
      " 'fire' 'chainsaw' 'birds' 'birds' 'birds' 'helicopter' 'helicopter'\n",
      " 'chainsaw' 'fire' 'fire' 'chainsaw' 'birds' 'fire' 'chainsaw' 'fire'\n",
      " 'handsaw' 'birds' 'helicopter' 'fire' 'handsaw' 'handsaw' 'handsaw'\n",
      " 'helicopter' 'birds' 'chainsaw' 'chainsaw' 'birds' 'helicopter' 'fire'\n",
      " 'fire' 'fire' 'handsaw' 'helicopter' 'helicopter' 'handsaw' 'chainsaw'\n",
      " 'helicopter' 'helicopter' 'helicopter' 'birds' 'helicopter' 'birds'\n",
      " 'birds' 'birds' 'fire' 'helicopter' 'birds' 'helicopter' 'fire' 'handsaw'\n",
      " 'fire' 'handsaw' 'handsaw' 'fire' 'birds' 'handsaw' 'helicopter'\n",
      " 'helicopter' 'fire' 'handsaw' 'handsaw' 'chainsaw' 'handsaw' 'handsaw'\n",
      " 'birds' 'chainsaw' 'fire' 'chainsaw' 'birds' 'helicopter' 'birds'\n",
      " 'helicopter' 'fire' 'helicopter' 'handsaw' 'handsaw' 'chainsaw' 'birds'\n",
      " 'birds' 'fire' 'chainsaw' 'chainsaw' 'chainsaw' 'birds' 'chainsaw'\n",
      " 'handsaw' 'helicopter' 'fire' 'handsaw' 'birds' 'helicopter' 'chainsaw'\n",
      " 'fire' 'birds' 'chainsaw' 'chainsaw' 'chainsaw' 'fire' 'handsaw'\n",
      " 'chainsaw' 'chainsaw' 'chainsaw' 'chainsaw' 'helicopter' 'chainsaw'\n",
      " 'handsaw' 'chainsaw' 'fire' 'handsaw' 'handsaw' 'chainsaw' 'fire'\n",
      " 'chainsaw' 'fire' 'chainsaw' 'fire' 'chainsaw' 'fire' 'birds']\n",
      "Accuracy of CNN with fixed train/validation sets : 85.2%\n"
     ]
    },
    {
     "data": {
      "image/png": "[encoded data removed]",
      "text/plain": [
       "<Figure size 500x500 with 1 Axes>"
      ]
     },
     "metadata": {},
     "output_type": "display_data"
    }
   ],
   "source": [
    "# [6] Evaluate the model.\n",
    "prediction_CNN = model.predict(X_test) # all the proba for each class\n",
    "\n",
    "predicted_classes = np.argmax(prediction_CNN, axis=1) # the most probable class\n",
    "print(predicted_classes)\n",
    "predicted_classes = label_encoder.inverse_transform(predicted_classes)\n",
    "print(predicted_classes)\n",
    "\n",
    "accuracy_CNN = accuracy(predicted_classes, y_test)\n",
    "\n",
    "print('Accuracy of CNN with fixed train/validation sets : {:.1f}%'.format(100*accuracy_CNN))\n",
    "show_confusion_matrix (predicted_classes, y_test, classnames, saveFig = False, saveAs='CM-epochs=40-batch_size=16-FV=1000.pdf')"
   ]
  },
  {
   "cell_type": "code",
   "execution_count": null,
   "metadata": {},
   "outputs": [],
   "source": []
  }
 ],
 "metadata": {
  "kernelspec": {
   "display_name": "Python 3 (ipykernel)",
   "language": "python",
   "name": "python3"
  },
  "language_info": {
   "codemirror_mode": {
    "name": "ipython",
    "version": 3
   },
   "file_extension": ".py",
   "mimetype": "text/x-python",
   "name": "python",
   "nbconvert_exporter": "python",
   "pygments_lexer": "ipython3",
   "version": "3.8.10"
  }
 },
 "nbformat": 4,
 "nbformat_minor": 4
}
