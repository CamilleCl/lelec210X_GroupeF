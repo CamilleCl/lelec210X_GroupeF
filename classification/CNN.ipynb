{
 "cells": [
  {
   "cell_type": "markdown",
   "metadata": {},
   "source": [
    "For this code, need to use python 3 kernel and not LELEC210X kernel!"
   ]
  },
  {
   "cell_type": "markdown",
   "metadata": {},
   "source": [
    "https://www.tensorflow.org/tutorials/audio/simple_audio\n",
    "https://github.com/nicknochnack/ImageClassification/blob/main/Getting%20Started.ipynb\n",
    "https://nmbu.brage.unit.no/nmbu-xmlui/bitstream/handle/11250/2611624/report-print1.pdf?sequence=3&isAllowed=y\n"
   ]
  },
  {
   "cell_type": "code",
   "execution_count": 1,
   "metadata": {},
   "outputs": [],
   "source": [
    "import os\n",
    "import numpy as np\n",
    "import matplotlib.pyplot as plt\n",
    "\n",
    "\"Machine learning tools\"\n",
    "from sklearn.neighbors import KNeighborsClassifier\n",
    "from sklearn.model_selection import train_test_split, StratifiedKFold\n",
    "from sklearn.neural_network import MLPClassifier\n",
    "from sklearn.preprocessing import StandardScaler\n",
    "from sklearn.ensemble import RandomForestClassifier as RFC\n",
    "from sklearn.decomposition import PCA\n",
    "import pickle\n",
    "from pathlib import Path\n",
    "from typing import List, Tuple\n",
    "import glob\n",
    "\n",
    "from classification.datasets import Dataset\n",
    "\n",
    "from classification.utils.plots import plot_specgram, show_confusion_matrix, plot_decision_boundaries\n",
    "from classification.utils.utils import accuracy\n",
    "from classification.utils.audio_student import AudioUtil, Feature_vector_DS"
   ]
  },
  {
   "cell_type": "code",
   "execution_count": 2,
   "metadata": {
    "scrolled": true
   },
   "outputs": [
    {
     "name": "stderr",
     "output_type": "stream",
     "text": [
      "2024-04-28 19:05:56.470579: I tensorflow/tsl/cuda/cudart_stub.cc:28] Could not find cuda drivers on your machine, GPU will not be used.\n",
      "2024-04-28 19:05:56.512879: I tensorflow/tsl/cuda/cudart_stub.cc:28] Could not find cuda drivers on your machine, GPU will not be used.\n",
      "2024-04-28 19:05:56.513539: I tensorflow/core/platform/cpu_feature_guard.cc:182] This TensorFlow binary is optimized to use available CPU instructions in performance-critical operations.\n",
      "To enable the following instructions: AVX2 FMA, in other operations, rebuild TensorFlow with the appropriate compiler flags.\n",
      "2024-04-28 19:05:57.309284: W tensorflow/compiler/tf2tensorrt/utils/py_utils.cc:38] TF-TRT Warning: Could not find TensorRT\n"
     ]
    }
   ],
   "source": [
    "import tensorflow as tf\n",
    "from tensorflow.keras.models import Sequential\n",
    "from tensorflow.keras.layers import Conv2D, MaxPooling2D, Dense, Flatten, Dropout, BatchNormalization\n",
    "from sklearn.preprocessing import LabelEncoder\n",
    "from tensorflow.keras.callbacks import EarlyStopping"
   ]
  },
  {
   "cell_type": "code",
   "execution_count": 3,
   "metadata": {},
   "outputs": [],
   "source": [
    "#!pip install --upgrade pip # update pip if needed"
   ]
  },
  {
   "cell_type": "code",
   "execution_count": 4,
   "metadata": {},
   "outputs": [],
   "source": [
    "#!pip install tensorflow tensorflow-gpu opencv-python matplotlib"
   ]
  },
  {
   "cell_type": "code",
   "execution_count": 5,
   "metadata": {},
   "outputs": [],
   "source": [
    "#!pip list"
   ]
  },
  {
   "cell_type": "code",
   "execution_count": 6,
   "metadata": {},
   "outputs": [],
   "source": [
    "model_dir = \"../goldenProject/python/model/\"\n",
    "fv_dir = \"../goldenProject/python/datasetGloeAndPyth/\"\n",
    "fm_dir = \"data/fm_1000/\""
   ]
  },
  {
   "cell_type": "markdown",
   "metadata": {},
   "source": [
    "<font size=5 color=#009999> 1. Our dataset </font> <br>"
   ]
  },
  {
   "cell_type": "markdown",
   "metadata": {},
   "source": [
    "<font size=4 color=#009999> 1.1 Build matrix of fv </font> <br>"
   ]
  },
  {
   "cell_type": "code",
   "execution_count": 7,
   "metadata": {},
   "outputs": [
    {
     "name": "stdout",
     "output_type": "stream",
     "text": [
      "5\n",
      "850\n",
      "4250\n"
     ]
    }
   ],
   "source": [
    "def get_cls_from_path(file):\n",
    "    return file.stem.split(\"_\", maxsplit=1)[0]\n",
    "\n",
    "\n",
    "format = \"pickle\"\n",
    "classnames = ['birds','chainsaw','fire','handsaw','helicopter']\n",
    "\n",
    "#fv = pickle.load(open(fv_dir + filename, 'rb'))\n",
    "#print(fv)\n",
    "#print(fv.shape)\n",
    "\n",
    "dic_fv = {}\n",
    "for file in sorted((Path(fv_dir)).glob(\"**/*.\" + format)):\n",
    "    #print(str(file))\n",
    "    fv = pickle.load(open(file, 'rb'))\n",
    "    fv = np.squeeze(fv)\n",
    "    cls = get_cls_from_path(file)\n",
    "    #print(cls)\n",
    "    dic_fv.setdefault(cls, []).append(fv)\n",
    "#print(dic_fv)\n",
    "\n",
    "nclass = len(dic_fv)\n",
    "naudio = len(dic_fv[list(dic_fv.keys())[0]])\n",
    "size = nclass * naudio\n",
    "\n",
    "print(nclass)\n",
    "print(naudio)\n",
    "print(size)\n",
    "\n",
    "# plt.figure()\n",
    "# plot_specgram(fv.reshape((20, 20)).T, ax=plt.gca(), is_mel=True, title=\"MEL Spectrogram\", xlabel=\"Mel vector\")\n",
    "# plt.show()\n"
   ]
  },
  {
   "cell_type": "code",
   "execution_count": 8,
   "metadata": {},
   "outputs": [
    {
     "name": "stdout",
     "output_type": "stream",
     "text": [
      "400\n",
      "(4250, 400)\n"
     ]
    }
   ],
   "source": [
    "### Features vectors build matrix ###\n",
    "\n",
    "train_pct = 0.7\n",
    "print(len(dic_fv[\"birds\"][0]))\n",
    "featveclen = len(dic_fv[\"birds\"][0]) # number of items in a feature vector\n",
    "#nitems = size\n",
    "nlearn = round(naudio * train_pct) # number of sounds among naudio for training\n",
    "\n",
    "data_aug_factor = 1\n",
    "class_ids_aug = np.repeat(classnames, naudio*data_aug_factor) #matrice avec les noms des classes x le nombre de sons (40 de base)\n",
    "\n",
    "X = np.zeros((data_aug_factor*size, featveclen)) #nombre de sons total x taille du feature vector\n",
    "for s in range(data_aug_factor):\n",
    "    for class_idx, classname in enumerate(classnames):\n",
    "        for idx in range(naudio):\n",
    "            featvec = dic_fv[classname][idx] #melspec\n",
    "            #print(f'classename = {classname} and idx = {idx}')\n",
    "            #print(f'index = {s*nclass*naudio+class_idx*naudio+idx}')\n",
    "            X[s*nclass*naudio+class_idx*naudio+idx,:] = featvec       \n",
    "#np.save(fm_dir+\"feature_matrix.npy\", X)\n",
    "print(X.shape)"
   ]
  },
  {
   "cell_type": "code",
   "execution_count": 9,
   "metadata": {
    "scrolled": true
   },
   "outputs": [
    {
     "name": "stdout",
     "output_type": "stream",
     "text": [
      "['birds' 'birds' 'birds' ... 'helicopter' 'helicopter' 'helicopter']\n",
      "Shape of the feature matrix : (4250, 400)\n",
      "Number of labels : 4250\n",
      "\n"
     ]
    }
   ],
   "source": [
    "#X = np.load(fm_dir+\"feature_matrix.npy\")\n",
    "\n",
    "# \"Labels\"\n",
    "y = class_ids_aug.copy() #noms des sons\n",
    "print(y)\n",
    "\n",
    "print('Shape of the feature matrix : {}'.format(X.shape))\n",
    "print('Number of labels : {}'.format(len(y)))\n",
    "\n",
    "print()"
   ]
  },
  {
   "cell_type": "markdown",
   "metadata": {},
   "source": [
    "<font size=4 color=#009999> 1.3 Build data and split it </font> <br>"
   ]
  },
  {
   "cell_type": "code",
   "execution_count": 10,
   "metadata": {},
   "outputs": [
    {
     "name": "stdout",
     "output_type": "stream",
     "text": [
      "Shape of X_train:  (1785, 400)\n",
      "Shape of Y_train:  (1785,)\n",
      "Shape of X_val:  (1190, 400)\n",
      "Shape of Y_val:  (1190,)\n",
      "Shape of X_test:  (1275, 400)\n",
      "Shape of Y_test:  (1275,)\n"
     ]
    }
   ],
   "source": [
    "X_train, X_test, y_train, y_test = train_test_split(X, y, test_size=0.3, stratify=y, random_state=1)\n",
    "X_train, X_val, y_train, y_val = train_test_split(X_train, y_train, test_size=0.4, stratify=y_train, random_state=1)\n",
    "\n",
    "print(\"Shape of X_train: \", X_train.shape)\n",
    "print(\"Shape of Y_train: \", y_train.shape)\n",
    "print(\"Shape of X_val: \", X_val.shape)\n",
    "print(\"Shape of Y_val: \", y_val.shape)\n",
    "print(\"Shape of X_test: \", X_test.shape)\n",
    "print(\"Shape of Y_test: \", y_test.shape)"
   ]
  },
  {
   "cell_type": "code",
   "execution_count": 11,
   "metadata": {},
   "outputs": [
    {
     "name": "stdout",
     "output_type": "stream",
     "text": [
      "Shape of X_train:  (1785, 20, 20, 1)\n",
      "Shape of Y_train:  (1785,)\n",
      "Shape of X_val:  (1190, 20, 20, 1)\n",
      "Shape of Y_val:  (1190,)\n",
      "Shape of X_test:  (1275, 20, 20, 1)\n",
      "Shape of Y_test:  (1275,)\n"
     ]
    }
   ],
   "source": [
    "# [2] (optional) Data normalization\n",
    "\n",
    "# print(np.linalg.norm(X_train, axis=1, keepdims=True))\n",
    "# print((np.linalg.norm(X_train, axis=1, keepdims=True)).shape)\n",
    "X_train = X_train / np.linalg.norm(X_train, axis=1, keepdims=True)\n",
    "X_val = X_val / np.linalg.norm(X_val, axis=1, keepdims=True)\n",
    "X_test = X_test / np.linalg.norm(X_test, axis=1, keepdims=True)\n",
    "\n",
    "#  reshape by N_Melvec x Melvec_length x 1\n",
    "X_train = X_train.reshape(len(X_train), 20, 20, 1)\n",
    "y_train = y_train.reshape(len(y_train),)\n",
    "\n",
    "X_val = X_val.reshape(len(X_val), 20, 20, 1)\n",
    "y_val = y_val.reshape(len(y_val),)\n",
    "\n",
    "X_test = X_test.reshape(len(X_test), 20, 20, 1)\n",
    "y_test = y_test.reshape(len(y_test),)\n",
    "\n",
    "print(\"Shape of X_train: \", X_train.shape)\n",
    "print(\"Shape of Y_train: \", y_train.shape)\n",
    "print(\"Shape of X_val: \", X_val.shape)\n",
    "print(\"Shape of Y_val: \", y_val.shape)\n",
    "print(\"Shape of X_test: \", X_test.shape)\n",
    "print(\"Shape of Y_test: \", y_test.shape)"
   ]
  },
  {
   "cell_type": "code",
   "execution_count": 12,
   "metadata": {},
   "outputs": [],
   "source": [
    "# [3] (optional) dimensionality reduction."
   ]
  },
  {
   "cell_type": "code",
   "execution_count": 13,
   "metadata": {},
   "outputs": [],
   "source": [
    "# [4] Model training and selection\n",
    "# input_shape = (20, 20, 1)\n",
    "# num_labels = 5\n",
    "# num_filters = 16\n",
    "# units = 32\n",
    "# drop_rate = 0.2\n",
    "\n",
    "# model = Sequential()\n",
    "\n",
    "# model.add(Conv2D(24, (3,3), activation = 'relu', input_shape = input_shape))\n",
    "# model.add(BatchNormalization()) # prevent overfitting\n",
    "# model.add(MaxPooling2D((2,2))) # activation layer, dimensionality reduction\n",
    "\n",
    "# model.add(Conv2D(48, (3,3), activation = 'relu'))\n",
    "# model.add(BatchNormalization())\n",
    "# model.add(MaxPooling2D((2,2)))\n",
    "\n",
    "# model.add(Conv2D(48, (3,3), activation = 'relu'))\n",
    "# model.add(BatchNormalization())\n",
    "# # model.add(MaxPooling2D((2,2)))\n",
    "\n",
    "# model.add(Flatten())\n",
    "# model.add(Dropout(drop_rate))\n",
    "\n",
    "# model.add(Dense(units, activation = 'relu'))\n",
    "\n",
    "# model.add(Dropout(drop_rate))\n",
    "\n",
    "# model.add(Dense(num_labels, activation = 'softmax'))"
   ]
  },
  {
   "cell_type": "code",
   "execution_count": 18,
   "metadata": {},
   "outputs": [],
   "source": [
    "# input_shape = (20, 20, 1)\n",
    "# num_labels = 5\n",
    "# num_filters = 16\n",
    "# units = 32\n",
    "# drop_rate = 0.2\n",
    "\n",
    "model = Sequential()\n",
    "\n",
    "model.add(BatchNormalization(input_shape = (20, 20, 1)))\n",
    "model.add(Conv2D(32, 3, activation = 'relu'))\n",
    "model.add(Conv2D(64, 3, activation = 'relu'))\n",
    "model.add(MaxPooling2D())\n",
    "model.add(Dropout(0.25))\n",
    "model.add(Flatten())\n",
    "model.add(Dense(128, activation = 'relu'))\n",
    "model.add(Dropout(0.25))\n",
    "model.add(Dense(5, activation = 'softmax'))\n",
    "\n",
    "# model = Sequential([\n",
    "#     layers.Input(shape=input_shape),\n",
    "#     # Downsample the input.\n",
    "#     layers.Resizing(32, 32),\n",
    "#     # Normalize.\n",
    "#     norm_layer,\n",
    "#     layers.Conv2D(32, 3, activation='relu'),\n",
    "#     layers.Conv2D(64, 3, activation='relu'),\n",
    "#     layers.MaxPooling2D(),\n",
    "#     layers.Dropout(0.25),\n",
    "#     layers.Flatten(),\n",
    "#     layers.Dense(128, activation='relu'),\n",
    "#     layers.Dropout(0.5),\n",
    "#     layers.Dense(num_labels),\n",
    "# ])\n"
   ]
  },
  {
   "cell_type": "code",
   "execution_count": 19,
   "metadata": {},
   "outputs": [],
   "source": [
    "from tensorflow.keras.optimizers import Adam\n",
    "\n",
    "learning_rate = 0.001  \n",
    "\n",
    "optimizer = Adam(learning_rate=learning_rate)\n",
    "\n",
    "model.compile(optimizer=optimizer, loss='sparse_categorical_crossentropy', metrics=['accuracy'])\n",
    "\n",
    "\n",
    "#model.compile('adam', loss='sparse_categorical_crossentropy', metrics=['accuracy'])"
   ]
  },
  {
   "cell_type": "code",
   "execution_count": 20,
   "metadata": {
    "scrolled": true
   },
   "outputs": [
    {
     "name": "stdout",
     "output_type": "stream",
     "text": [
      "Model: \"sequential_1\"\n",
      "_________________________________________________________________\n",
      " Layer (type)                Output Shape              Param #   \n",
      "=================================================================\n",
      " batch_normalization_1 (Bat  (None, 20, 20, 1)         4         \n",
      " chNormalization)                                                \n",
      "                                                                 \n",
      " conv2d_2 (Conv2D)           (None, 18, 18, 32)        320       \n",
      "                                                                 \n",
      " conv2d_3 (Conv2D)           (None, 16, 16, 64)        18496     \n",
      "                                                                 \n",
      " max_pooling2d_1 (MaxPoolin  (None, 8, 8, 64)          0         \n",
      " g2D)                                                            \n",
      "                                                                 \n",
      " dropout_2 (Dropout)         (None, 8, 8, 64)          0         \n",
      "                                                                 \n",
      " flatten_1 (Flatten)         (None, 4096)              0         \n",
      "                                                                 \n",
      " dense_2 (Dense)             (None, 128)               524416    \n",
      "                                                                 \n",
      " dropout_3 (Dropout)         (None, 128)               0         \n",
      "                                                                 \n",
      " dense_3 (Dense)             (None, 5)                 645       \n",
      "                                                                 \n",
      "=================================================================\n",
      "Total params: 543881 (2.07 MB)\n",
      "Trainable params: 543879 (2.07 MB)\n",
      "Non-trainable params: 2 (8.00 Byte)\n",
      "_________________________________________________________________\n"
     ]
    }
   ],
   "source": [
    "model.summary()"
   ]
  },
  {
   "cell_type": "code",
   "execution_count": 21,
   "metadata": {},
   "outputs": [
    {
     "name": "stdout",
     "output_type": "stream",
     "text": [
      "(1785,)\n",
      "(1785,)\n",
      "(1785, 20, 20, 1)\n"
     ]
    }
   ],
   "source": [
    "label_encoder = LabelEncoder()\n",
    "\n",
    "#y_train = y_train.reshape(-1,) \n",
    "print(y_train.shape)\n",
    "y_train_encoded = label_encoder.fit_transform(y_train) # Reshape labels to (n_samples,)\n",
    "y_val_encoded = label_encoder.fit_transform(y_val) # Reshape labels to (n_samples,)\n",
    "print(y_train_encoded.shape)\n",
    "print(X_train.shape)"
   ]
  },
  {
   "cell_type": "code",
   "execution_count": 22,
   "metadata": {},
   "outputs": [
    {
     "name": "stdout",
     "output_type": "stream",
     "text": [
      "Epoch 1/50\n",
      "112/112 [==============================] - 2s 14ms/step - loss: 1.0073 - accuracy: 0.6073 - val_loss: 1.6249 - val_accuracy: 0.2101\n",
      "Epoch 2/50\n",
      "112/112 [==============================] - 2s 16ms/step - loss: 0.7170 - accuracy: 0.7445 - val_loss: 1.6274 - val_accuracy: 0.3336\n",
      "Epoch 3/50\n",
      "112/112 [==============================] - 2s 15ms/step - loss: 0.5914 - accuracy: 0.7849 - val_loss: 1.4357 - val_accuracy: 0.3840\n",
      "Epoch 4/50\n",
      "112/112 [==============================] - 1s 13ms/step - loss: 0.4956 - accuracy: 0.8162 - val_loss: 0.7591 - val_accuracy: 0.7824\n",
      "Epoch 5/50\n",
      "112/112 [==============================] - 1s 13ms/step - loss: 0.4198 - accuracy: 0.8448 - val_loss: 0.6123 - val_accuracy: 0.7773\n",
      "Epoch 6/50\n",
      "112/112 [==============================] - 1s 13ms/step - loss: 0.3601 - accuracy: 0.8678 - val_loss: 0.5694 - val_accuracy: 0.8101\n",
      "Epoch 7/50\n",
      "112/112 [==============================] - 2s 15ms/step - loss: 0.3236 - accuracy: 0.8880 - val_loss: 0.5770 - val_accuracy: 0.8134\n",
      "Epoch 8/50\n",
      "112/112 [==============================] - 2s 15ms/step - loss: 0.2706 - accuracy: 0.9076 - val_loss: 0.6164 - val_accuracy: 0.8109\n",
      "Epoch 9/50\n",
      "112/112 [==============================] - 1s 13ms/step - loss: 0.2365 - accuracy: 0.9098 - val_loss: 0.6989 - val_accuracy: 0.7941\n",
      "Epoch 10/50\n",
      "112/112 [==============================] - 1s 13ms/step - loss: 0.2042 - accuracy: 0.9272 - val_loss: 0.6171 - val_accuracy: 0.8378\n",
      "Epoch 11/50\n",
      "112/112 [==============================] - 1s 13ms/step - loss: 0.1723 - accuracy: 0.9395 - val_loss: 0.6363 - val_accuracy: 0.8336\n",
      "Epoch 12/50\n",
      "112/112 [==============================] - 1s 13ms/step - loss: 0.1329 - accuracy: 0.9591 - val_loss: 0.6650 - val_accuracy: 0.8303\n",
      "Epoch 13/50\n",
      "112/112 [==============================] - 1s 13ms/step - loss: 0.1359 - accuracy: 0.9529 - val_loss: 0.6768 - val_accuracy: 0.8303\n",
      "Epoch 14/50\n",
      "112/112 [==============================] - 2s 14ms/step - loss: 0.1118 - accuracy: 0.9636 - val_loss: 0.6857 - val_accuracy: 0.8286\n",
      "Epoch 15/50\n",
      "112/112 [==============================] - 2s 15ms/step - loss: 0.0944 - accuracy: 0.9653 - val_loss: 0.7530 - val_accuracy: 0.8437\n",
      "Epoch 16/50\n",
      "112/112 [==============================] - 1s 13ms/step - loss: 0.0820 - accuracy: 0.9742 - val_loss: 0.8953 - val_accuracy: 0.8185\n",
      "Epoch 17/50\n",
      "112/112 [==============================] - 1s 13ms/step - loss: 0.0818 - accuracy: 0.9720 - val_loss: 0.8123 - val_accuracy: 0.8319\n",
      "Epoch 18/50\n",
      "112/112 [==============================] - 1s 13ms/step - loss: 0.0722 - accuracy: 0.9754 - val_loss: 0.8650 - val_accuracy: 0.8244\n",
      "Epoch 19/50\n",
      "112/112 [==============================] - 1s 13ms/step - loss: 0.0601 - accuracy: 0.9826 - val_loss: 0.9097 - val_accuracy: 0.8286\n",
      "Epoch 20/50\n",
      "112/112 [==============================] - 2s 15ms/step - loss: 0.0735 - accuracy: 0.9798 - val_loss: 0.8691 - val_accuracy: 0.8244\n",
      "Epoch 21/50\n",
      "112/112 [==============================] - 2s 14ms/step - loss: 0.0516 - accuracy: 0.9832 - val_loss: 0.8575 - val_accuracy: 0.8252\n",
      "Epoch 22/50\n",
      "112/112 [==============================] - 1s 12ms/step - loss: 0.0506 - accuracy: 0.9798 - val_loss: 0.9616 - val_accuracy: 0.7966\n",
      "Epoch 23/50\n",
      "112/112 [==============================] - 2s 14ms/step - loss: 0.0445 - accuracy: 0.9866 - val_loss: 0.9818 - val_accuracy: 0.8277\n",
      "Epoch 24/50\n",
      "112/112 [==============================] - 2s 15ms/step - loss: 0.0256 - accuracy: 0.9933 - val_loss: 1.0658 - val_accuracy: 0.8303\n",
      "Epoch 25/50\n",
      "112/112 [==============================] - 2s 15ms/step - loss: 0.0404 - accuracy: 0.9882 - val_loss: 1.0819 - val_accuracy: 0.8218\n",
      "Epoch 26/50\n",
      "112/112 [==============================] - 2s 15ms/step - loss: 0.0410 - accuracy: 0.9866 - val_loss: 1.1123 - val_accuracy: 0.8286\n",
      "Epoch 27/50\n",
      "112/112 [==============================] - 2s 15ms/step - loss: 0.0224 - accuracy: 0.9933 - val_loss: 1.1629 - val_accuracy: 0.8336\n",
      "Epoch 28/50\n",
      "112/112 [==============================] - 1s 13ms/step - loss: 0.0495 - accuracy: 0.9877 - val_loss: 1.0619 - val_accuracy: 0.8244\n",
      "Epoch 29/50\n",
      "112/112 [==============================] - 1s 13ms/step - loss: 0.0343 - accuracy: 0.9888 - val_loss: 1.0766 - val_accuracy: 0.8235\n",
      "Epoch 30/50\n",
      "112/112 [==============================] - 2s 14ms/step - loss: 0.0353 - accuracy: 0.9854 - val_loss: 1.1029 - val_accuracy: 0.8252\n",
      "Epoch 31/50\n",
      "112/112 [==============================] - 1s 12ms/step - loss: 0.0409 - accuracy: 0.9894 - val_loss: 1.2206 - val_accuracy: 0.8067\n",
      "Epoch 32/50\n",
      "112/112 [==============================] - 2s 15ms/step - loss: 0.0708 - accuracy: 0.9776 - val_loss: 1.1319 - val_accuracy: 0.8034\n",
      "Epoch 33/50\n",
      "112/112 [==============================] - 2s 14ms/step - loss: 0.0605 - accuracy: 0.9821 - val_loss: 1.2222 - val_accuracy: 0.8000\n",
      "Epoch 34/50\n",
      "112/112 [==============================] - 1s 13ms/step - loss: 0.0474 - accuracy: 0.9877 - val_loss: 1.0435 - val_accuracy: 0.8345\n",
      "Epoch 35/50\n",
      "112/112 [==============================] - 2s 14ms/step - loss: 0.0252 - accuracy: 0.9938 - val_loss: 1.2508 - val_accuracy: 0.8235\n",
      "Epoch 36/50\n",
      "112/112 [==============================] - 1s 13ms/step - loss: 0.0497 - accuracy: 0.9877 - val_loss: 1.2203 - val_accuracy: 0.8311\n",
      "Epoch 37/50\n",
      "112/112 [==============================] - 1s 13ms/step - loss: 0.0249 - accuracy: 0.9944 - val_loss: 1.1699 - val_accuracy: 0.8319\n",
      "Epoch 38/50\n",
      "112/112 [==============================] - 2s 14ms/step - loss: 0.0185 - accuracy: 0.9944 - val_loss: 1.2687 - val_accuracy: 0.8294\n",
      "Epoch 39/50\n",
      "112/112 [==============================] - 1s 13ms/step - loss: 0.0119 - accuracy: 0.9972 - val_loss: 1.4079 - val_accuracy: 0.8286\n",
      "Epoch 40/50\n",
      "112/112 [==============================] - 1s 13ms/step - loss: 0.0299 - accuracy: 0.9910 - val_loss: 1.2199 - val_accuracy: 0.8210\n",
      "Epoch 41/50\n",
      "112/112 [==============================] - 2s 14ms/step - loss: 0.0271 - accuracy: 0.9938 - val_loss: 1.2356 - val_accuracy: 0.8235\n",
      "Epoch 42/50\n",
      "112/112 [==============================] - 2s 14ms/step - loss: 0.0281 - accuracy: 0.9910 - val_loss: 1.4124 - val_accuracy: 0.8101\n",
      "Epoch 43/50\n",
      "112/112 [==============================] - 1s 13ms/step - loss: 0.0352 - accuracy: 0.9944 - val_loss: 1.5428 - val_accuracy: 0.8092\n",
      "Epoch 44/50\n",
      "112/112 [==============================] - 1s 13ms/step - loss: 0.0395 - accuracy: 0.9860 - val_loss: 1.3246 - val_accuracy: 0.8235\n",
      "Epoch 45/50\n",
      "112/112 [==============================] - 1s 13ms/step - loss: 0.0187 - accuracy: 0.9922 - val_loss: 1.2724 - val_accuracy: 0.8361\n",
      "Epoch 46/50\n",
      "112/112 [==============================] - 2s 15ms/step - loss: 0.0223 - accuracy: 0.9922 - val_loss: 1.2774 - val_accuracy: 0.8286\n",
      "Epoch 47/50\n",
      "112/112 [==============================] - 1s 13ms/step - loss: 0.0102 - accuracy: 0.9961 - val_loss: 1.3271 - val_accuracy: 0.8319\n",
      "Epoch 48/50\n",
      "112/112 [==============================] - 1s 13ms/step - loss: 0.0219 - accuracy: 0.9916 - val_loss: 1.4287 - val_accuracy: 0.8218\n",
      "Epoch 49/50\n",
      "112/112 [==============================] - 2s 15ms/step - loss: 0.0192 - accuracy: 0.9933 - val_loss: 1.4437 - val_accuracy: 0.8244\n",
      "Epoch 50/50\n",
      "112/112 [==============================] - 2s 15ms/step - loss: 0.0306 - accuracy: 0.9905 - val_loss: 1.2746 - val_accuracy: 0.8261\n"
     ]
    }
   ],
   "source": [
    "epochs = 50\n",
    "\n",
    "#early_stopping = EarlyStopping(monitor='val_loss', patience=10, restore_best_weights=True)\n",
    "\n",
    "history = model.fit(X_train, y_train_encoded, epochs=epochs, batch_size = 16 , validation_data=(X_val, y_val_encoded)) #,  callbacks=[early_stopping])"
   ]
  },
  {
   "cell_type": "code",
   "execution_count": 23,
   "metadata": {},
   "outputs": [
    {
     "data": {
      "text/plain": [
       "Text(0, 0.5, 'Accuracy [%]')"
      ]
     },
     "execution_count": 23,
     "metadata": {},
     "output_type": "execute_result"
    },
    {
     "data": {
      "image/png": "[encoded data removed]",
      "text/plain": [
       "<Figure size 1600x600 with 2 Axes>"
      ]
     },
     "metadata": {},
     "output_type": "display_data"
    }
   ],
   "source": [
    "metrics = history.history\n",
    "#print(metrics)\n",
    "plt.figure(figsize=(16,6))\n",
    "plt.subplot(1,2,1)\n",
    "plt.plot(history.epoch, np.log(metrics['loss']), np.log(metrics['val_loss']))\n",
    "plt.legend(['loss', 'val_loss'])\n",
    "#plt.ylim([0, max(plt.ylim())])\n",
    "plt.xlabel('Epoch')\n",
    "plt.ylabel('log(Loss) [CrossEntropy]')\n",
    "\n",
    "plt.subplot(1,2,2)\n",
    "plt.plot(history.epoch, 100*np.array(metrics['accuracy']), 100*np.array(metrics['val_accuracy']))\n",
    "plt.legend(['accuracy', 'val_accuracy'])\n",
    "plt.ylim([0, 100])\n",
    "plt.xlabel('Epoch')\n",
    "plt.ylabel('Accuracy [%]')\n",
    "\n",
    "#plt.savefig('Loss-Acc-epochs=40-batch_size=16-FV=1000.pdf')"
   ]
  },
  {
   "cell_type": "code",
   "execution_count": 24,
   "metadata": {},
   "outputs": [
    {
     "name": "stdout",
     "output_type": "stream",
     "text": [
      "40/40 [==============================] - 0s 3ms/step - loss: 1.0600 - accuracy: 0.8541\n"
     ]
    },
    {
     "data": {
      "text/plain": [
       "[1.060010552406311, 0.8541176319122314]"
      ]
     },
     "execution_count": 24,
     "metadata": {},
     "output_type": "execute_result"
    }
   ],
   "source": [
    "y_test_encoded = label_encoder.fit_transform(y_test)\n",
    "\n",
    "model.evaluate(X_test, y_test_encoded)"
   ]
  },
  {
   "cell_type": "code",
   "execution_count": 25,
   "metadata": {},
   "outputs": [],
   "source": [
    "# [5] Save the trained model, eventually the pca.\n",
    "filename = 'CNN.pickle'\n",
    "file_label_encoder = 'label_encoder.pickle'\n",
    "\n",
    "pickle.dump(model, open(model_dir+filename, 'wb'))\n",
    "pickle.dump(model, open(model_dir+file_label_encoder, 'wb'))"
   ]
  },
  {
   "cell_type": "code",
   "execution_count": 26,
   "metadata": {},
   "outputs": [],
   "source": [
    "import matplotlib.pyplot as plt\n",
    "import numpy as np\n",
    "\n",
    "\"For confusion matrix plot\"\n",
    "from seaborn import heatmap\n",
    "from sklearn.metrics import confusion_matrix\n",
    "\n",
    "# -----------------------------------------------------------------------------\n",
    "\"\"\"\n",
    "Synthesis of the functions in :\n",
    "\n",
    "- show_confusion_matrix : plot confusion matrix.\n",
    "- plot_audio : Plot an audiosignal in time and frequency\n",
    "- plot_specgram : Plot a spectrogram (2D matrix)\n",
    "- plot_decision_boundary : Plot decision boundary of a classifier.\n",
    "\"\"\"\n",
    "# -----------------------------------------------------------------------------\n",
    "\n",
    "\n",
    "def show_confusion_matrix(y_predict, y_true, classnames, title=\"\", saveFig = False, saveAs=''):\n",
    "    \"\"\"\n",
    "    From target labels and prediction arrays, sort them appropriately and plot confusion matrix.\n",
    "    The arrays can contain either ints or str quantities, as long as classnames contains all the elements present in them.\n",
    "    \"\"\"\n",
    "    # # Reorder the prediction array\n",
    "    # labels = np.zeros_like(y_predict)\n",
    "    # for i in np.arange(len(classnames)):\n",
    "    #     mask = [None]*len(y_predict)\n",
    "    #     for j in np.arange(len(mask)):\n",
    "    #         mask[j] = (y_predict[j] == classnames[i])\n",
    "    #     labels[mask] = mode(y_true2[mask])[0]\n",
    "    \n",
    "\n",
    "    plt.figure(figsize=(5, 5))\n",
    "    confmat = confusion_matrix(y_true, y_predict)\n",
    "    heatmap(\n",
    "        confmat.T,\n",
    "        square=True,\n",
    "        annot=True,\n",
    "        fmt=\"d\",\n",
    "        cbar=False,\n",
    "        xticklabels=classnames,\n",
    "        yticklabels=classnames,\n",
    "        ax=plt.gca(),\n",
    "    )\n",
    "    plt.xlabel(\"True label\")\n",
    "    plt.ylabel(\"Predicted label\")\n",
    "    plt.title(title)\n",
    "\n",
    "    if(saveFig):\n",
    "        plt.savefig(saveAs)\n",
    "    \n",
    "    plt.show()\n",
    "    return None"
   ]
  },
  {
   "cell_type": "code",
   "execution_count": 27,
   "metadata": {
    "scrolled": true
   },
   "outputs": [
    {
     "name": "stdout",
     "output_type": "stream",
     "text": [
      "40/40 [==============================] - 0s 3ms/step\n",
      "[1 3 4 ... 0 2 0]\n",
      "['chainsaw' 'handsaw' 'helicopter' ... 'birds' 'fire' 'birds']\n",
      "Accuracy of CNN with fixed train/validation sets : 85.4%\n"
     ]
    },
    {
     "data": {
      "image/png": "[encoded data removed]",
      "text/plain": [
       "<Figure size 500x500 with 1 Axes>"
      ]
     },
     "metadata": {},
     "output_type": "display_data"
    }
   ],
   "source": [
    "# [6] Evaluate the model.\n",
    "prediction_CNN = model.predict(X_test) # all the proba for each class\n",
    "\n",
    "predicted_classes = np.argmax(prediction_CNN, axis=1) # the most probable class\n",
    "print(predicted_classes)\n",
    "predicted_classes = label_encoder.inverse_transform(predicted_classes)\n",
    "print(predicted_classes)\n",
    "\n",
    "accuracy_CNN = accuracy(predicted_classes, y_test)\n",
    "\n",
    "print('Accuracy of CNN with fixed train/validation sets : {:.1f}%'.format(100*accuracy_CNN))\n",
    "show_confusion_matrix (predicted_classes, y_test, classnames, saveFig = False, saveAs='CM-epochs=40-batch_size=16-FV=1000.pdf')"
   ]
  },
  {
   "cell_type": "code",
   "execution_count": null,
   "metadata": {},
   "outputs": [],
   "source": []
  }
 ],
 "metadata": {
  "kernelspec": {
   "display_name": "Python 3 (ipykernel)",
   "language": "python",
   "name": "python3"
  },
  "language_info": {
   "codemirror_mode": {
    "name": "ipython",
    "version": 3
   },
   "file_extension": ".py",
   "mimetype": "text/x-python",
   "name": "python",
   "nbconvert_exporter": "python",
   "pygments_lexer": "ipython3",
   "version": "3.8.10"
  }
 },
 "nbformat": 4,
 "nbformat_minor": 4
}
