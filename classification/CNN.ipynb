{
 "cells": [
  {
   "cell_type": "markdown",
   "metadata": {},
   "source": [
    "For this code, need to use python 3 kernel and not LELEC210X kernel!"
   ]
  },
  {
   "cell_type": "markdown",
   "metadata": {},
   "source": [
    "https://www.tensorflow.org/tutorials/audio/simple_audio\n",
    "https://github.com/nicknochnack/ImageClassification/blob/main/Getting%20Started.ipynb\n",
    "https://nmbu.brage.unit.no/nmbu-xmlui/bitstream/handle/11250/2611624/report-print1.pdf?sequence=3&isAllowed=y\n"
   ]
  },
  {
   "cell_type": "code",
   "execution_count": 1,
   "metadata": {},
   "outputs": [],
   "source": [
    "import os\n",
    "import numpy as np\n",
    "import matplotlib.pyplot as plt\n",
    "\n",
    "\"Machine learning tools\"\n",
    "from sklearn.neighbors import KNeighborsClassifier\n",
    "from sklearn.model_selection import train_test_split, StratifiedKFold\n",
    "from sklearn.neural_network import MLPClassifier\n",
    "from sklearn.preprocessing import StandardScaler\n",
    "from sklearn.ensemble import RandomForestClassifier as RFC\n",
    "from sklearn.decomposition import PCA\n",
    "import pickle\n",
    "from pathlib import Path\n",
    "from typing import List, Tuple\n",
    "import glob\n",
    "\n",
    "from classification.datasets import Dataset\n",
    "\n",
    "from classification.utils.plots import plot_specgram, show_confusion_matrix, plot_decision_boundaries\n",
    "from classification.utils.utils import accuracy\n",
    "from classification.utils.audio_student import AudioUtil, Feature_vector_DS"
   ]
  },
  {
   "cell_type": "code",
   "execution_count": 2,
   "metadata": {
    "scrolled": true
   },
   "outputs": [
    {
     "name": "stderr",
     "output_type": "stream",
     "text": [
      "2024-05-16 17:40:41.007541: I tensorflow/tsl/cuda/cudart_stub.cc:28] Could not find cuda drivers on your machine, GPU will not be used.\n",
      "2024-05-16 17:40:41.047456: I tensorflow/tsl/cuda/cudart_stub.cc:28] Could not find cuda drivers on your machine, GPU will not be used.\n",
      "2024-05-16 17:40:41.048350: I tensorflow/core/platform/cpu_feature_guard.cc:182] This TensorFlow binary is optimized to use available CPU instructions in performance-critical operations.\n",
      "To enable the following instructions: AVX2 FMA, in other operations, rebuild TensorFlow with the appropriate compiler flags.\n",
      "2024-05-16 17:40:41.839099: W tensorflow/compiler/tf2tensorrt/utils/py_utils.cc:38] TF-TRT Warning: Could not find TensorRT\n"
     ]
    }
   ],
   "source": [
    "import tensorflow as tf\n",
    "from tensorflow.keras.models import Sequential\n",
    "from tensorflow.keras.layers import Conv2D, MaxPooling2D, Dense, Flatten, Dropout, BatchNormalization\n",
    "from sklearn.preprocessing import OneHotEncoder\n",
    "from tensorflow.keras.callbacks import EarlyStopping, ReduceLROnPlateau"
   ]
  },
  {
   "cell_type": "code",
   "execution_count": 3,
   "metadata": {},
   "outputs": [],
   "source": [
    "#!pip install --upgrade pip # update pip if needed"
   ]
  },
  {
   "cell_type": "code",
   "execution_count": 4,
   "metadata": {},
   "outputs": [],
   "source": [
    "#!pip install tensorflow tensorflow-gpu opencv-python matplotlib"
   ]
  },
  {
   "cell_type": "code",
   "execution_count": 5,
   "metadata": {},
   "outputs": [],
   "source": [
    "#!pip list"
   ]
  },
  {
   "cell_type": "code",
   "execution_count": 6,
   "metadata": {},
   "outputs": [],
   "source": [
    "#pip install --upgrade tensorflow"
   ]
  },
  {
   "cell_type": "code",
   "execution_count": 7,
   "metadata": {},
   "outputs": [],
   "source": [
    "model_dir = \"../goldenProject/python/model/\"\n",
    "#fv_dir = \"../goldenProject/python/datasetGloeAndPyth/\"\n",
    "#fv_dir = \"../goldenProject/python/datasetGloeAndPythAndBarb/\"\n",
    "fv_dir = \"../goldenProject/python/datasetGloeAndPythAndGluAndBarb/\"\n",
    "fm_dir = \"data/fm_1000/\""
   ]
  },
  {
   "cell_type": "markdown",
   "metadata": {},
   "source": [
    "<font size=5 color=#009999> 1. Our dataset </font> <br>"
   ]
  },
  {
   "cell_type": "markdown",
   "metadata": {},
   "source": [
    "<font size=4 color=#009999> 1.1 Build matrix of fv </font> <br>"
   ]
  },
  {
   "cell_type": "code",
   "execution_count": 8,
   "metadata": {},
   "outputs": [
    {
     "name": "stdout",
     "output_type": "stream",
     "text": [
      "5\n",
      "1090\n",
      "5450\n"
     ]
    }
   ],
   "source": [
    "def get_cls_from_path(file):\n",
    "    return file.stem.split(\"_\", maxsplit=1)[0]\n",
    "\n",
    "\n",
    "format = \"pickle\"\n",
    "classnames = ['birds','chainsaw','fire','handsaw','helicopter']\n",
    "\n",
    "#fv = pickle.load(open(fv_dir + filename, 'rb'))\n",
    "#print(fv)\n",
    "#print(fv.shape)\n",
    "\n",
    "dic_fv = {}\n",
    "for file in sorted((Path(fv_dir)).glob(\"**/*.\" + format)):\n",
    "    #print(str(file))\n",
    "    fv = pickle.load(open(file, 'rb'))\n",
    "    fv = np.squeeze(fv)\n",
    "    cls = get_cls_from_path(file)\n",
    "    #print(cls)\n",
    "    dic_fv.setdefault(cls, []).append(fv)\n",
    "#print(dic_fv)\n",
    "\n",
    "nclass = len(dic_fv)\n",
    "naudio = len(dic_fv[list(dic_fv.keys())[0]])\n",
    "size = nclass * naudio\n",
    "\n",
    "print(nclass)\n",
    "print(naudio)\n",
    "print(size)\n",
    "\n",
    "# plt.figure()\n",
    "# plot_specgram(fv.reshape((20, 20)).T, ax=plt.gca(), is_mel=True, title=\"MEL Spectrogram\", xlabel=\"Mel vector\")\n",
    "# plt.show()\n"
   ]
  },
  {
   "cell_type": "code",
   "execution_count": 9,
   "metadata": {},
   "outputs": [
    {
     "name": "stdout",
     "output_type": "stream",
     "text": [
      "400\n",
      "(5450, 400)\n"
     ]
    }
   ],
   "source": [
    "### Features vectors build matrix ###\n",
    "\n",
    "train_pct = 0.7\n",
    "print(len(dic_fv[\"birds\"][0]))\n",
    "featveclen = len(dic_fv[\"birds\"][0]) # number of items in a feature vector\n",
    "#nitems = size\n",
    "nlearn = round(naudio * train_pct) # number of sounds among naudio for training\n",
    "\n",
    "data_aug_factor = 1\n",
    "class_ids_aug = np.repeat(classnames, naudio*data_aug_factor) #matrice avec les noms des classes x le nombre de sons (40 de base)\n",
    "\n",
    "X = np.zeros((data_aug_factor*size, featveclen)) #nombre de sons total x taille du feature vector\n",
    "for s in range(data_aug_factor):\n",
    "    for class_idx, classname in enumerate(classnames):\n",
    "        for idx in range(naudio):\n",
    "            featvec = dic_fv[classname][idx] #melspec\n",
    "            #print(f'classename = {classname} and idx = {idx}')\n",
    "            #print(f'index = {s*nclass*naudio+class_idx*naudio+idx}')\n",
    "            X[s*nclass*naudio+class_idx*naudio+idx,:] = featvec       \n",
    "#np.save(fm_dir+\"feature_matrix.npy\", X)\n",
    "print(X.shape)"
   ]
  },
  {
   "cell_type": "code",
   "execution_count": 10,
   "metadata": {
    "scrolled": true
   },
   "outputs": [
    {
     "name": "stdout",
     "output_type": "stream",
     "text": [
      "['birds' 'birds' 'birds' ... 'helicopter' 'helicopter' 'helicopter']\n",
      "Shape of the feature matrix : (5450, 400)\n",
      "Number of labels : 5450\n",
      "\n"
     ]
    }
   ],
   "source": [
    "#X = np.load(fm_dir+\"feature_matrix.npy\")\n",
    "\n",
    "# \"Labels\"\n",
    "y = class_ids_aug.copy() #noms des sons\n",
    "print(y)\n",
    "\n",
    "print('Shape of the feature matrix : {}'.format(X.shape))\n",
    "print('Number of labels : {}'.format(len(y)))\n",
    "\n",
    "print()"
   ]
  },
  {
   "cell_type": "markdown",
   "metadata": {},
   "source": [
    "<font size=4 color=#009999> 1.3 Build data and split it </font> <br>"
   ]
  },
  {
   "cell_type": "code",
   "execution_count": 11,
   "metadata": {},
   "outputs": [
    {
     "name": "stdout",
     "output_type": "stream",
     "text": [
      "Shape of X_train:  (3924, 400)\n",
      "Shape of Y_train:  (3924,)\n",
      "Shape of X_val:  (436, 400)\n",
      "Shape of Y_val:  (436,)\n",
      "Shape of X_test:  (1090, 400)\n",
      "Shape of Y_test:  (1090,)\n"
     ]
    }
   ],
   "source": [
    "X_train, X_test, y_train, y_test = train_test_split(X, y, test_size=0.2, stratify=y, random_state=1, shuffle=True)\n",
    "X_train, X_val, y_train, y_val = train_test_split(X_train, y_train, test_size=0.1, stratify=y_train, random_state=1, shuffle=True)\n",
    "\n",
    "print(\"Shape of X_train: \", X_train.shape)\n",
    "print(\"Shape of Y_train: \", y_train.shape)\n",
    "print(\"Shape of X_val: \", X_val.shape)\n",
    "print(\"Shape of Y_val: \", y_val.shape)\n",
    "print(\"Shape of X_test: \", X_test.shape)\n",
    "print(\"Shape of Y_test: \", y_test.shape)"
   ]
  },
  {
   "cell_type": "code",
   "execution_count": 12,
   "metadata": {},
   "outputs": [
    {
     "name": "stdout",
     "output_type": "stream",
     "text": [
      "Shape of X_train:  (3924, 20, 20, 1)\n",
      "Shape of Y_train:  (3924,)\n",
      "Shape of X_val:  (436, 20, 20, 1)\n",
      "Shape of Y_val:  (436,)\n",
      "Shape of X_test:  (1090, 20, 20, 1)\n",
      "Shape of Y_test:  (1090,)\n"
     ]
    }
   ],
   "source": [
    "# [2] (optional) Data normalization\n",
    "\n",
    "# print(np.linalg.norm(X_train, axis=1, keepdims=True))\n",
    "# print((np.linalg.norm(X_train, axis=1, keepdims=True)).shape)\n",
    "X_train = X_train / np.linalg.norm(X_train, axis=1, keepdims=True)\n",
    "X_val = X_val / np.linalg.norm(X_val, axis=1, keepdims=True)\n",
    "X_test = X_test / np.linalg.norm(X_test, axis=1, keepdims=True)\n",
    "\n",
    "#  reshape by N_Melvec x Melvec_length x 1\n",
    "X_train = X_train.reshape(len(X_train), 20, 20, 1)\n",
    "y_train = y_train.reshape(len(y_train),)\n",
    "\n",
    "X_val = X_val.reshape(len(X_val), 20, 20, 1)\n",
    "y_val = y_val.reshape(len(y_val),)\n",
    "\n",
    "X_test = X_test.reshape(len(X_test), 20, 20, 1)\n",
    "y_test = y_test.reshape(len(y_test),)\n",
    "\n",
    "print(\"Shape of X_train: \", X_train.shape)\n",
    "print(\"Shape of Y_train: \", y_train.shape)\n",
    "print(\"Shape of X_val: \", X_val.shape)\n",
    "print(\"Shape of Y_val: \", y_val.shape)\n",
    "print(\"Shape of X_test: \", X_test.shape)\n",
    "print(\"Shape of Y_test: \", y_test.shape)"
   ]
  },
  {
   "cell_type": "code",
   "execution_count": 13,
   "metadata": {},
   "outputs": [],
   "source": [
    "# [3] (optional) dimensionality reduction."
   ]
  },
  {
   "cell_type": "code",
   "execution_count": 14,
   "metadata": {},
   "outputs": [],
   "source": [
    "input_shape = (20, 20, 1)\n",
    "\n",
    "model = Sequential()\n",
    "\n",
    "model.add(Conv2D(64, (3,3), activation = 'relu', strides=(2,2), input_shape = input_shape))\n",
    "model.add(Dropout(0.3))\n",
    "model.add(BatchNormalization()) # prevent overfitting\n",
    "#model.add(MaxPooling2D((2,2))) # activation layer, dimensionality reduction\n",
    "\n",
    "model.add(Conv2D(64, (3,3), activation = 'relu', strides=(2,2)))\n",
    "model.add(Dropout(0.3))\n",
    "model.add(BatchNormalization())\n",
    "#model.add(MaxPooling2D((2,2)))\n",
    "\n",
    "model.add(Conv2D(64, (3,3), activation = 'relu', strides=(2,2)))\n",
    "model.add(Dropout(0.3))\n",
    "model.add(BatchNormalization())\n",
    "#model.add(MaxPooling2D((2,2)))\n",
    "\n",
    "model.add(Flatten())\n",
    "model.add(Dense(128, activation = 'relu'))\n",
    "model.add(Dense(5, activation = 'softmax'))"
   ]
  },
  {
   "cell_type": "code",
   "execution_count": 15,
   "metadata": {},
   "outputs": [],
   "source": [
    "# [4] Model training and selection\n",
    "# input_shape = (20, 20, 1)\n",
    "# num_labels = 5\n",
    "# num_filters = 16\n",
    "# units = 32\n",
    "# drop_rate = 0.2\n",
    "\n",
    "# model = Sequential()\n",
    "\n",
    "# model.add(Conv2D(24, (3,3), activation = 'relu', input_shape = input_shape))\n",
    "# model.add(BatchNormalization()) # prevent overfitting\n",
    "# model.add(MaxPooling2D((2,2))) # activation layer, dimensionality reduction\n",
    "\n",
    "# model.add(Conv2D(48, (3,3), activation = 'relu'))\n",
    "# model.add(BatchNormalization())\n",
    "# model.add(MaxPooling2D((2,2)))\n",
    "\n",
    "# model.add(Conv2D(48, (3,3), activation = 'relu'))\n",
    "# model.add(BatchNormalization())\n",
    "# # model.add(MaxPooling2D((2,2)))\n",
    "\n",
    "# model.add(Flatten())\n",
    "# model.add(Dropout(drop_rate))\n",
    "\n",
    "# model.add(Dense(units, activation = 'relu'))\n",
    "\n",
    "# model.add(Dropout(drop_rate))\n",
    "\n",
    "# model.add(Dense(num_labels, activation = 'softmax'))"
   ]
  },
  {
   "cell_type": "code",
   "execution_count": 16,
   "metadata": {},
   "outputs": [],
   "source": [
    "# input_shape = (20, 20, 1)\n",
    "# num_labels = 5\n",
    "# num_filters = 16\n",
    "# units = 32\n",
    "# drop_rate = 0.2\n",
    "\n",
    "# model = Sequential()\n",
    "\n",
    "# model.add(BatchNormalization(input_shape = (20, 20, 1)))\n",
    "# model.add(Conv2D(32, 3, activation = 'relu'))\n",
    "# model.add(Conv2D(64, 3, activation = 'relu'))\n",
    "# model.add(Conv2D(32, 3, activation = 'relu'))\n",
    "# model.add(MaxPooling2D())\n",
    "# model.add(Dropout(0.25))\n",
    "# model.add(Flatten())\n",
    "# model.add(Dense(128, activation = 'relu'))\n",
    "# model.add(Dropout(0.25))\n",
    "# model.add(Dense(5, activation = 'softmax'))\n",
    "\n",
    "# model = Sequential([\n",
    "#     layers.Input(shape=input_shape),\n",
    "#     # Downsample the input.\n",
    "#     layers.Resizing(32, 32),\n",
    "#     # Normalize.\n",
    "#     norm_layer,\n",
    "#     layers.Conv2D(32, 3, activation='relu'),\n",
    "#     layers.Conv2D(64, 3, activation='relu'),\n",
    "#     layers.MaxPooling2D(),\n",
    "#     layers.Dropout(0.25),\n",
    "#     layers.Flatten(),\n",
    "#     layers.Dense(128, activation='relu'),\n",
    "#     layers.Dropout(0.5),\n",
    "#     layers.Dense(num_labels),\n",
    "# ])\n"
   ]
  },
  {
   "cell_type": "code",
   "execution_count": 17,
   "metadata": {},
   "outputs": [],
   "source": [
    "from tensorflow.keras.optimizers import Adam\n",
    "\n",
    "learning_rate = 0.001  \n",
    "\n",
    "optimizer = Adam(learning_rate=learning_rate)\n",
    "\n",
    "# sparse_categorical_crossentropy\n",
    "model.compile(optimizer=optimizer, loss='categorical_crossentropy', metrics=['accuracy'])\n",
    "\n",
    "\n",
    "#model.compile('adam', loss='sparse_categorical_crossentropy', metrics=['accuracy'])"
   ]
  },
  {
   "cell_type": "code",
   "execution_count": 18,
   "metadata": {
    "scrolled": true
   },
   "outputs": [
    {
     "name": "stdout",
     "output_type": "stream",
     "text": [
      "Model: \"sequential\"\n",
      "_________________________________________________________________\n",
      " Layer (type)                Output Shape              Param #   \n",
      "=================================================================\n",
      " conv2d (Conv2D)             (None, 9, 9, 64)          640       \n",
      "                                                                 \n",
      " dropout (Dropout)           (None, 9, 9, 64)          0         \n",
      "                                                                 \n",
      " batch_normalization (Batch  (None, 9, 9, 64)          256       \n",
      " Normalization)                                                  \n",
      "                                                                 \n",
      " conv2d_1 (Conv2D)           (None, 4, 4, 64)          36928     \n",
      "                                                                 \n",
      " dropout_1 (Dropout)         (None, 4, 4, 64)          0         \n",
      "                                                                 \n",
      " batch_normalization_1 (Bat  (None, 4, 4, 64)          256       \n",
      " chNormalization)                                                \n",
      "                                                                 \n",
      " conv2d_2 (Conv2D)           (None, 1, 1, 64)          36928     \n",
      "                                                                 \n",
      " dropout_2 (Dropout)         (None, 1, 1, 64)          0         \n",
      "                                                                 \n",
      " batch_normalization_2 (Bat  (None, 1, 1, 64)          256       \n",
      " chNormalization)                                                \n",
      "                                                                 \n",
      " flatten (Flatten)           (None, 64)                0         \n",
      "                                                                 \n",
      " dense (Dense)               (None, 128)               8320      \n",
      "                                                                 \n",
      " dense_1 (Dense)             (None, 5)                 645       \n",
      "                                                                 \n",
      "=================================================================\n",
      "Total params: 84229 (329.02 KB)\n",
      "Trainable params: 83845 (327.52 KB)\n",
      "Non-trainable params: 384 (1.50 KB)\n",
      "_________________________________________________________________\n"
     ]
    }
   ],
   "source": [
    "model.summary()"
   ]
  },
  {
   "cell_type": "code",
   "execution_count": 19,
   "metadata": {
    "scrolled": true
   },
   "outputs": [
    {
     "name": "stderr",
     "output_type": "stream",
     "text": [
      "/home/lucie/.cache/pypoetry/virtualenvs/lelec210x-C4YOSB4N-py3.8/lib/python3.8/site-packages/sklearn/preprocessing/_encoders.py:975: FutureWarning: `sparse` was renamed to `sparse_output` in version 1.2 and will be removed in 1.4. `sparse_output` is ignored unless you leave `sparse` to its default value.\n",
      "  warnings.warn(\n"
     ]
    }
   ],
   "source": [
    "ohe = OneHotEncoder(categories='auto', sparse=False)\n",
    "#y_train = y_train.reshape(-1,) \n",
    "#print(y_train.shape)\n",
    "#oneHot.fit([['birds', 1], ['chainsaw','fire','handsaw','helicopter']])\n",
    "y_train_encoded = ohe.fit_transform(y_train.reshape(-1,1))#[:,np.newaxis]).reshape(1,-1)) # Reshape labels to (n_samples,)\n",
    "y_val_encoded = ohe.transform(y_val.reshape(-1,1)) # Reshape labels to (n_samples,)\n",
    "#print(y_train_encoded.shape)\n",
    "#print(X_train.shape)"
   ]
  },
  {
   "cell_type": "code",
   "execution_count": 20,
   "metadata": {},
   "outputs": [
    {
     "name": "stdout",
     "output_type": "stream",
     "text": [
      "Epoch 1/150\n",
      "246/246 [==============================] - 2s 5ms/step - loss: 1.2080 - accuracy: 0.4964 - val_loss: 1.7853 - val_accuracy: 0.1995 - lr: 0.0010\n",
      "Epoch 2/150\n",
      "246/246 [==============================] - 1s 4ms/step - loss: 1.0154 - accuracy: 0.5915 - val_loss: 1.3046 - val_accuracy: 0.3578 - lr: 0.0010\n",
      "Epoch 3/150\n",
      "246/246 [==============================] - 1s 4ms/step - loss: 0.9477 - accuracy: 0.6239 - val_loss: 0.8108 - val_accuracy: 0.7018 - lr: 0.0010\n",
      "Epoch 4/150\n",
      "246/246 [==============================] - 1s 4ms/step - loss: 0.8938 - accuracy: 0.6468 - val_loss: 0.7523 - val_accuracy: 0.7156 - lr: 0.0010\n",
      "Epoch 5/150\n",
      "246/246 [==============================] - 1s 4ms/step - loss: 0.8540 - accuracy: 0.6705 - val_loss: 0.8090 - val_accuracy: 0.6927 - lr: 0.0010\n",
      "Epoch 6/150\n",
      "246/246 [==============================] - 1s 4ms/step - loss: 0.8243 - accuracy: 0.6776 - val_loss: 0.6389 - val_accuracy: 0.7546 - lr: 0.0010\n",
      "Epoch 7/150\n",
      "246/246 [==============================] - 1s 4ms/step - loss: 0.8148 - accuracy: 0.6832 - val_loss: 0.6790 - val_accuracy: 0.7431 - lr: 0.0010\n",
      "Epoch 8/150\n",
      "246/246 [==============================] - 1s 4ms/step - loss: 0.7940 - accuracy: 0.6993 - val_loss: 0.6423 - val_accuracy: 0.7546 - lr: 0.0010\n",
      "Epoch 9/150\n",
      "246/246 [==============================] - 1s 4ms/step - loss: 0.7513 - accuracy: 0.7166 - val_loss: 0.6278 - val_accuracy: 0.7546 - lr: 0.0010\n",
      "Epoch 10/150\n",
      "246/246 [==============================] - 1s 4ms/step - loss: 0.7355 - accuracy: 0.7174 - val_loss: 0.5787 - val_accuracy: 0.7890 - lr: 0.0010\n",
      "Epoch 11/150\n",
      "246/246 [==============================] - 1s 4ms/step - loss: 0.7309 - accuracy: 0.7192 - val_loss: 0.6808 - val_accuracy: 0.7454 - lr: 0.0010\n",
      "Epoch 12/150\n",
      "246/246 [==============================] - 1s 4ms/step - loss: 0.7227 - accuracy: 0.7286 - val_loss: 0.6176 - val_accuracy: 0.7615 - lr: 0.0010\n",
      "Epoch 13/150\n",
      "246/246 [==============================] - 1s 3ms/step - loss: 0.6985 - accuracy: 0.7339 - val_loss: 0.6092 - val_accuracy: 0.7569 - lr: 0.0010\n",
      "Epoch 14/150\n",
      "246/246 [==============================] - 1s 3ms/step - loss: 0.6845 - accuracy: 0.7375 - val_loss: 0.5838 - val_accuracy: 0.7798 - lr: 0.0010\n",
      "Epoch 15/150\n",
      "246/246 [==============================] - 1s 3ms/step - loss: 0.6753 - accuracy: 0.7444 - val_loss: 0.5630 - val_accuracy: 0.7844 - lr: 0.0010\n",
      "Epoch 16/150\n",
      "246/246 [==============================] - 1s 3ms/step - loss: 0.6864 - accuracy: 0.7373 - val_loss: 0.5530 - val_accuracy: 0.7844 - lr: 0.0010\n",
      "Epoch 17/150\n",
      "246/246 [==============================] - 1s 3ms/step - loss: 0.6577 - accuracy: 0.7490 - val_loss: 0.5477 - val_accuracy: 0.7867 - lr: 0.0010\n",
      "Epoch 18/150\n",
      "246/246 [==============================] - 1s 3ms/step - loss: 0.6490 - accuracy: 0.7579 - val_loss: 0.5405 - val_accuracy: 0.7936 - lr: 0.0010\n",
      "Epoch 19/150\n",
      "246/246 [==============================] - 1s 4ms/step - loss: 0.6166 - accuracy: 0.7681 - val_loss: 0.5068 - val_accuracy: 0.8028 - lr: 0.0010\n",
      "Epoch 20/150\n",
      "246/246 [==============================] - 1s 4ms/step - loss: 0.6426 - accuracy: 0.7559 - val_loss: 0.5300 - val_accuracy: 0.8005 - lr: 0.0010\n",
      "Epoch 21/150\n",
      "246/246 [==============================] - 1s 4ms/step - loss: 0.5974 - accuracy: 0.7724 - val_loss: 0.5149 - val_accuracy: 0.8028 - lr: 0.0010\n",
      "Epoch 22/150\n",
      "246/246 [==============================] - 1s 4ms/step - loss: 0.6097 - accuracy: 0.7683 - val_loss: 0.5702 - val_accuracy: 0.7821 - lr: 0.0010\n",
      "Epoch 23/150\n",
      "246/246 [==============================] - 1s 4ms/step - loss: 0.5898 - accuracy: 0.7752 - val_loss: 0.4953 - val_accuracy: 0.8142 - lr: 0.0010\n",
      "Epoch 24/150\n",
      "246/246 [==============================] - 1s 4ms/step - loss: 0.5855 - accuracy: 0.7775 - val_loss: 0.5683 - val_accuracy: 0.7706 - lr: 0.0010\n",
      "Epoch 25/150\n",
      "246/246 [==============================] - 1s 4ms/step - loss: 0.5982 - accuracy: 0.7757 - val_loss: 0.5199 - val_accuracy: 0.7982 - lr: 0.0010\n",
      "Epoch 26/150\n",
      "246/246 [==============================] - 1s 4ms/step - loss: 0.5922 - accuracy: 0.7742 - val_loss: 0.4926 - val_accuracy: 0.8096 - lr: 0.0010\n",
      "Epoch 27/150\n",
      "246/246 [==============================] - 1s 4ms/step - loss: 0.5540 - accuracy: 0.7841 - val_loss: 0.5431 - val_accuracy: 0.7821 - lr: 0.0010\n",
      "Epoch 28/150\n",
      "246/246 [==============================] - 1s 4ms/step - loss: 0.5920 - accuracy: 0.7729 - val_loss: 0.4862 - val_accuracy: 0.8050 - lr: 0.0010\n",
      "Epoch 29/150\n",
      "246/246 [==============================] - 1s 4ms/step - loss: 0.5774 - accuracy: 0.7824 - val_loss: 0.4733 - val_accuracy: 0.8073 - lr: 0.0010\n",
      "Epoch 30/150\n",
      "246/246 [==============================] - 1s 4ms/step - loss: 0.5470 - accuracy: 0.7870 - val_loss: 0.4911 - val_accuracy: 0.7890 - lr: 0.0010\n",
      "Epoch 31/150\n",
      "246/246 [==============================] - 1s 4ms/step - loss: 0.5645 - accuracy: 0.7926 - val_loss: 0.4617 - val_accuracy: 0.8165 - lr: 0.0010\n",
      "Epoch 32/150\n",
      "246/246 [==============================] - 1s 4ms/step - loss: 0.5407 - accuracy: 0.7946 - val_loss: 0.4576 - val_accuracy: 0.8142 - lr: 0.0010\n",
      "Epoch 33/150\n",
      "246/246 [==============================] - 1s 4ms/step - loss: 0.5319 - accuracy: 0.7946 - val_loss: 0.4787 - val_accuracy: 0.8165 - lr: 0.0010\n",
      "Epoch 34/150\n",
      "246/246 [==============================] - 1s 4ms/step - loss: 0.5412 - accuracy: 0.7936 - val_loss: 0.4934 - val_accuracy: 0.7913 - lr: 0.0010\n",
      "Epoch 35/150\n",
      "246/246 [==============================] - 1s 4ms/step - loss: 0.5264 - accuracy: 0.7885 - val_loss: 0.4823 - val_accuracy: 0.8005 - lr: 0.0010\n",
      "Epoch 36/150\n",
      "246/246 [==============================] - 1s 4ms/step - loss: 0.5110 - accuracy: 0.8030 - val_loss: 0.5239 - val_accuracy: 0.7798 - lr: 0.0010\n",
      "Epoch 37/150\n",
      "246/246 [==============================] - 1s 5ms/step - loss: 0.5137 - accuracy: 0.8053 - val_loss: 0.4816 - val_accuracy: 0.8050 - lr: 0.0010\n",
      "Epoch 38/150\n",
      "246/246 [==============================] - 1s 5ms/step - loss: 0.5169 - accuracy: 0.7992 - val_loss: 0.4595 - val_accuracy: 0.7982 - lr: 0.0010\n",
      "Epoch 39/150\n",
      "246/246 [==============================] - 1s 6ms/step - loss: 0.5150 - accuracy: 0.8058 - val_loss: 0.4648 - val_accuracy: 0.7959 - lr: 0.0010\n",
      "Epoch 40/150\n",
      "246/246 [==============================] - 1s 5ms/step - loss: 0.4964 - accuracy: 0.8114 - val_loss: 0.4634 - val_accuracy: 0.8211 - lr: 0.0010\n",
      "Epoch 41/150\n",
      "246/246 [==============================] - 1s 5ms/step - loss: 0.4990 - accuracy: 0.8081 - val_loss: 0.4535 - val_accuracy: 0.8005 - lr: 0.0010\n",
      "Epoch 42/150\n",
      "246/246 [==============================] - 1s 5ms/step - loss: 0.4866 - accuracy: 0.8155 - val_loss: 0.4883 - val_accuracy: 0.8050 - lr: 0.0010\n",
      "Epoch 43/150\n",
      "246/246 [==============================] - 1s 4ms/step - loss: 0.5011 - accuracy: 0.8078 - val_loss: 0.4414 - val_accuracy: 0.8188 - lr: 0.0010\n",
      "Epoch 44/150\n",
      "246/246 [==============================] - 1s 4ms/step - loss: 0.4815 - accuracy: 0.8165 - val_loss: 0.4498 - val_accuracy: 0.8417 - lr: 0.0010\n",
      "Epoch 45/150\n",
      "246/246 [==============================] - 1s 4ms/step - loss: 0.5316 - accuracy: 0.7913 - val_loss: 0.4402 - val_accuracy: 0.8165 - lr: 0.0010\n",
      "Epoch 46/150\n",
      "246/246 [==============================] - 1s 4ms/step - loss: 0.4827 - accuracy: 0.8124 - val_loss: 0.4601 - val_accuracy: 0.8028 - lr: 0.0010\n",
      "Epoch 47/150\n",
      "246/246 [==============================] - 1s 4ms/step - loss: 0.5010 - accuracy: 0.8091 - val_loss: 0.4536 - val_accuracy: 0.8096 - lr: 0.0010\n",
      "Epoch 48/150\n",
      "246/246 [==============================] - 1s 4ms/step - loss: 0.4822 - accuracy: 0.8188 - val_loss: 0.4336 - val_accuracy: 0.8188 - lr: 0.0010\n",
      "Epoch 49/150\n",
      "246/246 [==============================] - 1s 4ms/step - loss: 0.4681 - accuracy: 0.8242 - val_loss: 0.4628 - val_accuracy: 0.8119 - lr: 0.0010\n",
      "Epoch 50/150\n",
      "246/246 [==============================] - 1s 4ms/step - loss: 0.4895 - accuracy: 0.8145 - val_loss: 0.4571 - val_accuracy: 0.8073 - lr: 0.0010\n",
      "Epoch 51/150\n",
      "246/246 [==============================] - 1s 4ms/step - loss: 0.4692 - accuracy: 0.8198 - val_loss: 0.4419 - val_accuracy: 0.8119 - lr: 0.0010\n",
      "Epoch 52/150\n",
      "246/246 [==============================] - 1s 4ms/step - loss: 0.4661 - accuracy: 0.8186 - val_loss: 0.4275 - val_accuracy: 0.8165 - lr: 0.0010\n",
      "Epoch 53/150\n",
      "246/246 [==============================] - 1s 4ms/step - loss: 0.4527 - accuracy: 0.8239 - val_loss: 0.4435 - val_accuracy: 0.8073 - lr: 0.0010\n",
      "Epoch 54/150\n",
      "246/246 [==============================] - 1s 4ms/step - loss: 0.4450 - accuracy: 0.8290 - val_loss: 0.4275 - val_accuracy: 0.8234 - lr: 0.0010\n",
      "Epoch 55/150\n",
      "246/246 [==============================] - 1s 4ms/step - loss: 0.4179 - accuracy: 0.8428 - val_loss: 0.4121 - val_accuracy: 0.8142 - lr: 1.0000e-04\n",
      "Epoch 56/150\n",
      "246/246 [==============================] - 1s 4ms/step - loss: 0.4073 - accuracy: 0.8486 - val_loss: 0.4146 - val_accuracy: 0.8188 - lr: 1.0000e-04\n",
      "Epoch 57/150\n",
      "246/246 [==============================] - 1s 4ms/step - loss: 0.4051 - accuracy: 0.8435 - val_loss: 0.4098 - val_accuracy: 0.8188 - lr: 1.0000e-04\n",
      "Epoch 58/150\n",
      "246/246 [==============================] - 1s 4ms/step - loss: 0.4005 - accuracy: 0.8394 - val_loss: 0.4123 - val_accuracy: 0.8257 - lr: 1.0000e-04\n",
      "Epoch 59/150\n",
      "246/246 [==============================] - 1s 4ms/step - loss: 0.3797 - accuracy: 0.8519 - val_loss: 0.4052 - val_accuracy: 0.8188 - lr: 1.0000e-04\n",
      "Epoch 60/150\n",
      "246/246 [==============================] - 1s 4ms/step - loss: 0.3873 - accuracy: 0.8471 - val_loss: 0.4078 - val_accuracy: 0.8211 - lr: 1.0000e-04\n",
      "Epoch 61/150\n",
      "246/246 [==============================] - 1s 4ms/step - loss: 0.3941 - accuracy: 0.8499 - val_loss: 0.4003 - val_accuracy: 0.8234 - lr: 1.0000e-04\n",
      "Epoch 62/150\n",
      "246/246 [==============================] - 1s 4ms/step - loss: 0.3956 - accuracy: 0.8453 - val_loss: 0.3930 - val_accuracy: 0.8257 - lr: 1.0000e-04\n",
      "Epoch 63/150\n",
      "246/246 [==============================] - 1s 4ms/step - loss: 0.3897 - accuracy: 0.8491 - val_loss: 0.3974 - val_accuracy: 0.8234 - lr: 1.0000e-04\n",
      "Epoch 64/150\n",
      "246/246 [==============================] - 1s 4ms/step - loss: 0.3912 - accuracy: 0.8481 - val_loss: 0.3877 - val_accuracy: 0.8257 - lr: 1.0000e-04\n",
      "Epoch 65/150\n",
      "246/246 [==============================] - 1s 4ms/step - loss: 0.3826 - accuracy: 0.8542 - val_loss: 0.3862 - val_accuracy: 0.8188 - lr: 1.0000e-05\n",
      "Epoch 66/150\n",
      "246/246 [==============================] - 1s 4ms/step - loss: 0.3898 - accuracy: 0.8509 - val_loss: 0.3883 - val_accuracy: 0.8303 - lr: 1.0000e-05\n",
      "Epoch 67/150\n",
      "246/246 [==============================] - 1s 5ms/step - loss: 0.3894 - accuracy: 0.8496 - val_loss: 0.3869 - val_accuracy: 0.8211 - lr: 1.0000e-05\n",
      "Epoch 68/150\n",
      "246/246 [==============================] - 1s 4ms/step - loss: 0.3893 - accuracy: 0.8509 - val_loss: 0.3874 - val_accuracy: 0.8303 - lr: 1.0000e-05\n",
      "Epoch 69/150\n",
      "246/246 [==============================] - 1s 4ms/step - loss: 0.3864 - accuracy: 0.8555 - val_loss: 0.3873 - val_accuracy: 0.8326 - lr: 1.0000e-05\n",
      "Epoch 70/150\n",
      "246/246 [==============================] - 1s 4ms/step - loss: 0.3925 - accuracy: 0.8461 - val_loss: 0.3877 - val_accuracy: 0.8303 - lr: 1.0000e-05\n",
      "Epoch 71/150\n",
      "246/246 [==============================] - 1s 4ms/step - loss: 0.3724 - accuracy: 0.8542 - val_loss: 0.3870 - val_accuracy: 0.8280 - lr: 1.0000e-05\n",
      "Epoch 72/150\n",
      "246/246 [==============================] - 1s 4ms/step - loss: 0.3859 - accuracy: 0.8507 - val_loss: 0.3892 - val_accuracy: 0.8280 - lr: 1.0000e-05\n",
      "Epoch 73/150\n",
      "246/246 [==============================] - 1s 4ms/step - loss: 0.3955 - accuracy: 0.8486 - val_loss: 0.3879 - val_accuracy: 0.8280 - lr: 1.0000e-05\n",
      "Epoch 74/150\n",
      "246/246 [==============================] - 1s 4ms/step - loss: 0.3906 - accuracy: 0.8499 - val_loss: 0.3899 - val_accuracy: 0.8280 - lr: 1.0000e-05\n",
      "Epoch 75/150\n",
      "246/246 [==============================] - 1s 4ms/step - loss: 0.3675 - accuracy: 0.8611 - val_loss: 0.3903 - val_accuracy: 0.8257 - lr: 1.0000e-06\n",
      "Epoch 76/150\n",
      "246/246 [==============================] - 1s 4ms/step - loss: 0.3703 - accuracy: 0.8581 - val_loss: 0.3898 - val_accuracy: 0.8280 - lr: 1.0000e-06\n",
      "Epoch 77/150\n",
      "246/246 [==============================] - 1s 4ms/step - loss: 0.3741 - accuracy: 0.8583 - val_loss: 0.3890 - val_accuracy: 0.8303 - lr: 1.0000e-06\n",
      "Epoch 78/150\n",
      "246/246 [==============================] - 1s 4ms/step - loss: 0.3827 - accuracy: 0.8517 - val_loss: 0.3888 - val_accuracy: 0.8326 - lr: 1.0000e-06\n",
      "Epoch 79/150\n",
      "246/246 [==============================] - 1s 5ms/step - loss: 0.3773 - accuracy: 0.8540 - val_loss: 0.3894 - val_accuracy: 0.8326 - lr: 1.0000e-06\n"
     ]
    }
   ],
   "source": [
    "epochs = 150\n",
    "\n",
    "early_stopping = EarlyStopping(monitor='val_accuracy', patience=35, restore_best_weights=True)\n",
    "reduce_lr = ReduceLROnPlateau(monitor='val_accuracy', factor = 0.1, patience = 10)\n",
    "\n",
    "history = model.fit(X_train, y_train_encoded, epochs=epochs, batch_size = 16 , validation_data=(X_val, y_val_encoded),  callbacks=[early_stopping,reduce_lr])"
   ]
  },
  {
   "cell_type": "code",
   "execution_count": 21,
   "metadata": {},
   "outputs": [
    {
     "data": {
      "image/png": "[encoded data removed]",
      "text/plain": [
       "<Figure size 1600x600 with 2 Axes>"
      ]
     },
     "metadata": {},
     "output_type": "display_data"
    }
   ],
   "source": [
    "metrics = history.history\n",
    "#print(metrics)\n",
    "plt.figure(figsize=(16,6))\n",
    "plt.subplot(1,2,1)\n",
    "plt.plot(history.epoch, metrics['loss'], metrics['val_loss'])\n",
    "plt.legend(['training loss', 'val loss'])\n",
    "#plt.ylim([0, max(plt.ylim())])\n",
    "plt.xlabel('Epoch')\n",
    "plt.ylabel('Loss [CrossEntropy]')\n",
    "\n",
    "plt.subplot(1,2,2)\n",
    "plt.plot(history.epoch, 100*np.array(metrics['accuracy']), 100*np.array(metrics['val_accuracy']))\n",
    "plt.legend(['training accuracy', 'val accuracy'])\n",
    "plt.ylim([0, 100])\n",
    "plt.xlabel('Epoch')\n",
    "plt.ylabel('Accuracy [%]')\n",
    "\n",
    "plt.savefig('Loss-Acc-CM-Simu-CNN-DatasetAll.pdf')"
   ]
  },
  {
   "cell_type": "code",
   "execution_count": 22,
   "metadata": {},
   "outputs": [
    {
     "name": "stdout",
     "output_type": "stream",
     "text": [
      "35/35 [==============================] - 0s 3ms/step - loss: 0.5291 - accuracy: 0.8055\n"
     ]
    },
    {
     "data": {
      "text/plain": [
       "[0.5291106104850769, 0.805504560470581]"
      ]
     },
     "execution_count": 22,
     "metadata": {},
     "output_type": "execute_result"
    }
   ],
   "source": [
    "y_test_encoded = ohe.transform(y_test.reshape(-1,1))\n",
    "\n",
    "model.evaluate(X_test, y_test_encoded)"
   ]
  },
  {
   "cell_type": "code",
   "execution_count": 23,
   "metadata": {},
   "outputs": [],
   "source": [
    "# [5] Save the trained model, eventually the pca.\n",
    "filename = 'CNN-DatasetAll.pickle'\n",
    "file_ohe_encoder = 'ohe.pickle'\n",
    "\n",
    "#pickle.dump(model, open(model_dir+filename, 'wb'))\n",
    "#pickle.dump(ohe, open(model_dir+file_ohe_encoder, 'wb'))"
   ]
  },
  {
   "cell_type": "code",
   "execution_count": 24,
   "metadata": {},
   "outputs": [],
   "source": [
    "import matplotlib.pyplot as plt\n",
    "import numpy as np\n",
    "\n",
    "\"For confusion matrix plot\"\n",
    "from seaborn import heatmap\n",
    "from sklearn.metrics import confusion_matrix\n",
    "\n",
    "# -----------------------------------------------------------------------------\n",
    "\"\"\"\n",
    "Synthesis of the functions in :\n",
    "\n",
    "- show_confusion_matrix : plot confusion matrix.\n",
    "- plot_audio : Plot an audiosignal in time and frequency\n",
    "- plot_specgram : Plot a spectrogram (2D matrix)\n",
    "- plot_decision_boundary : Plot decision boundary of a classifier.\n",
    "\"\"\"\n",
    "# -----------------------------------------------------------------------------\n",
    "\n",
    "\n",
    "def show_confusion_matrix(y_predict, y_true, classnames, title=\"\", saveFig = False, saveAs=''):\n",
    "    \"\"\"\n",
    "    From target labels and prediction arrays, sort them appropriately and plot confusion matrix.\n",
    "    The arrays can contain either ints or str quantities, as long as classnames contains all the elements present in them.\n",
    "    \"\"\"\n",
    "    # # Reorder the prediction array\n",
    "    # labels = np.zeros_like(y_predict)\n",
    "    # for i in np.arange(len(classnames)):\n",
    "    #     mask = [None]*len(y_predict)\n",
    "    #     for j in np.arange(len(mask)):\n",
    "    #         mask[j] = (y_predict[j] == classnames[i])\n",
    "    #     labels[mask] = mode(y_true2[mask])[0]\n",
    "    \n",
    "\n",
    "    plt.figure(figsize=(5, 5))\n",
    "    confmat = confusion_matrix(y_true, y_predict)\n",
    "    heatmap(\n",
    "        confmat.T,\n",
    "        square=True,\n",
    "        annot=True,\n",
    "        fmt=\"d\",\n",
    "        cbar=False,\n",
    "        xticklabels=classnames,\n",
    "        yticklabels=classnames,\n",
    "        ax=plt.gca(),\n",
    "    )\n",
    "    plt.xlabel(\"True label\")\n",
    "    plt.ylabel(\"Predicted label\")\n",
    "    plt.title(title)\n",
    "\n",
    "    if(saveFig):\n",
    "        plt.savefig(saveAs)\n",
    "    \n",
    "    plt.show()\n",
    "    return None"
   ]
  },
  {
   "cell_type": "code",
   "execution_count": 25,
   "metadata": {},
   "outputs": [
    {
     "name": "stdout",
     "output_type": "stream",
     "text": [
      "35/35 [==============================] - 0s 2ms/step\n",
      "(1090, 5)\n",
      "Accuracy of CNN with fixed train/validation sets : 80.6%\n"
     ]
    },
    {
     "data": {
      "image/png": "[encoded data removed]",
      "text/plain": [
       "<Figure size 500x500 with 1 Axes>"
      ]
     },
     "metadata": {},
     "output_type": "display_data"
    }
   ],
   "source": [
    "# [6] Evaluate the model.\n",
    "prediction_CNN = model.predict(X_test) # all the proba for each class\n",
    "\n",
    "def binarizer(prediction_CNN): \n",
    "    pred = np.zeros(prediction_CNN.shape)\n",
    "    print(pred.shape)\n",
    "    for i, line in enumerate(prediction_CNN): \n",
    "        idx = np.argmax(line)\n",
    "        pred[i,idx] = 1\n",
    "    return pred\n",
    "    \n",
    "\n",
    "out = binarizer(prediction_CNN)\n",
    "\n",
    "predicted_classes = np.argmax(prediction_CNN, axis=1) # the most probable class\n",
    "predicted_classes = ohe.inverse_transform(out)\n",
    "\n",
    "\n",
    "accuracy_CNN = accuracy(predicted_classes.squeeze(), y_test)\n",
    "\n",
    "print('Accuracy of CNN with fixed train/validation sets : {:.1f}%'.format(100*accuracy_CNN))\n",
    "show_confusion_matrix (predicted_classes, y_test, classnames, saveFig = True, saveAs='CM-Simu-CNN-DatasetAll.pdf')"
   ]
  },
  {
   "cell_type": "code",
   "execution_count": null,
   "metadata": {},
   "outputs": [],
   "source": []
  },
  {
   "cell_type": "code",
   "execution_count": null,
   "metadata": {},
   "outputs": [],
   "source": []
  }
 ],
 "metadata": {
  "kernelspec": {
   "display_name": "Python 3 (ipykernel)",
   "language": "python",
   "name": "python3"
  },
  "language_info": {
   "codemirror_mode": {
    "name": "ipython",
    "version": 3
   },
   "file_extension": ".py",
   "mimetype": "text/x-python",
   "name": "python",
   "nbconvert_exporter": "python",
   "pygments_lexer": "ipython3",
   "version": "3.8.10"
  }
 },
 "nbformat": 4,
 "nbformat_minor": 4
}
